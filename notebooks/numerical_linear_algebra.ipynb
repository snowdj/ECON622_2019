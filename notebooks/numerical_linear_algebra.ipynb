{
  "cells": [
    {
      "cell_type": "markdown",
      "source": [
        "\n",
        "<a id='numerical-linear-algebra'></a>"
      ],
      "metadata": {}
    },
    {
      "cell_type": "markdown",
      "source": [
        "# Numerical Linear Algebra and Factorizations"
      ],
      "metadata": {}
    },
    {
      "cell_type": "markdown",
      "source": [
        "## Contents\n",
        "\n",
        "- [Numerical Linear Algebra and Factorizations](#Numerical-Linear-Algebra-and-Factorizations)  \n",
        "  - [Overview](#Overview)  \n",
        "  - [Factorizations](#Factorizations)  \n",
        "  - [Continuous Time Markov Chains (CTMC)](#Continuous-Time-Markov-Chains-(CTMC))  \n",
        "  - [Banded Matrices](#Banded-Matrices)  \n",
        "  - [Implementation Details and Performance](#Implementation-Details-and-Performance)  \n",
        "  - [Exercises](#Exercises)  "
      ],
      "metadata": {}
    },
    {
      "cell_type": "markdown",
      "source": [
        "> You cannot learn too much linear algebra. – Benedict Gross"
      ],
      "metadata": {}
    },
    {
      "cell_type": "markdown",
      "source": [
        "## Overview\n",
        "\n",
        "In this lecture, we examine the structure of matrices and linear operators (e.g., dense, sparse, symmetric, tridiagonal, banded) and\n",
        "discuss how it can be exploited to radically increase the performance of solving large problems.\n",
        "\n",
        "We build on applications discussed in previous lectures: [linear algebra](linear_algebra.ipynb), [orthogonal projections](orth_proj.ipynb), and [Markov chains](finite_markov.ipynb).\n",
        "\n",
        "The methods in this section are called direct methods, and they are qualitatively similar to performing Gaussian elimination to factor matrices and solve systems of equations.  In [iterative methods and sparsity](iterative_methods_sparsity.ipynb) we examine a different approach, using iterative algorithms, where matrices can be thought up more generally as linear operators.\n",
        "\n",
        "The list of specialized packages for these tasks is enormous and growing, but some of the important organizations to\n",
        "look at are [JuliaMatrices](https://github.com/JuliaMatrices) , [JuliaSparse](https://github.com/JuliaSparse), and [JuliaMath](https://github.com/JuliaMath)\n",
        "\n",
        "*NOTE*: You may wish to review multiple-dispatch and generic programming in  introduction to types, and consider further study on [generic programming](../more_julia/generic_programming.ipynb).\n",
        "\n",
        "The theme of this lecture, and numerical linear algebra in general, comes down to three principles:\n",
        "\n",
        "1. **identify structure** (e.g. [symmetric, sparse, diagonal,etc.](https://docs.julialang.org/en/v1/stdlib/LinearAlgebra/index.html#Special-matrices-1)) of matrices in order to use **specialized algorithms**  \n",
        "1. **do not lose structure** by applying the wrong linear algebra operations at the wrong times (e.g. sparse matrix becoming dense)  \n",
        "1. understand the **computational complexity** of each algorithm, given the structure  "
      ],
      "metadata": {}
    },
    {
      "cell_type": "markdown",
      "source": [
        "### Setup"
      ],
      "metadata": {}
    },
    {
      "cell_type": "code",
      "source": [
        "using LinearAlgebra, Statistics, BenchmarkTools, SparseArrays, Random\n",
        "Random.seed!(42);  # seed random numbers for reproducibility"
      ],
      "outputs": [],
      "execution_count": 1,
      "metadata": {
        "hide-output": true
      }
    },
    {
      "cell_type": "markdown",
      "source": [
        "### Computational Complexity\n",
        "\n",
        "Ask yourself whether the following is a **computationally expensive** operation as the matrix **size increases**\n",
        "\n",
        "- Multiplying two matrices?  \n",
        "  \n",
        "  - *Answer*: It depends.  Multiplying 2 diagonal matrices is trivial.  \n",
        "  \n",
        "- Solving a linear system of equations?  \n",
        "  \n",
        "  - *Answer*: It depends.  If the matrix is the identity, the solution is the vector itself.  \n",
        "  \n",
        "- Finding the eigenvalues of a matrix?  \n",
        "  \n",
        "  - *Answer*: It depends.  The eigenvalues of a triangular matrix are the diagonal.  \n",
        "  \n",
        "\n",
        "\n",
        "As the goal of this section is to move towards numerical methods with large systems, we need to understand how well algorithms scale with the size of matrices/vectors/etc.  This is known as [computational complexity](https://en.wikipedia.org/wiki/Computational_complexity).  As we saw in the answer to the questions above, the algorithm - and hence the computational complexity - changes based on matrix structure.\n",
        "\n",
        "While this notion of complexity can work at various levels such as the number of [significant digits](https://en.wikipedia.org/wiki/Computational_complexity_of_mathematical_operations#Arithmetic_functions) for basic mathematical operations, the amount of memory and storage required, or the amount of time - but we will typically focus on the time-complexity.\n",
        "\n",
        "For time-complexity, the size $ N $ is usually the dimensionality of the problem, although occasionally the key will be the number of non-zeros in the matrix or width of bands.  For our applications, time-complexity is best thought of as the number of floating point operations (e.g. add, multiply, etc.) required."
      ],
      "metadata": {}
    },
    {
      "cell_type": "markdown",
      "source": [
        "#### Notation\n",
        "\n",
        "Complexity of algorithms is typically written in [Big O](https://en.wikipedia.org/wiki/Big_O_notation) notation which provides bounds on the scaling.\n",
        "\n",
        "Formally, if the number of operations required for a problem size $ N $ is $ f(N) $, we  can write this as $ f(N) = O(g(N)) $ for some $ g(N) $ - typically a polynomial.\n",
        "\n",
        "The interpretation is that there exists some constants $ M $ and $ N_0 $ such that\n",
        "\n",
        "$$\n",
        "f(N) \\leq M g(N), \\text{ for } N > N_0\n",
        "$$\n",
        "\n",
        "For example, the complexity of finding an LU Decomposition of a dense matrix is $ O(N^3) $ which should be read as there being a constant where\n",
        "eventually the number of floating point operations required decompose a matrix of size $ N\\times N $ grows cubically.\n",
        "\n",
        "Keep in mind that these are asymptotic results intended to understanding the scaling of the problem, and the constant can matter for a given\n",
        "fixed size.\n",
        "\n",
        "For example, the number of operations required for an [LU decomposition](https://en.wikipedia.org/wiki/LU_decomposition#Algorithms) of a dense $ N \\times N $ matrix $ f(N) = \\frac{2}{3} N^3 $, ignoring the $ N^2 $ and lower terms.  Other methods of solving a linear system may have different constants of proportionality, even if they have the same scaling $ O(N^3) $."
      ],
      "metadata": {}
    },
    {
      "cell_type": "markdown",
      "source": [
        "### Rules of Computational Complexity\n",
        "\n",
        "When combining algorithms, you will sometimes need to think through how [combining algorithms](https://en.wikipedia.org/wiki/Big_O_notation#Properties) changes complexity.  For example, if you use\n",
        "\n",
        "1. an $ O(N^3) $ operation $ P $ times, then it simply changes the constant. The complexity remains $ O(N^3) $  \n",
        "1. one $ O(N^3) $ operation and another $ O(N^2) $ one, then you take the max.  The complexity remains $ O(N^3) $  \n",
        "1. a repetition of a $ O(N) $ operation that itself uses an $ O(N) $ one, you take the product.  The complexity becomes $ O(N^2) $  \n",
        "\n",
        "\n",
        "With this, we have an important word of caution: dense matrix-multiplication is an [expensive operation](https://en.wikipedia.org/wiki/Computational_complexity_of_mathematical_operations#Matrix_algebra) for unstructured matrices, and the basic version is $ O(N^3) $.\n",
        "\n",
        "Of course, modern libraries use highly turned and [careful algorithms](https://en.wikipedia.org/wiki/Matrix_multiplication_algorithm) to multiply matrices and exploit the computer architecture, memory cache, etc., but this simply lowers the constant of proportionality and they remain $ O(N^3) $.\n",
        "\n",
        "A consequence is that, since many algorithms require matrix-matrix multiplication, it is often not possible to go below that order without further matrix structure.\n",
        "\n",
        "That is, changing the constant of proportionality for a given size can help, but in order to achieve higher scaling you need to identify matrix structure (e.g. tridigonal, sparse, etc.) and ensure your operations do not lose it."
      ],
      "metadata": {}
    },
    {
      "cell_type": "markdown",
      "source": [
        "### Losing Structure\n",
        "\n",
        "As a first example of a structured matrix, consider a [sparse arrays](https://docs.julialang.org/en/v1/stdlib/SparseArrays/index.html)"
      ],
      "metadata": {}
    },
    {
      "cell_type": "code",
      "source": [
        "A = sprand(10, 10, 0.45)  # random sparse 10x10, 45 percent filled with non-zeros\n",
        "\n",
        "@show nnz(A)  # counts the number of non-zeros\n",
        "invA = sparse(inv(Array(A)))  # Julia won't invert sparse so convert to dense with Array.\n",
        "@show nnz(invA);"
      ],
      "outputs": [
        {
          "output_type": "stream",
          "name": "stdout",
          "text": [
            "nnz(A) = 47\n",
            "nnz(invA) = 100\n"
          ]
        }
      ],
      "execution_count": 2,
      "metadata": {
        "hide-output": false
      }
    },
    {
      "cell_type": "markdown",
      "source": [
        "This increase from less than 50 to 100 percent dense demonstrates that significant sparsity can be lost when calculating an inverse.\n",
        "\n",
        "The results can be even more extreme.  Consider a tridiagonal matrix of size $ N \\times N $\n",
        "that might come out of a Markov Chain or discretization  of a diffusion process,"
      ],
      "metadata": {}
    },
    {
      "cell_type": "code",
      "source": [
        "N = 5\n",
        "A = Tridiagonal([fill(0.1, N-2); 0.2], fill(0.8, N), [0.2; fill(0.1, N-2);])"
      ],
      "outputs": [
        {
          "output_type": "execute_result",
          "execution_count": 3,
          "data": {
            "text/plain": [
              "5×5 Tridiagonal{Float64,Array{Float64,1}}:\n",
              " 0.8  0.2   ⋅    ⋅    ⋅ \n",
              " 0.1  0.8  0.1   ⋅    ⋅ \n",
              "  ⋅   0.1  0.8  0.1   ⋅ \n",
              "  ⋅    ⋅   0.1  0.8  0.1\n",
              "  ⋅    ⋅    ⋅   0.2  0.8"
            ]
          },
          "metadata": {}
        }
      ],
      "execution_count": 3,
      "metadata": {
        "hide-output": false
      }
    },
    {
      "cell_type": "markdown",
      "source": [
        "The number of non-zeros here is approximately $ 3 N $, linear, which scales well for huge matrices into the millions or billions\n",
        "\n",
        "But consider the inverse"
      ],
      "metadata": {}
    },
    {
      "cell_type": "code",
      "source": [
        "inv(A)"
      ],
      "outputs": [
        {
          "output_type": "execute_result",
          "execution_count": 4,
          "data": {
            "text/plain": [
              "5×5 Array{Float64,2}:\n",
              "  1.29099      -0.327957     0.0416667  -0.00537634   0.000672043\n",
              " -0.163978      1.31183     -0.166667    0.0215054   -0.00268817 \n",
              "  0.0208333    -0.166667     1.29167    -0.166667     0.0208333  \n",
              " -0.00268817    0.0215054   -0.166667    1.31183     -0.163978   \n",
              "  0.000672043  -0.00537634   0.0416667  -0.327957     1.29099    "
            ]
          },
          "metadata": {}
        }
      ],
      "execution_count": 4,
      "metadata": {
        "hide-output": false
      }
    },
    {
      "cell_type": "markdown",
      "source": [
        "Now, the matrix is fully dense and has $ N^2 $ nonzeros.\n",
        "\n",
        "This also applies to the $ A' A $ operation in the normal equations of linear-least squares."
      ],
      "metadata": {}
    },
    {
      "cell_type": "code",
      "source": [
        "A = sprand(20, 21, 0.3)\n",
        "@show nnz(A)/20^2\n",
        "@show nnz(A'*A)/21^2;"
      ],
      "outputs": [
        {
          "output_type": "stream",
          "name": "stdout",
          "text": [
            "nnz(A) / 20 ^ 2 = 0.2825\n",
            "nnz(A' * A) / 21 ^ 2 = 0.800453514739229\n"
          ]
        }
      ],
      "execution_count": 5,
      "metadata": {
        "hide-output": false
      }
    },
    {
      "cell_type": "markdown",
      "source": [
        "While there is some variation based on the randoms chosen, we see that a 30 percent dense matrix becomes almost full dense\n",
        "after the product is taken.\n",
        "\n",
        "*Sparsity/Structure is not just for storage*:  While we have been emphasizing counting the non-zeros as a useful heuristic, the primary reason to maintain structure\n",
        "and sparsity is not for using less memory to store the matrices.\n",
        "\n",
        "Size can sometimes become important (e.g. a 1 million by 1 million tridiagonal matrix needs to store 3 million numbers (i.e, about 6MB of memory), where a dense one requires 1 trillion (i.e., about 1TB of memory).\n",
        "\n",
        "But, as we will see, the main purpose of considering sparsity and matrix structure is that it enables specialized algorithms which typically\n",
        "have a lower-computational order than unstructured dense, or even an unstructured sparse operations.\n",
        "\n",
        "First, create convenient functions for benchmarking which displays the type"
      ],
      "metadata": {}
    },
    {
      "cell_type": "code",
      "source": [
        "using BenchmarkTools\n",
        "function benchmark_solve(A, b)\n",
        "    println(\"A\\\\b for typeof(A) = $(string(typeof(A)))\")\n",
        "    @btime $A \\ $b\n",
        "end"
      ],
      "outputs": [
        {
          "output_type": "execute_result",
          "execution_count": 6,
          "data": {
            "text/plain": [
              "benchmark_solve (generic function with 1 method)"
            ]
          },
          "metadata": {}
        }
      ],
      "execution_count": 6,
      "metadata": {
        "hide-output": false
      }
    },
    {
      "cell_type": "markdown",
      "source": [
        "Then, take away structure to see the impact on performance,"
      ],
      "metadata": {}
    },
    {
      "cell_type": "code",
      "source": [
        "N = 1000\n",
        "b = rand(N)\n",
        "A = Tridiagonal([fill(0.1, N-2); 0.2], fill(0.8, N), [0.2; fill(0.1, N-2);])\n",
        "A_sparse = sparse(A)\n",
        "A_dense = Array(A)\n",
        "\n",
        "# benchmark solution to system A x = b\n",
        "benchmark_solve(A, b)\n",
        "benchmark_solve(A_sparse, b)\n",
        "benchmark_solve(A_dense, b);"
      ],
      "outputs": [
        {
          "output_type": "stream",
          "name": "stdout",
          "text": [
            "A\\b for typeof(A) = Tridiagonal{Float64,Array{Float64,1}}\n",
            "  28.199 μs (9 allocations: 47.75 KiB)\n",
            "A\\b for typeof(A) = SparseMatrixCSC{Float64,Int64}\n",
            "  789.899 μs (69 allocations: 1.06 MiB)\n",
            "A\\b for typeof(A) = Array{Float64,2}\n",
            "  25.725 ms (5 allocations: 7.65 MiB)\n"
          ]
        }
      ],
      "execution_count": 7,
      "metadata": {
        "hide-output": false
      }
    },
    {
      "cell_type": "markdown",
      "source": [
        "This example shows what is at stake:  using a structured tridiagonal may be 10-20x faster than using a sparse matrix which is 100x faster then\n",
        "using a dense matrix.\n",
        "\n",
        "In fact, the difference becomes more extreme as the matrices grow.  Solving a tridiagonal system is $ O(N) $ while that of a dense matrix without any structure is $ O(N^3) $.  The complexity of a sparse solution is more complicated, and scales in part by the `nnz(N)`, i.e. the number of nonzeros."
      ],
      "metadata": {}
    },
    {
      "cell_type": "markdown",
      "source": [
        "### Matrix Multiplication\n",
        "\n",
        "Why we write matrix multiplications in our algebra with abandon, in practice the operation scales very poorly without any matrix structure.\n",
        "\n",
        "Matrix multiplication is so important to modern computers that the constant of scaling in front of the scaling has been radically reduced\n",
        "when using a proper package, but the order is still $ O(N^3) $ in practice.\n",
        "\n",
        "Sparse matrix multiplication, on the other hand, is $ O(N M_A M_B) $ where $ M_A $ are the number of nonzeros per row of $ A $ and $ B $ are the number of non-zeros per column of $ B $.\n",
        "\n",
        "By the rules of computational order, that means any algorithm requiring a matrix multiplication of dense matrices requires at least $ O(N^3) $ operation.\n",
        "\n",
        "The other important question is what is the structure of the resulting matrix.  For example, multiplying an upper triangular by a lower triangular"
      ],
      "metadata": {}
    },
    {
      "cell_type": "code",
      "source": [
        "N = 5\n",
        "U = UpperTriangular(rand(N,N))"
      ],
      "outputs": [
        {
          "output_type": "execute_result",
          "execution_count": 8,
          "data": {
            "text/plain": [
              "5×5 UpperTriangular{Float64,Array{Float64,2}}:\n",
              " 0.299976  0.176934  0.0608682  0.20465   0.409653 \n",
              "  ⋅        0.523923  0.127154   0.512531  0.235328 \n",
              "  ⋅         ⋅        0.600588   0.682868  0.330638 \n",
              "  ⋅         ⋅         ⋅         0.345419  0.0312986\n",
              "  ⋅         ⋅         ⋅          ⋅        0.471043 "
            ]
          },
          "metadata": {}
        }
      ],
      "execution_count": 8,
      "metadata": {
        "hide-output": false
      }
    },
    {
      "cell_type": "code",
      "source": [
        "L = U'"
      ],
      "outputs": [
        {
          "output_type": "execute_result",
          "execution_count": 9,
          "data": {
            "text/plain": [
              "5×5 Adjoint{Float64,UpperTriangular{Float64,Array{Float64,2}}}:\n",
              " 0.299976   0.0       0.0       0.0        0.0     \n",
              " 0.176934   0.523923  0.0       0.0        0.0     \n",
              " 0.0608682  0.127154  0.600588  0.0        0.0     \n",
              " 0.20465    0.512531  0.682868  0.345419   0.0     \n",
              " 0.409653   0.235328  0.330638  0.0312986  0.471043"
            ]
          },
          "metadata": {}
        }
      ],
      "execution_count": 9,
      "metadata": {
        "hide-output": false
      }
    },
    {
      "cell_type": "markdown",
      "source": [
        "But the multiplication is fully dense (e.g. think of a cholesky multiplied by itself to produce a covariance matrix)"
      ],
      "metadata": {}
    },
    {
      "cell_type": "code",
      "source": [
        "L * U"
      ],
      "outputs": [
        {
          "output_type": "execute_result",
          "execution_count": 10,
          "data": {
            "text/plain": [
              "5×5 Array{Float64,2}:\n",
              " 0.0899855  0.0530758  0.018259   0.0613901  0.122886\n",
              " 0.0530758  0.305801   0.0773883  0.304736   0.195775\n",
              " 0.018259   0.0773883  0.380579   0.487749   0.253435\n",
              " 0.0613901  0.304736   0.487749   0.890193   0.441042\n",
              " 0.122886   0.195775   0.253435   0.441042   0.555378"
            ]
          },
          "metadata": {}
        }
      ],
      "execution_count": 10,
      "metadata": {
        "hide-output": false
      }
    },
    {
      "cell_type": "markdown",
      "source": [
        "On the other hand, a tridiagonal times a diagonal is still a tridiagonal - and can use specialized $ O(N) $ algorithms."
      ],
      "metadata": {}
    },
    {
      "cell_type": "code",
      "source": [
        "A = Tridiagonal([fill(0.1, N-2); 0.2], fill(0.8, N), [0.2; fill(0.1, N-2);])\n",
        "D = Diagonal(rand(N))\n",
        "D * A"
      ],
      "outputs": [
        {
          "output_type": "execute_result",
          "execution_count": 11,
          "data": {
            "text/plain": [
              "5×5 Tridiagonal{Float64,Array{Float64,1}}:\n",
              " 0.0156225  0.00390564   ⋅           ⋅          ⋅        \n",
              " 0.0436677  0.349342    0.0436677    ⋅          ⋅        \n",
              "  ⋅         0.0213158   0.170526    0.0213158   ⋅        \n",
              "  ⋅          ⋅          0.00790566  0.0632453  0.00790566\n",
              "  ⋅          ⋅           ⋅          0.19686    0.787442  "
            ]
          },
          "metadata": {}
        }
      ],
      "execution_count": 11,
      "metadata": {
        "hide-output": false
      }
    },
    {
      "cell_type": "markdown",
      "source": [
        "## Factorizations\n",
        "\n",
        "When you tell a numerical analyst you are solving a linear system using direct methods, their first question is “which factorization?”.\n",
        "\n",
        "Just as you can factorize a number (e.g. $ 6 = 3 \\times 2 $) you can factorize a matrix as the product of other, more\n",
        "convenient matrices (e.g. $ A = L U $ or $ A = Q R $ where $ L, U, Q, $ and $ R $ have properties such as being triangular or [orthogonal](https://en.wikipedia.org/wiki/Orthogonal_matrix) )."
      ],
      "metadata": {}
    },
    {
      "cell_type": "markdown",
      "source": [
        "### Inverting Matrices\n",
        "\n",
        "On paper, since the [Invertible Matrix Theorem](https://en.wikipedia.org/wiki/Invertible_matrix#The_invertible_matrix_theorem) tells us a unique solution is\n",
        "equivalent to $ A $ being invertible, we often write the solution to $ A x = b $ is\n",
        "\n",
        "$$\n",
        "x = A^{-1} b\n",
        "$$\n",
        "\n",
        "What if we do not (directly) use a factorization?\n",
        "\n",
        "Take a simple linear system of a dense matrix,"
      ],
      "metadata": {}
    },
    {
      "cell_type": "code",
      "source": [
        "N = 4\n",
        "A = rand(N,N)\n",
        "b = rand(N)"
      ],
      "outputs": [
        {
          "output_type": "execute_result",
          "execution_count": 12,
          "data": {
            "text/plain": [
              "4-element Array{Float64,1}:\n",
              " 0.5682240701809245 \n",
              " 0.40245385575255055\n",
              " 0.1825995192132288 \n",
              " 0.06160128039631019"
            ]
          },
          "metadata": {}
        }
      ],
      "execution_count": 12,
      "metadata": {
        "hide-output": false
      }
    },
    {
      "cell_type": "markdown",
      "source": [
        "On paper, we to solve for $ A x = b $ by inverting the matrix,"
      ],
      "metadata": {}
    },
    {
      "cell_type": "code",
      "source": [
        "x = inv(A) * b"
      ],
      "outputs": [
        {
          "output_type": "execute_result",
          "execution_count": 13,
          "data": {
            "text/plain": [
              "4-element Array{Float64,1}:\n",
              " -0.03390698404076775\n",
              "  0.7988200873225004 \n",
              "  0.9963711951331815 \n",
              " -0.927635209850046  "
            ]
          },
          "metadata": {}
        }
      ],
      "execution_count": 13,
      "metadata": {
        "hide-output": false
      }
    },
    {
      "cell_type": "markdown",
      "source": [
        "As we will see throughout, inverting matrices should be used for theory, not for code.  The classic advice that you should [never invert a matrix](https://www.johndcook.com/blog/2010/01/19/dont-invert-that-matrix) may be [slightly exaggerated](https://arxiv.org/abs/1201.6035), but is generally good advice.\n",
        "\n",
        "Solving a system by inverting a matrix is always a little slower, potentially less accurate, and will often lose crucial sparsity compared to using factorizations.  Moreover, the methods used by libraries to invert matrices typically calculate the same factorizations used for computing a system of equations.\n",
        "\n",
        "Even if you need to solve a system with the same matrix multiple times, you are better off factoring the matrix and using the solver rather than calculating an inverse."
      ],
      "metadata": {}
    },
    {
      "cell_type": "code",
      "source": [
        "N = 100\n",
        "A = rand(N,N)\n",
        "M = 30\n",
        "B = rand(N,M)\n",
        "function solve_inverting(A, B)\n",
        "    A_inv = inv(A)\n",
        "    X = similar(B)\n",
        "    for i in 1:size(B,2)\n",
        "        X[:,i] = A_inv * B[:,i]\n",
        "    end\n",
        "    return X\n",
        "end\n",
        "\n",
        "function solve_factoring(A, B)\n",
        "    X = similar(B)\n",
        "    A = factorize(A)\n",
        "    for i in 1:size(B,2)\n",
        "        X[:,i] = A \\ B[:,i]\n",
        "    end\n",
        "    return X\n",
        "end\n",
        "\n",
        "\n",
        "\n",
        "@btime solve_inverting($A, $B)\n",
        "@btime solve_factoring($A, $B)\n",
        "\n",
        "# even better, use built-in feature for multiple RHS\n",
        "@btime $A \\ $B;"
      ],
      "outputs": [
        {
          "output_type": "stream",
          "name": "stdout",
          "text": [
            "  6.394 ms (68 allocations: 205.28 KiB)\n",
            "  2.650 ms (96 allocations: 155.59 KiB)\n",
            "  2.439 ms (6 allocations: 102.63 KiB)\n"
          ]
        }
      ],
      "execution_count": 14,
      "metadata": {
        "hide-output": false
      }
    },
    {
      "cell_type": "markdown",
      "source": [
        "### Triangular Matrices and Back/Forward Substitution\n",
        "\n",
        "Some matrices are already in a convenient form and require no further factoring.\n",
        "\n",
        "For example, consider solving a system with an `UpperTriangular` matrix,"
      ],
      "metadata": {}
    },
    {
      "cell_type": "code",
      "source": [
        "b = [1.0, 2.0, 3.0]\n",
        "U = UpperTriangular([1.0 2.0 3.0; 0.0 5.0 6.0; 0.0 0.0 9.0])"
      ],
      "outputs": [
        {
          "output_type": "execute_result",
          "execution_count": 15,
          "data": {
            "text/plain": [
              "3×3 UpperTriangular{Float64,Array{Float64,2}}:\n",
              " 1.0  2.0  3.0\n",
              "  ⋅   5.0  6.0\n",
              "  ⋅    ⋅   9.0"
            ]
          },
          "metadata": {}
        }
      ],
      "execution_count": 15,
      "metadata": {
        "hide-output": false
      }
    },
    {
      "cell_type": "markdown",
      "source": [
        "This system is especially easy to solve using [back-substitution](https://en.wikipedia.org/wiki/Triangular_matrix#Forward_and_back_substitution).  In particular, $ x_3 = b_3 / U_{33}, x_2 = (b_2 - x_3 U_{23})/U_{22} $, etc."
      ],
      "metadata": {}
    },
    {
      "cell_type": "code",
      "source": [
        "U \\ b"
      ],
      "outputs": [
        {
          "output_type": "execute_result",
          "execution_count": 16,
          "data": {
            "text/plain": [
              "3-element Array{Float64,1}:\n",
              " 0.0               \n",
              " 0.0               \n",
              " 0.3333333333333333"
            ]
          },
          "metadata": {}
        }
      ],
      "execution_count": 16,
      "metadata": {
        "hide-output": false
      }
    },
    {
      "cell_type": "markdown",
      "source": [
        "A `LowerTriangular` has similar properties and can be solved with forward-substitution.\n",
        "\n",
        "The computational order of back-substitution and forward-substitution is $ O(N^2) $ for dense matrices.  In fact, the triangular structure is often a target of factorizations in order to exploit those efficient $ O(N^2) $ algorithms.\n",
        "\n",
        "\n",
        "<a id='jl-decomposition'></a>"
      ],
      "metadata": {}
    },
    {
      "cell_type": "markdown",
      "source": [
        "### LU Decomposition\n",
        "\n",
        "The $ LU $ decompositions finds a lower triangular $ L $ and upper triangular $ U $ such that $ L U = A $.\n",
        "\n",
        "For a general dense matrix without any other structure (i.e. not known to be symmetric, tridiagonal, etc.) this is the standard approach to solve a system and exploit the speed of backward and forward substitution using the factorization.\n",
        "\n",
        "The computational order of LU decomposition itself for a dense matrix is $ O(N^3) $ - the same as Gaussian elimination, but it tends\n",
        "to have a better constant term than others (e.g. half the number of operations of the QR).  For structured matrices\n",
        "or sparse ones, that order drops.\n",
        "\n",
        "We can see which algorithm Julia will use for the `\\` operator by looking at the `factorize` function for a given\n",
        "matrix."
      ],
      "metadata": {}
    },
    {
      "cell_type": "code",
      "source": [
        "N = 4\n",
        "A = rand(N,N)\n",
        "b = rand(N)\n",
        "\n",
        "Af = factorize(A)  # chooses the right factorization, LU here"
      ],
      "outputs": [
        {
          "output_type": "execute_result",
          "execution_count": 17,
          "data": {
            "text/plain": [
              "LU{Float64,Array{Float64,2}}\n",
              "L factor:\n",
              "4×4 Array{Float64,2}:\n",
              " 1.0       0.0       0.0       0.0\n",
              " 0.563082  1.0       0.0       0.0\n",
              " 0.730109  0.912509  1.0       0.0\n",
              " 0.114765  0.227879  0.115228  1.0\n",
              "U factor:\n",
              "4×4 Array{Float64,2}:\n",
              " 0.79794  0.28972   0.765939   0.496278\n",
              " 0.0      0.82524   0.23962   -0.130989\n",
              " 0.0      0.0      -0.447888   0.374303\n",
              " 0.0      0.0       0.0        0.725264"
            ]
          },
          "metadata": {}
        }
      ],
      "execution_count": 17,
      "metadata": {
        "hide-output": false
      }
    },
    {
      "cell_type": "markdown",
      "source": [
        "In this case, it provides an $ L $ and $ U $ factorization (with [pivoting](https://en.wikipedia.org/wiki/LU_decomposition#LU_factorization_with_full_pivoting) ).\n",
        "\n",
        "With the factorization complete, we can solve different `b` right hand sides"
      ],
      "metadata": {}
    },
    {
      "cell_type": "code",
      "source": [
        "Af \\ b"
      ],
      "outputs": [
        {
          "output_type": "execute_result",
          "execution_count": 18,
          "data": {
            "text/plain": [
              "4-element Array{Float64,1}:\n",
              " -0.4984260549573151 \n",
              " -0.11835721499695559\n",
              "  1.5055538550184813 \n",
              "  0.07694455957797534"
            ]
          },
          "metadata": {}
        }
      ],
      "execution_count": 18,
      "metadata": {
        "hide-output": false
      }
    },
    {
      "cell_type": "code",
      "source": [
        "b2 = rand(N)\n",
        "Af \\ b2"
      ],
      "outputs": [
        {
          "output_type": "execute_result",
          "execution_count": 19,
          "data": {
            "text/plain": [
              "4-element Array{Float64,1}:\n",
              " -0.6456780666059366 \n",
              " -0.26015157376547593\n",
              "  1.1168895662966312 \n",
              "  0.5405293106660054 "
            ]
          },
          "metadata": {}
        }
      ],
      "execution_count": 19,
      "metadata": {
        "hide-output": false
      }
    },
    {
      "cell_type": "markdown",
      "source": [
        "This decomposition also includes a $ P $ is a [permutation matrix](https://en.wikipedia.org/wiki/Permutation_matrix) such\n",
        "that $ P A = L U $."
      ],
      "metadata": {}
    },
    {
      "cell_type": "code",
      "source": [
        "Af.P * A ≈ Af.L * Af.U"
      ],
      "outputs": [
        {
          "output_type": "execute_result",
          "execution_count": 20,
          "data": {
            "text/plain": [
              "true"
            ]
          },
          "metadata": {}
        }
      ],
      "execution_count": 20,
      "metadata": {
        "hide-output": false
      }
    },
    {
      "cell_type": "markdown",
      "source": [
        "We can also directly calculate an `lu` decomposition without the pivoting,"
      ],
      "metadata": {}
    },
    {
      "cell_type": "code",
      "source": [
        "L, U = lu(A, Val(false))  # the Val(false) provides solution without permutation matrices"
      ],
      "outputs": [
        {
          "output_type": "execute_result",
          "execution_count": 21,
          "data": {
            "text/plain": [
              "LU{Float64,Array{Float64,2}}\n",
              "L factor:\n",
              "4×4 Array{Float64,2}:\n",
              " 1.0       0.0       0.0       0.0\n",
              " 0.730109  1.0       0.0       0.0\n",
              " 0.563082  1.09588   1.0       0.0\n",
              " 0.114765  0.249728  0.122733  1.0\n",
              "U factor:\n",
              "4×4 Array{Float64,2}:\n",
              " 0.79794  0.28972    0.765939   0.496278\n",
              " 0.0      0.753039  -0.229233   0.254774\n",
              " 0.0      0.0        0.490832  -0.410191\n",
              " 0.0      0.0        0.0        0.725264"
            ]
          },
          "metadata": {}
        }
      ],
      "execution_count": 21,
      "metadata": {
        "hide-output": false
      }
    },
    {
      "cell_type": "markdown",
      "source": [
        "And we can verify the decomposition"
      ],
      "metadata": {}
    },
    {
      "cell_type": "code",
      "source": [
        "A ≈ L * U"
      ],
      "outputs": [
        {
          "output_type": "execute_result",
          "execution_count": 22,
          "data": {
            "text/plain": [
              "true"
            ]
          },
          "metadata": {}
        }
      ],
      "execution_count": 22,
      "metadata": {
        "hide-output": false
      }
    },
    {
      "cell_type": "markdown",
      "source": [
        "To see roughly how the solver works, note that we can write the problem $ A x = b $ as $ L U x = b $.  Let $ U x = y $, which breaks the\n",
        "problem into two sub-problems.\n",
        "\n",
        "$$\n",
        "\\begin{aligned}\n",
        "L y &= b\\\\\n",
        "U x &= y\n",
        "\\end{aligned}\n",
        "$$\n",
        "\n",
        "As we saw above, this is the solution to two triangular systems, which can be efficiently done with back or forward substitution in $ O(N^2) $ operations.\n",
        "\n",
        "To demonstrate this, first using"
      ],
      "metadata": {}
    },
    {
      "cell_type": "code",
      "source": [
        "y = L \\ b"
      ],
      "outputs": [
        {
          "output_type": "execute_result",
          "execution_count": 23,
          "data": {
            "text/plain": [
              "4-element Array{Float64,1}:\n",
              "  0.759344042755733  \n",
              " -0.41464678155905965\n",
              "  0.707411438334498  \n",
              "  0.05580508465599854"
            ]
          },
          "metadata": {}
        }
      ],
      "execution_count": 23,
      "metadata": {
        "hide-output": false
      }
    },
    {
      "cell_type": "code",
      "source": [
        "x = U \\ y\n",
        "x ≈ A \\ b  # Check identical"
      ],
      "outputs": [
        {
          "output_type": "execute_result",
          "execution_count": 24,
          "data": {
            "text/plain": [
              "true"
            ]
          },
          "metadata": {}
        }
      ],
      "execution_count": 24,
      "metadata": {
        "hide-output": false
      }
    },
    {
      "cell_type": "markdown",
      "source": [
        "The LU decomposition also has specialized algorithms for structured matrices, such as a Tridiagonal"
      ],
      "metadata": {}
    },
    {
      "cell_type": "code",
      "source": [
        "N = 1000\n",
        "b = rand(N)\n",
        "A = Tridiagonal([fill(0.1, N-2); 0.2], fill(0.8, N), [0.2; fill(0.1, N-2);])\n",
        "factorize(A) |> typeof"
      ],
      "outputs": [
        {
          "output_type": "execute_result",
          "execution_count": 25,
          "data": {
            "text/plain": [
              "LU{Float64,Tridiagonal{Float64,Array{Float64,1}}}"
            ]
          },
          "metadata": {}
        }
      ],
      "execution_count": 25,
      "metadata": {
        "hide-output": false
      }
    },
    {
      "cell_type": "markdown",
      "source": [
        "This factorization is the key to the performance of the `A \\ b` in this case.  For Tridiagonal matrices, the\n",
        "LU decomposition is $ O(N^2) $.\n",
        "\n",
        "Finally, just as a dense matrix without any structure use an LU decomposition to solve a system,\n",
        "so will the sparse solvers"
      ],
      "metadata": {}
    },
    {
      "cell_type": "code",
      "source": [
        "A_sparse = sparse(A)\n",
        "factorize(A_sparse) |> typeof  # dropping the tridiagonal structure to just become sparse"
      ],
      "outputs": [
        {
          "output_type": "execute_result",
          "execution_count": 26,
          "data": {
            "text/plain": [
              "SuiteSparse.UMFPACK.UmfpackLU{Float64,Int64}"
            ]
          },
          "metadata": {}
        }
      ],
      "execution_count": 26,
      "metadata": {
        "hide-output": false
      }
    },
    {
      "cell_type": "code",
      "source": [
        "benchmark_solve(A, b)\n",
        "benchmark_solve(A_sparse, b);"
      ],
      "outputs": [
        {
          "output_type": "stream",
          "name": "stdout",
          "text": [
            "A\\b for typeof(A) = Tridiagonal{Float64,Array{Float64,1}}\n",
            "  28.200 μs (9 allocations: 47.75 KiB)\n",
            "A\\b for typeof(A) = SparseMatrixCSC{Float64,Int64}\n",
            "  788.499 μs (69 allocations: 1.06 MiB)\n"
          ]
        }
      ],
      "execution_count": 27,
      "metadata": {
        "hide-output": false
      }
    },
    {
      "cell_type": "markdown",
      "source": [
        "With sparsity, the computational order is related to the number of non-zeros rather than the size of the matrix itself."
      ],
      "metadata": {}
    },
    {
      "cell_type": "markdown",
      "source": [
        "### Cholesky Decomposition\n",
        "\n",
        "For real, symmetric, [positive definitive](https://en.wikipedia.org/wiki/Definiteness_of_a_matrix) matrices, a Cholesky decomposition is a specialized example of the LU decomposition where $ L = U' $.\n",
        "\n",
        "The Cholesky is directly useful on its own (e.g. [Classical Control with Linear Algebra](../time_series_models/classical_filtering.ipynb)) but it is also an efficient factorization to solve symmetric positive definite system.\n",
        "\n",
        "As always, symmetry allows specialized algorithms."
      ],
      "metadata": {}
    },
    {
      "cell_type": "code",
      "source": [
        "N = 500\n",
        "B = rand(N,N)\n",
        "A_dense = B' * B  # an easy way to generate a symmetric positive definite matrix\n",
        "A = Symmetric(A_dense)  # flags the matrix as symmetric\n",
        "\n",
        "factorize(A) |> typeof"
      ],
      "outputs": [
        {
          "output_type": "execute_result",
          "execution_count": 28,
          "data": {
            "text/plain": [
              "BunchKaufman{Float64,Array{Float64,2}}"
            ]
          },
          "metadata": {}
        }
      ],
      "execution_count": 28,
      "metadata": {
        "hide-output": false
      }
    },
    {
      "cell_type": "markdown",
      "source": [
        "Here, the $ A $ decomposition is [Bunch-Kaufman](https://docs.julialang.org/en/v1/stdlib/LinearAlgebra/index.html#LinearAlgebra.bunchkaufman) rather than a\n",
        "Cholesky, because Julia doesn’t know the matrix is positive definite.  We can manually factorize with a Cholesky,"
      ],
      "metadata": {}
    },
    {
      "cell_type": "code",
      "source": [
        "cholesky(A) |> typeof"
      ],
      "outputs": [
        {
          "output_type": "execute_result",
          "execution_count": 29,
          "data": {
            "text/plain": [
              "Cholesky{Float64,Array{Float64,2}}"
            ]
          },
          "metadata": {}
        }
      ],
      "execution_count": 29,
      "metadata": {
        "hide-output": false
      }
    },
    {
      "cell_type": "markdown",
      "source": [
        "Benchmarking,"
      ],
      "metadata": {}
    },
    {
      "cell_type": "code",
      "source": [
        "b = rand(N)\n",
        "cholesky(A) \\ b  # use the factorization to solve\n",
        "\n",
        "benchmark_solve(A, b)\n",
        "benchmark_solve(A_dense, b)\n",
        "@btime cholesky($A, check=false) \\ $b;"
      ],
      "outputs": [
        {
          "output_type": "stream",
          "name": "stdout",
          "text": [
            "A\\b for typeof(A) = Symmetric{Float64,Array{Float64,2}}\n",
            "  23.439 ms (8 allocations: 2.16 MiB)\n",
            "A\\b for typeof(A) = Array{Float64,2}\n",
            "  13.218 ms (5 allocations: 1.92 MiB)\n",
            "  4.215 ms (7 allocations: 1.91 MiB)\n"
          ]
        }
      ],
      "execution_count": 30,
      "metadata": {
        "hide-output": false
      }
    },
    {
      "cell_type": "markdown",
      "source": [
        "### QR Decomposition\n",
        "\n",
        "[Previously](orth_proj.ipynb#qr-decomposition), we learned about applications of the QR application to solving the linear least squares.\n",
        "\n",
        "While in principle, the solution to least-squares\n",
        "\n",
        "$$\n",
        "\\min_x \\| Ax -b \\|^2\n",
        "$$\n",
        "\n",
        "is $ x = (A'A)^{-1}A'b $, in practice note that $ A'A $ becomes dense and calculating the inverse is rarely a good idea.\n",
        "\n",
        "The QR decomposition is a decomposition $ A = Q R $ where $ Q $ is an orthogonal matrix (i.e. $ Q'Q = Q Q' = I $) and $ R $ is\n",
        "a upper triangular matrix.\n",
        "\n",
        "Given the  [previous derivation](orth_proj.ipynb#qr-decomposition) we showed that the, given the decomposition, we can write the least squares problem as\n",
        "the solution to\n",
        "\n",
        "$$\n",
        "R x = Q' b\n",
        "$$\n",
        "\n",
        "Where, as discussed above, the upper-triangular structure of $ R $ can be solved easily with back substitution.\n",
        "\n",
        "The `\\` operator will solve the linear-least squares problem whenever the given `A` is rectangular"
      ],
      "metadata": {}
    },
    {
      "cell_type": "code",
      "source": [
        "N = 10\n",
        "M = 3\n",
        "x_true = rand(3)\n",
        "\n",
        "A = rand(N,M) .+ randn(N)\n",
        "b = rand(N)\n",
        "x = A \\ b"
      ],
      "outputs": [
        {
          "output_type": "execute_result",
          "execution_count": 31,
          "data": {
            "text/plain": [
              "3-element Array{Float64,1}:\n",
              "  0.4011747124872587 \n",
              "  0.07361080010718472\n",
              " -0.23478068012724587"
            ]
          },
          "metadata": {}
        }
      ],
      "execution_count": 31,
      "metadata": {
        "hide-output": false
      }
    },
    {
      "cell_type": "markdown",
      "source": [
        "To manually use the QR decomposition in solving linear least squares:"
      ],
      "metadata": {}
    },
    {
      "cell_type": "code",
      "source": [
        "Af = qr(A)\n",
        "Q = Af.Q\n",
        "R = [Af.R; zeros(N - M, M)] # Stack with zeros\n",
        "@show Q * R ≈ A\n",
        "x = R \\ Q'*b  # simplified QR solution for least squares"
      ],
      "outputs": [
        {
          "output_type": "stream",
          "name": "stdout",
          "text": [
            "Q * R ≈ A = true\n"
          ]
        },
        {
          "output_type": "execute_result",
          "execution_count": 32,
          "data": {
            "text/plain": [
              "3-element Array{Float64,1}:\n",
              "  0.4011747124872585 \n",
              "  0.07361080010718468\n",
              " -0.23478068012724573"
            ]
          },
          "metadata": {}
        }
      ],
      "execution_count": 32,
      "metadata": {
        "hide-output": false
      }
    },
    {
      "cell_type": "markdown",
      "source": [
        "This stacks the `R` with zeros, but the more specialized algorithm would not multiply directly\n",
        "in that way.\n",
        "\n",
        "In some cases, if an LU is not available for a particular matrix structure, the QR factorization\n",
        "can also be used to solve systems of equations (i.e. not just LLS).  This tends to be about 2x slower than the LU,\n",
        "but is of the same computational order.\n",
        "\n",
        "Deriving the approach, where we can now use inverse since the system is square and we assumed $ A $ was non-singular\n",
        "\n",
        "$$\n",
        "\\begin{aligned}\n",
        "A x &= b\\\\\n",
        "Q R x &= b\\\\\n",
        "Q^{-1} Q R x &= Q^{-1} b\\\\\n",
        "R x &= Q' b\n",
        "\\end{aligned}\n",
        "$$\n",
        "\n",
        "Where the last step uses that $ Q^{-1} = Q' $ for an orthogonal matrix.\n",
        "\n",
        "Given the decomposition, the solution for dense matrices is of computational\n",
        "order $ O(N^2) $.  To see this, look at the order of each operation.\n",
        "\n",
        "- Since $ R $ is upper-triangular matrix, it can be solved quickly through back substitution with computational order $ O(N^2) $  \n",
        "- A transpose operation is of order $ O(N^2) $  \n",
        "- A matrix-vector product is also $ O(N^2) $  \n",
        "\n",
        "\n",
        "In all cases, the order would drop depending on the sparsity pattern of the\n",
        "matrix (and corresponding decomposition).  A key benefit of a QR decomposition is that it tends to\n",
        "maintain sparsity.\n",
        "\n",
        "Without implementing the full process, you can form a QR\n",
        "factorization with `qr` and then use it to solve a system"
      ],
      "metadata": {}
    },
    {
      "cell_type": "code",
      "source": [
        "N = 5\n",
        "A = rand(N,N)\n",
        "b = rand(N)\n",
        "@show A \\ b\n",
        "@show qr(A) \\ b;"
      ],
      "outputs": [
        {
          "output_type": "stream",
          "name": "stdout",
          "text": [
            "A \\ b = [-1.4780409419445582, 2.0987575263439306, -0.6857071090150311, -0.16849538664184538, 2.012803045177841]\n",
            "qr(A) \\ b = [-1.478040941944558, 2.09875752634393, -0.6857071090150318, -0.16849538664184394, 2.012803045177841]\n"
          ]
        }
      ],
      "execution_count": 33,
      "metadata": {
        "hide-output": false
      }
    },
    {
      "cell_type": "markdown",
      "source": [
        "### Spectral Decomposition\n",
        "\n",
        "A spectral decomposition, also known as an [eigendecomposition](https://en.wikipedia.org/wiki/Eigendecomposition_of_a_matrix), finds all of the eigenvectors and eigenvalues to decompose a square matrix `A` such that\n",
        "\n",
        "$$\n",
        "A = Q \\Lambda Q^{-1}\n",
        "$$\n",
        "\n",
        "where $ Q $ is a matrix made of the the eigenvectors of $ A $ as columns, and $ \\Lambda $ is a diagonal matrix of the eigenvalues.  Only square, [diagonalizable](https://en.wikipedia.org/wiki/Diagonalizable_matrix) matrices have an eigendecomposition (where a matrix is not diagonalizable if it does not have a full set of linearly independent eigenvectors).\n",
        "\n",
        "In Julia, whenever you ask for a full set of eigenvectors and eigenvalues, it will find them through this decomposition using an algorithm appropriate for the matrix type.  For example, symmetric, hermitian, or tridiagonal matrices have their own algorithms.\n",
        "\n",
        "To see this in operation,"
      ],
      "metadata": {}
    },
    {
      "cell_type": "code",
      "source": [
        "A = Symmetric(rand(5, 5))  # symmetric matrices have real eigenvectors/eigenvalues\n",
        "A_eig = eigen(A)\n",
        "Λ = Diagonal(A_eig.values)\n",
        "Q = A_eig.vectors\n",
        "norm(Q * Λ * inv(Q) - A)"
      ],
      "outputs": [
        {
          "output_type": "execute_result",
          "execution_count": 34,
          "data": {
            "text/plain": [
              "3.664849993902364e-15"
            ]
          },
          "metadata": {}
        }
      ],
      "execution_count": 34,
      "metadata": {
        "hide-output": false
      }
    },
    {
      "cell_type": "markdown",
      "source": [
        "Keep in mind that a real matrix may have complex eigenvalues and eigenvectors, so if you attempt  to check `Q * Λ * inv(Q) - A` it may not be a real due number due to numerical inaccuracy."
      ],
      "metadata": {}
    },
    {
      "cell_type": "markdown",
      "source": [
        "## Continuous Time Markov Chains (CTMC)\n",
        "\n",
        "In the previous lecture on discrete time Markov chains, we saw that the transition probability\n",
        "between state $ x $ and state $ y $ was summarized by the matrix $ P(x, y) := \\mathbb P \\{ X_{t+1} = y \\,|\\, X_t = x \\} $.\n",
        "\n",
        "As a brief introduction to continuous time processes, consider the same state-space as in the discrete\n",
        "case: $ S $ a finite set with $ n $ elements $ \\{x_1, \\ldots, x_n\\} $.\n",
        "\n",
        "A **Markov chain** $ \\{X_t\\} $ on $ S $ is a sequence of random variables on $ S $ that have the **Markov property**\n",
        "\n",
        "In continuous time, the [Markov Property](https://en.wikipedia.org/wiki/Markov_property) is more complicated, but intuitively is\n",
        "the same as the discrete time case.\n",
        "\n",
        "That is, knowing the current state is enough to know probabilities for future states.  Or, for realizations $ x(\\tau)\\in S, \\tau \\leq t $,\n",
        "\n",
        "$$\n",
        "\\mathbb P \\{ X(t+s) = y  \\,|\\, X(t) = x, X(\\tau) = x(\\tau) \\text{ for } 0 \\leq \\tau \\leq t  \\} = \\mathbb P \\{ X(t+s) = y  \\,|\\, X(t) = x\\}\n",
        "$$\n",
        "\n",
        "Heuristically, consider a time period $ t $ and a small step forward $ \\Delta $.  Then the probability to transition from state $ i $ to\n",
        "state $ j $ is\n",
        "\n",
        "$$\n",
        "\\mathbb P \\{ X(t + \\Delta) = j  \\,|\\, X(t) \\} = \\begin{cases} q_{ij} \\Delta + o(\\Delta) & i \\neq j\\\\\n",
        "                                                              1 + q_{ii} \\Delta + o(\\Delta) & i = j \\end{cases}\n",
        "$$\n",
        "\n",
        "where $ q_{ij} $ are parameters governing the transition process, and $ o(\\Delta) $ is [little-o notation](https://en.wikipedia.org/wiki/Big_O_notation#Little-o_notation).  That is, $ \\lim_{\\Delta\\to 0} o(\\Delta)/\\Delta = 0 $.\n",
        "\n",
        "Just as in the discrete case, we can summarize these parameters by a $ N \\times N $ matrix, $ Q \\in R^{N\\times N} $.\n",
        "\n",
        "Recall that in the discrete case every element is weakly positive and every row must sum to one.   Instead, with a continuous time the rows of $ Q $ sum to zero, where the diagonal contains the negative value of jumping out of the current state.  That is\n",
        "\n",
        "- $ q_{ij} \\geq 0 $ for $ i \\neq j $  \n",
        "- $ q_{ii} \\leq 0 $  \n",
        "- $ \\sum_{j} q_{ij} = 0 $  \n",
        "\n",
        "\n",
        "The $ Q $ matrix is called the intensity matrix, or the infinitesimal generator of the Markov chain.  For example,\n",
        "\n",
        "$$\n",
        "Q = \\begin{bmatrix} -0.1 & 0.1  & 0 & 0 & 0 & 0\\\\\n",
        "                    0.1  &-0.2  & 0.1 &  0 & 0 & 0\\\\\n",
        "                    0 & 0.1 & -0.2 & 0.1 & 0 & 0\\\\\n",
        "                    0 & 0 & 0.1 & -0.2 & 0.1 & 0\\\\\n",
        "                    0 & 0 & 0 & 0.1 & -0.2 & 0.1\\\\\n",
        "                    0 & 0 & 0 & 0 & 0.1 & -0.1\\\\\n",
        "    \\end{bmatrix}\n",
        "$$\n",
        "\n",
        "In that example, transitions only occur between adjacent states with the same intensity (except for a ``bouncing’’ back of the bottom and top states).\n",
        "\n",
        "Implementing the $ Q $ using its tridiagonal structure"
      ],
      "metadata": {}
    },
    {
      "cell_type": "code",
      "source": [
        "using LinearAlgebra\n",
        "α = 0.1\n",
        "N = 6\n",
        "Q = Tridiagonal(fill(α, N-1), [-α; fill(-2α, N-2); -α], fill(α, N-1))"
      ],
      "outputs": [
        {
          "output_type": "execute_result",
          "execution_count": 35,
          "data": {
            "text/plain": [
              "6×6 Tridiagonal{Float64,Array{Float64,1}}:\n",
              " -0.1   0.1    ⋅     ⋅     ⋅     ⋅ \n",
              "  0.1  -0.2   0.1    ⋅     ⋅     ⋅ \n",
              "   ⋅    0.1  -0.2   0.1    ⋅     ⋅ \n",
              "   ⋅     ⋅    0.1  -0.2   0.1    ⋅ \n",
              "   ⋅     ⋅     ⋅    0.1  -0.2   0.1\n",
              "   ⋅     ⋅     ⋅     ⋅    0.1  -0.1"
            ]
          },
          "metadata": {}
        }
      ],
      "execution_count": 35,
      "metadata": {
        "hide-output": false
      }
    },
    {
      "cell_type": "markdown",
      "source": [
        "Here we can use the `Tridiagonal` to exploit the structure of the problem.\n",
        "\n",
        "Consider a simple payoff vector $ r $ associated with each state, and a discount rate $ ρ $.  Then we can solve for\n",
        "the expected present discounted value in a similar way to the discrete time case.\n",
        "\n",
        "$$\n",
        "\\rho v = r + Q v\n",
        "$$\n",
        "\n",
        "or rearranging slightly, solving the linear system\n",
        "\n",
        "$$\n",
        "(\\rho I - Q) v = r\n",
        "$$\n",
        "\n",
        "For our example, exploiting the tridiagonal structure,"
      ],
      "metadata": {}
    },
    {
      "cell_type": "code",
      "source": [
        "r = range(0.0, 10.0, length=N)\n",
        "ρ = 0.05\n",
        "\n",
        "A = ρ * I - Q"
      ],
      "outputs": [
        {
          "output_type": "execute_result",
          "execution_count": 36,
          "data": {
            "text/plain": [
              "6×6 Tridiagonal{Float64,Array{Float64,1}}:\n",
              "  0.15  -0.1     ⋅      ⋅      ⋅      ⋅  \n",
              " -0.1    0.25  -0.1     ⋅      ⋅      ⋅  \n",
              "   ⋅    -0.1    0.25  -0.1     ⋅      ⋅  \n",
              "   ⋅      ⋅    -0.1    0.25  -0.1     ⋅  \n",
              "   ⋅      ⋅      ⋅    -0.1    0.25  -0.1 \n",
              "   ⋅      ⋅      ⋅      ⋅    -0.1    0.15"
            ]
          },
          "metadata": {}
        }
      ],
      "execution_count": 36,
      "metadata": {
        "hide-output": false
      }
    },
    {
      "cell_type": "markdown",
      "source": [
        "Note that this $ A $ matrix is maintaining the tridiagonal structure of the problem, which leads to an efficient solution to the\n",
        "linear problem."
      ],
      "metadata": {}
    },
    {
      "cell_type": "code",
      "source": [
        "v = A \\ r"
      ],
      "outputs": [
        {
          "output_type": "execute_result",
          "execution_count": 37,
          "data": {
            "text/plain": [
              "6-element Array{Float64,1}:\n",
              "  38.15384615384615\n",
              "  57.23076923076923\n",
              "  84.92307692307693\n",
              " 115.07692307692311\n",
              " 142.76923076923077\n",
              " 161.84615384615384"
            ]
          },
          "metadata": {}
        }
      ],
      "execution_count": 37,
      "metadata": {
        "hide-output": false
      }
    },
    {
      "cell_type": "markdown",
      "source": [
        "The $ Q $ is also used to calculate the evolution of the Markov chain, in direct analogy to the $ ψ_{t+k} = ψ_t P^k $ evolution with transition matrix $ P $ of the discrete case.\n",
        "\n",
        "In the continuous case, this becomes the system of linear differential equations\n",
        "\n",
        "$$\n",
        "\\dot{ψ}(t) = Q(t)^T ψ(t)\n",
        "$$\n",
        "\n",
        "given the initial condition $ \\psi(0) $ and where the $ Q(t) $ intensity matrix is allows to vary with time.  In the simplest case of a constant $ Q $ matrix, this is a simple constant-coefficient system of Linear ODEs with coefficients $ Q^T $\n",
        "\n",
        "If a stationary equilibria exists, note that $ \\dot{ψ}(t) = 0 $, and the stationary solution $ ψ^{*} $ needs to fulfill\n",
        "\n",
        "$$\n",
        "0 = Q^T ψ^{*}\n",
        "$$\n",
        "\n",
        "Notice that this is of the form $ 0 ψ^{*} = Q^T ψ^{*} $ and hence is equivalent to finding the eigevector associated with the $ \\lambda = 0 $ eigenvalue\n",
        "\n",
        "With our example, we can calculate all of the eigenvalues and eigenvectors"
      ],
      "metadata": {}
    },
    {
      "cell_type": "code",
      "source": [
        "λ, vecs = eigen(Array(Q'))"
      ],
      "outputs": [
        {
          "output_type": "execute_result",
          "execution_count": 38,
          "data": {
            "text/plain": [
              "Eigen{Float64,Float64,Array{Float64,2},Array{Float64,1}}\n",
              "eigenvalues:\n",
              "6-element Array{Float64,1}:\n",
              " -0.3732050807568874  \n",
              " -0.29999999999999993 \n",
              " -0.19999999999999998 \n",
              " -0.09999999999999995 \n",
              " -0.026794919243112274\n",
              "  0.0                 \n",
              "eigenvectors:\n",
              "6×6 Array{Float64,2}:\n",
              " -0.149429  -0.288675   0.408248   0.5          -0.557678  0.408248\n",
              "  0.408248   0.57735   -0.408248   1.38778e-16  -0.408248  0.408248\n",
              " -0.557678  -0.288675  -0.408248  -0.5          -0.149429  0.408248\n",
              "  0.557678  -0.288675   0.408248  -0.5           0.149429  0.408248\n",
              " -0.408248   0.57735    0.408248   7.63278e-16   0.408248  0.408248\n",
              "  0.149429  -0.288675  -0.408248   0.5           0.557678  0.408248"
            ]
          },
          "metadata": {}
        }
      ],
      "execution_count": 38,
      "metadata": {
        "hide-output": false
      }
    },
    {
      "cell_type": "markdown",
      "source": [
        "Indeed, there is a $ \\lambda = 0 $ eigenvalue, which is associated with the last column in the eigenvector.  To turn that into a probability\n",
        "we need to normalize it."
      ],
      "metadata": {}
    },
    {
      "cell_type": "code",
      "source": [
        "vecs[:,N] ./ sum(vecs[:,N])"
      ],
      "outputs": [
        {
          "output_type": "execute_result",
          "execution_count": 39,
          "data": {
            "text/plain": [
              "6-element Array{Float64,1}:\n",
              " 0.16666666666666657\n",
              " 0.16666666666666657\n",
              " 0.1666666666666667 \n",
              " 0.16666666666666682\n",
              " 0.16666666666666685\n",
              " 0.16666666666666663"
            ]
          },
          "metadata": {}
        }
      ],
      "execution_count": 39,
      "metadata": {
        "hide-output": false
      }
    },
    {
      "cell_type": "markdown",
      "source": [
        "### Multiple Dimensions\n",
        "\n",
        "A frequent case in discretized models is dealing with Markov chains with multiple “spatial” dimensions (e.g. wealth and income).\n",
        "\n",
        "After discretizing a process to create a Markov chain, you can always take the cartesian product of the set of states in order to\n",
        "enumerate as a single state variable.\n",
        "\n",
        "To see this, consider states $ i $ and $ j $ governed by infinitesimal generators $ Q $ and $ A $."
      ],
      "metadata": {}
    },
    {
      "cell_type": "code",
      "source": [
        "function markov_chain_product(Q, A)\n",
        "    M = size(Q, 1)\n",
        "    N = size(A, 1)\n",
        "    Q = sparse(Q)\n",
        "    Qs = blockdiag(fill(Q, N)...)  # create diagonal blocks of every operator\n",
        "    As = kron(A, sparse(I(M)))\n",
        "    return As + Qs\n",
        "end\n",
        "\n",
        "α = 0.1\n",
        "N = 4\n",
        "Q = Tridiagonal(fill(α, N-1), [-α; fill(-2α, N-2); -α], fill(α, N-1))\n",
        "A = sparse([-0.1 0.1\n",
        "    0.2 -0.2])\n",
        "M = size(A,1)\n",
        "L = markov_chain_product(Q, A)\n",
        "L |> Matrix  # display as a dense matrix"
      ],
      "outputs": [
        {
          "output_type": "execute_result",
          "execution_count": 40,
          "data": {
            "text/plain": [
              "8×8 Array{Float64,2}:\n",
              " -0.2   0.1   0.0   0.0   0.1   0.0   0.0   0.0\n",
              "  0.1  -0.3   0.1   0.0   0.0   0.1   0.0   0.0\n",
              "  0.0   0.1  -0.3   0.1   0.0   0.0   0.1   0.0\n",
              "  0.0   0.0   0.1  -0.2   0.0   0.0   0.0   0.1\n",
              "  0.2   0.0   0.0   0.0  -0.3   0.1   0.0   0.0\n",
              "  0.0   0.2   0.0   0.0   0.1  -0.4   0.1   0.0\n",
              "  0.0   0.0   0.2   0.0   0.0   0.1  -0.4   0.1\n",
              "  0.0   0.0   0.0   0.2   0.0   0.0   0.1  -0.3"
            ]
          },
          "metadata": {}
        }
      ],
      "execution_count": 40,
      "metadata": {
        "hide-output": false
      }
    },
    {
      "cell_type": "markdown",
      "source": [
        "This provides the combined markov chain for the $ (i,j) $ process.  To see the sparsity pattern,"
      ],
      "metadata": {}
    },
    {
      "cell_type": "code",
      "source": [
        "using Plots\n",
        "spy(L, markersize = 10)"
      ],
      "outputs": [
        {
          "output_type": "execute_result",
          "execution_count": 41,
          "data": {
            "image/svg+xml": [
              "<?xml version=\"1.0\" encoding=\"utf-8\"?>\n",
              "<svg xmlns=\"http://www.w3.org/2000/svg\" xmlns:xlink=\"http://www.w3.org/1999/xlink\" width=\"600\" height=\"400\" viewBox=\"0 0 2400 1600\">\n",
              "<defs>\n",
              "  <clipPath id=\"clip7600\">\n",
              "    <rect x=\"0\" y=\"0\" width=\"2400\" height=\"1600\"/>\n",
              "  </clipPath>\n",
              "</defs>\n",
              "<polygon clip-path=\"url(#clip7600)\" points=\"\n",
              "0,1600 2400,1600 2400,0 0,0 \n",
              "  \" fill=\"#ffffff\" fill-rule=\"evenodd\" fill-opacity=\"1\"/>\n",
              "<defs>\n",
              "  <clipPath id=\"clip7601\">\n",
              "    <rect x=\"480\" y=\"0\" width=\"1681\" height=\"1600\"/>\n",
              "  </clipPath>\n",
              "</defs>\n",
              "<polygon clip-path=\"url(#clip7600)\" points=\"\n",
              "393.14,1487.47 1833.37,1487.47 1833.37,47.2441 393.14,47.2441 \n",
              "  \" fill=\"#ffffff\" fill-rule=\"evenodd\" fill-opacity=\"1\"/>\n",
              "<defs>\n",
              "  <clipPath id=\"clip7602\">\n",
              "    <rect x=\"393\" y=\"47\" width=\"1441\" height=\"1441\"/>\n",
              "  </clipPath>\n",
              "</defs>\n",
              "<polyline clip-path=\"url(#clip7600)\" style=\"stroke:#000000; stroke-width:4; stroke-opacity:1; fill:none\" points=\"\n",
              "  393.14,1487.47 1833.37,1487.47 \n",
              "  \"/>\n",
              "<polyline clip-path=\"url(#clip7600)\" style=\"stroke:#000000; stroke-width:4; stroke-opacity:1; fill:none\" points=\"\n",
              "  393.14,47.2441 393.14,1487.47 \n",
              "  \"/>\n",
              "<polyline clip-path=\"url(#clip7600)\" style=\"stroke:#000000; stroke-width:4; stroke-opacity:1; fill:none\" points=\"\n",
              "  393.14,1487.47 393.14,1465.87 \n",
              "  \"/>\n",
              "<polyline clip-path=\"url(#clip7600)\" style=\"stroke:#000000; stroke-width:4; stroke-opacity:1; fill:none\" points=\"\n",
              "  598.887,1487.47 598.887,1465.87 \n",
              "  \"/>\n",
              "<polyline clip-path=\"url(#clip7600)\" style=\"stroke:#000000; stroke-width:4; stroke-opacity:1; fill:none\" points=\"\n",
              "  804.634,1487.47 804.634,1465.87 \n",
              "  \"/>\n",
              "<polyline clip-path=\"url(#clip7600)\" style=\"stroke:#000000; stroke-width:4; stroke-opacity:1; fill:none\" points=\"\n",
              "  1010.38,1487.47 1010.38,1465.87 \n",
              "  \"/>\n",
              "<polyline clip-path=\"url(#clip7600)\" style=\"stroke:#000000; stroke-width:4; stroke-opacity:1; fill:none\" points=\"\n",
              "  1216.13,1487.47 1216.13,1465.87 \n",
              "  \"/>\n",
              "<polyline clip-path=\"url(#clip7600)\" style=\"stroke:#000000; stroke-width:4; stroke-opacity:1; fill:none\" points=\"\n",
              "  1421.88,1487.47 1421.88,1465.87 \n",
              "  \"/>\n",
              "<polyline clip-path=\"url(#clip7600)\" style=\"stroke:#000000; stroke-width:4; stroke-opacity:1; fill:none\" points=\"\n",
              "  1627.62,1487.47 1627.62,1465.87 \n",
              "  \"/>\n",
              "<polyline clip-path=\"url(#clip7600)\" style=\"stroke:#000000; stroke-width:4; stroke-opacity:1; fill:none\" points=\"\n",
              "  1833.37,1487.47 1833.37,1465.87 \n",
              "  \"/>\n",
              "<polyline clip-path=\"url(#clip7600)\" style=\"stroke:#000000; stroke-width:4; stroke-opacity:1; fill:none\" points=\"\n",
              "  393.14,47.2441 414.743,47.2441 \n",
              "  \"/>\n",
              "<polyline clip-path=\"url(#clip7600)\" style=\"stroke:#000000; stroke-width:4; stroke-opacity:1; fill:none\" points=\"\n",
              "  393.14,252.991 414.743,252.991 \n",
              "  \"/>\n",
              "<polyline clip-path=\"url(#clip7600)\" style=\"stroke:#000000; stroke-width:4; stroke-opacity:1; fill:none\" points=\"\n",
              "  393.14,458.739 414.743,458.739 \n",
              "  \"/>\n",
              "<polyline clip-path=\"url(#clip7600)\" style=\"stroke:#000000; stroke-width:4; stroke-opacity:1; fill:none\" points=\"\n",
              "  393.14,664.486 414.743,664.486 \n",
              "  \"/>\n",
              "<polyline clip-path=\"url(#clip7600)\" style=\"stroke:#000000; stroke-width:4; stroke-opacity:1; fill:none\" points=\"\n",
              "  393.14,870.233 414.743,870.233 \n",
              "  \"/>\n",
              "<polyline clip-path=\"url(#clip7600)\" style=\"stroke:#000000; stroke-width:4; stroke-opacity:1; fill:none\" points=\"\n",
              "  393.14,1075.98 414.743,1075.98 \n",
              "  \"/>\n",
              "<polyline clip-path=\"url(#clip7600)\" style=\"stroke:#000000; stroke-width:4; stroke-opacity:1; fill:none\" points=\"\n",
              "  393.14,1281.73 414.743,1281.73 \n",
              "  \"/>\n",
              "<polyline clip-path=\"url(#clip7600)\" style=\"stroke:#000000; stroke-width:4; stroke-opacity:1; fill:none\" points=\"\n",
              "  393.14,1487.47 414.743,1487.47 \n",
              "  \"/>\n",
              "<g clip-path=\"url(#clip7600)\">\n",
              "<text style=\"fill:#000000; fill-opacity:1; font-family:Arial,Helvetica Neue,Helvetica,sans-serif; font-size:48px; text-anchor:middle;\" transform=\"rotate(0, 393.14, 1541.47)\" x=\"393.14\" y=\"1541.47\">1</text>\n",
              "</g>\n",
              "<g clip-path=\"url(#clip7600)\">\n",
              "<text style=\"fill:#000000; fill-opacity:1; font-family:Arial,Helvetica Neue,Helvetica,sans-serif; font-size:48px; text-anchor:middle;\" transform=\"rotate(0, 598.887, 1541.47)\" x=\"598.887\" y=\"1541.47\">2</text>\n",
              "</g>\n",
              "<g clip-path=\"url(#clip7600)\">\n",
              "<text style=\"fill:#000000; fill-opacity:1; font-family:Arial,Helvetica Neue,Helvetica,sans-serif; font-size:48px; text-anchor:middle;\" transform=\"rotate(0, 804.634, 1541.47)\" x=\"804.634\" y=\"1541.47\">3</text>\n",
              "</g>\n",
              "<g clip-path=\"url(#clip7600)\">\n",
              "<text style=\"fill:#000000; fill-opacity:1; font-family:Arial,Helvetica Neue,Helvetica,sans-serif; font-size:48px; text-anchor:middle;\" transform=\"rotate(0, 1010.38, 1541.47)\" x=\"1010.38\" y=\"1541.47\">4</text>\n",
              "</g>\n",
              "<g clip-path=\"url(#clip7600)\">\n",
              "<text style=\"fill:#000000; fill-opacity:1; font-family:Arial,Helvetica Neue,Helvetica,sans-serif; font-size:48px; text-anchor:middle;\" transform=\"rotate(0, 1216.13, 1541.47)\" x=\"1216.13\" y=\"1541.47\">5</text>\n",
              "</g>\n",
              "<g clip-path=\"url(#clip7600)\">\n",
              "<text style=\"fill:#000000; fill-opacity:1; font-family:Arial,Helvetica Neue,Helvetica,sans-serif; font-size:48px; text-anchor:middle;\" transform=\"rotate(0, 1421.88, 1541.47)\" x=\"1421.88\" y=\"1541.47\">6</text>\n",
              "</g>\n",
              "<g clip-path=\"url(#clip7600)\">\n",
              "<text style=\"fill:#000000; fill-opacity:1; font-family:Arial,Helvetica Neue,Helvetica,sans-serif; font-size:48px; text-anchor:middle;\" transform=\"rotate(0, 1627.62, 1541.47)\" x=\"1627.62\" y=\"1541.47\">7</text>\n",
              "</g>\n",
              "<g clip-path=\"url(#clip7600)\">\n",
              "<text style=\"fill:#000000; fill-opacity:1; font-family:Arial,Helvetica Neue,Helvetica,sans-serif; font-size:48px; text-anchor:middle;\" transform=\"rotate(0, 1833.37, 1541.47)\" x=\"1833.37\" y=\"1541.47\">8</text>\n",
              "</g>\n",
              "<g clip-path=\"url(#clip7600)\">\n",
              "<text style=\"fill:#000000; fill-opacity:1; font-family:Arial,Helvetica Neue,Helvetica,sans-serif; font-size:48px; text-anchor:end;\" transform=\"rotate(0, 369.14, 64.7441)\" x=\"369.14\" y=\"64.7441\">1</text>\n",
              "</g>\n",
              "<g clip-path=\"url(#clip7600)\">\n",
              "<text style=\"fill:#000000; fill-opacity:1; font-family:Arial,Helvetica Neue,Helvetica,sans-serif; font-size:48px; text-anchor:end;\" transform=\"rotate(0, 369.14, 270.491)\" x=\"369.14\" y=\"270.491\">2</text>\n",
              "</g>\n",
              "<g clip-path=\"url(#clip7600)\">\n",
              "<text style=\"fill:#000000; fill-opacity:1; font-family:Arial,Helvetica Neue,Helvetica,sans-serif; font-size:48px; text-anchor:end;\" transform=\"rotate(0, 369.14, 476.239)\" x=\"369.14\" y=\"476.239\">3</text>\n",
              "</g>\n",
              "<g clip-path=\"url(#clip7600)\">\n",
              "<text style=\"fill:#000000; fill-opacity:1; font-family:Arial,Helvetica Neue,Helvetica,sans-serif; font-size:48px; text-anchor:end;\" transform=\"rotate(0, 369.14, 681.986)\" x=\"369.14\" y=\"681.986\">4</text>\n",
              "</g>\n",
              "<g clip-path=\"url(#clip7600)\">\n",
              "<text style=\"fill:#000000; fill-opacity:1; font-family:Arial,Helvetica Neue,Helvetica,sans-serif; font-size:48px; text-anchor:end;\" transform=\"rotate(0, 369.14, 887.733)\" x=\"369.14\" y=\"887.733\">5</text>\n",
              "</g>\n",
              "<g clip-path=\"url(#clip7600)\">\n",
              "<text style=\"fill:#000000; fill-opacity:1; font-family:Arial,Helvetica Neue,Helvetica,sans-serif; font-size:48px; text-anchor:end;\" transform=\"rotate(0, 369.14, 1093.48)\" x=\"369.14\" y=\"1093.48\">6</text>\n",
              "</g>\n",
              "<g clip-path=\"url(#clip7600)\">\n",
              "<text style=\"fill:#000000; fill-opacity:1; font-family:Arial,Helvetica Neue,Helvetica,sans-serif; font-size:48px; text-anchor:end;\" transform=\"rotate(0, 369.14, 1299.23)\" x=\"369.14\" y=\"1299.23\">7</text>\n",
              "</g>\n",
              "<g clip-path=\"url(#clip7600)\">\n",
              "<text style=\"fill:#000000; fill-opacity:1; font-family:Arial,Helvetica Neue,Helvetica,sans-serif; font-size:48px; text-anchor:end;\" transform=\"rotate(0, 369.14, 1504.97)\" x=\"369.14\" y=\"1504.97\">8</text>\n",
              "</g>\n",
              "<circle clip-path=\"url(#clip7602)\" style=\"fill:#781c6d; stroke:none; fill-opacity:1\" cx=\"393.14\" cy=\"47.2441\" r=\"36\"/>\n",
              "<circle clip-path=\"url(#clip7602)\" style=\"fill:#fbb419; stroke:none; fill-opacity:1\" cx=\"393.14\" cy=\"252.991\" r=\"36\"/>\n",
              "<circle clip-path=\"url(#clip7602)\" style=\"fill:#fcfea4; stroke:none; fill-opacity:1\" cx=\"393.14\" cy=\"870.233\" r=\"36\"/>\n",
              "<circle clip-path=\"url(#clip7602)\" style=\"fill:#fbb419; stroke:none; fill-opacity:1\" cx=\"598.887\" cy=\"47.2441\" r=\"36\"/>\n",
              "<circle clip-path=\"url(#clip7602)\" style=\"fill:#33095d; stroke:none; fill-opacity:1\" cx=\"598.887\" cy=\"252.991\" r=\"36\"/>\n",
              "<circle clip-path=\"url(#clip7602)\" style=\"fill:#fbb419; stroke:none; fill-opacity:1\" cx=\"598.887\" cy=\"458.739\" r=\"36\"/>\n",
              "<circle clip-path=\"url(#clip7602)\" style=\"fill:#fcfea4; stroke:none; fill-opacity:1\" cx=\"598.887\" cy=\"1075.98\" r=\"36\"/>\n",
              "<circle clip-path=\"url(#clip7602)\" style=\"fill:#fbb419; stroke:none; fill-opacity:1\" cx=\"804.634\" cy=\"252.991\" r=\"36\"/>\n",
              "<circle clip-path=\"url(#clip7602)\" style=\"fill:#33095d; stroke:none; fill-opacity:1\" cx=\"804.634\" cy=\"458.739\" r=\"36\"/>\n",
              "<circle clip-path=\"url(#clip7602)\" style=\"fill:#fbb419; stroke:none; fill-opacity:1\" cx=\"804.634\" cy=\"664.486\" r=\"36\"/>\n",
              "<circle clip-path=\"url(#clip7602)\" style=\"fill:#fcfea4; stroke:none; fill-opacity:1\" cx=\"804.634\" cy=\"1281.73\" r=\"36\"/>\n",
              "<circle clip-path=\"url(#clip7602)\" style=\"fill:#fbb419; stroke:none; fill-opacity:1\" cx=\"1010.38\" cy=\"458.739\" r=\"36\"/>\n",
              "<circle clip-path=\"url(#clip7602)\" style=\"fill:#781c6d; stroke:none; fill-opacity:1\" cx=\"1010.38\" cy=\"664.486\" r=\"36\"/>\n",
              "<circle clip-path=\"url(#clip7602)\" style=\"fill:#fcfea4; stroke:none; fill-opacity:1\" cx=\"1010.38\" cy=\"1487.47\" r=\"36\"/>\n",
              "<circle clip-path=\"url(#clip7602)\" style=\"fill:#fbb419; stroke:none; fill-opacity:1\" cx=\"1216.13\" cy=\"47.2441\" r=\"36\"/>\n",
              "<circle clip-path=\"url(#clip7602)\" style=\"fill:#33095d; stroke:none; fill-opacity:1\" cx=\"1216.13\" cy=\"870.233\" r=\"36\"/>\n",
              "<circle clip-path=\"url(#clip7602)\" style=\"fill:#fbb419; stroke:none; fill-opacity:1\" cx=\"1216.13\" cy=\"1075.98\" r=\"36\"/>\n",
              "<circle clip-path=\"url(#clip7602)\" style=\"fill:#fbb419; stroke:none; fill-opacity:1\" cx=\"1421.88\" cy=\"252.991\" r=\"36\"/>\n",
              "<circle clip-path=\"url(#clip7602)\" style=\"fill:#fbb419; stroke:none; fill-opacity:1\" cx=\"1421.88\" cy=\"870.233\" r=\"36\"/>\n",
              "<circle clip-path=\"url(#clip7602)\" style=\"fill:#000003; stroke:none; fill-opacity:1\" cx=\"1421.88\" cy=\"1075.98\" r=\"36\"/>\n",
              "<circle clip-path=\"url(#clip7602)\" style=\"fill:#fbb419; stroke:none; fill-opacity:1\" cx=\"1421.88\" cy=\"1281.73\" r=\"36\"/>\n",
              "<circle clip-path=\"url(#clip7602)\" style=\"fill:#fbb419; stroke:none; fill-opacity:1\" cx=\"1627.62\" cy=\"458.739\" r=\"36\"/>\n",
              "<circle clip-path=\"url(#clip7602)\" style=\"fill:#fbb419; stroke:none; fill-opacity:1\" cx=\"1627.62\" cy=\"1075.98\" r=\"36\"/>\n",
              "<circle clip-path=\"url(#clip7602)\" style=\"fill:#000003; stroke:none; fill-opacity:1\" cx=\"1627.62\" cy=\"1281.73\" r=\"36\"/>\n",
              "<circle clip-path=\"url(#clip7602)\" style=\"fill:#fbb419; stroke:none; fill-opacity:1\" cx=\"1627.62\" cy=\"1487.47\" r=\"36\"/>\n",
              "<circle clip-path=\"url(#clip7602)\" style=\"fill:#fbb419; stroke:none; fill-opacity:1\" cx=\"1833.37\" cy=\"664.486\" r=\"36\"/>\n",
              "<circle clip-path=\"url(#clip7602)\" style=\"fill:#fbb419; stroke:none; fill-opacity:1\" cx=\"1833.37\" cy=\"1281.73\" r=\"36\"/>\n",
              "<circle clip-path=\"url(#clip7602)\" style=\"fill:#33095d; stroke:none; fill-opacity:1\" cx=\"1833.37\" cy=\"1487.47\" r=\"36\"/>\n",
              "<defs>\n",
              "  <clipPath id=\"clip7603\">\n",
              "    <rect x=\"1881\" y=\"47\" width=\"73\" height=\"1441\"/>\n",
              "  </clipPath>\n",
              "</defs>\n",
              "<g clip-path=\"url(#clip7603)\">\n",
              "<image width=\"72\" height=\"1440\" xlink:href=\"data:image/png;base64,\n",
              "iVBORw0KGgoAAAANSUhEUgAAAEgAAAWgCAYAAAD9wgUPAAAMT0lEQVR4nO3dwY3sRhAFQY5Q/lsh\n",
              "L6XfLQtUeSQPERYsEg8kmpyZ/f17/r4P/+uvt/+ArxMoCBQECgKFOffft/+GT7OgIFAQKAgUBApz\n",
              "3cVWFhQECgIFgcLc4yK9saAgUBAoCBQECo4awYKCQEGgIFAQKLiLBQsKAgWBgkDBRTpYUBAoCBQE\n",
              "CgIFr32CBQWBgkBBoOCoESwoCBQECgIFgYK7WLCgIFAQKAgUBArzeGC2sqAgUBAoCBRcpIMFBYGC\n",
              "QEGgIFCYxwOzlQUFgYJAQaAgUHAWCxYUBAoCBYGCi3SwoCBQECgIFAQK85x/3v4bPs2CgkBBoCBQ\n",
              "8FYjWFAQKAgUBAoCBQ/MggUFgYJAQaAgUHAXCxYUBAoCBYHC/O6ft/+GT7OgIFAQKAgUBArzHHex\n",
              "jQUFgYJAQaAgUJifu9jKgoJAQaAgUHDUCBYUBAoCBYGCQGEer31WFhQECgIFgYLnQcGCgkBBoCBQ\n",
              "ECh4YBYsKAgUBAoCBYGCs1iwoCBQECgIFBw1ggUFgYJAQaAgUJjfOW//DZ9mQUGgIFAQKAgUnMWC\n",
              "BQWBgkBBoOAiHSwoCBQECgIFgYJ388GCgkBBoCBQmMdbjZUFBYGCQEGgIFBw1AgWFAQKAgWBgkDB\n",
              "a59gQUGgIFAQKLhIBwsKAgWBgkBBoODLLMGCgkBBoCBQECj48EKwoCBQECgIFDwwCxYUBAoCBYGC\n",
              "QMFRI1hQECgIFAQKLtLBgoJAQaAgUBAoeDcfLCgIFAQKAgWBgtc+wYKCQEGgIFDwwCxYUBAoCBQE\n",
              "CgIFd7FgQUGgIFAQKAgU3MWCBQWBgkBBoDDPuW//DZ9mQUGgIFAQKAgU5rmOGhsLCgIFgYJAwfOg\n",
              "YEFBoCBQECgIFDwwCxYUBAoCBYGCQMFZLFhQECgIFAQKLtLBgoJAQaAgUBAoeGAWLCgIFAQKAgWB\n",
              "grNYsKAgUBAoCBTmcY1eWVAQKAgUBAoCBXexYEFBoCBQECiMLxzuLCgIFAQKAgWBgqNGsKAgUBAo\n",
              "CBQECu5iwYKCQEGgIFBwkQ4WFAQKAgWBgkBhHt9lWVlQECgIFAQKAoW55/f23/BpFhQECgIFgYIH\n",
              "ZsGCgkBBoCBQECjM46ixsqAgUBAoCBTmXhfpjQUFgYJAQaAgUHDUCBYUBAoCBYGCQMFdLFhQECgI\n",
              "FAQKHpgFCwoCBYGCQEGg4KgRLCgIFAQKAgWBwjxHo406QaAgUBAoeGAWLCgIFAQKAgWBggdmwYKC\n",
              "QEGgIFDw4ybBgoJAQaAgUBAozHM12qgTBAoCBYGCQMFZLFhQECgIFAQKLtLBgoJAQaAgUBAo+Bhw\n",
              "UCcIFAQKAgWBgs9JBwsKAgWBgkDBx4CDBQWBgkBBoCBQmOuB2UqdIFAQKAgUPA8KFhQECgIFgYJA\n",
              "wQOzYEFBoCBQECgIFDwwC+oEgYJAQaDggVmwoCBQECgIFAQKvpIZLCgIFAQKAgWBwly/YbZSJwgU\n",
              "BAoCBe/mgwUFgYJAQaAgUPDALFhQECgIFAQK3s0HCwoCBYGCQEGg4GPAQZ0gUBAoCBQECs5iwYKC\n",
              "QEGgIFDwViNYUBAoCBQECgIFR41gQUGgIFAQKAgUvPYJ6gSBgkBBoOCoESwoCBQECgIFgYLXPsGC\n",
              "gkBBoCBQcNQIFhQECgIFgYJAwVuNoE4QKAgUBAoCBWexYEFBoCBQECi4SAcLCgIFgYJAQaDgLhYs\n",
              "KAgUBAoCBYGCT5gFCwoCBYGCQGGOf5+1UicIFAQKAgWBggdmwYKCQEGgIFDwPChYUBAoCBQECgIF\n",
              "R41gQUGgIFAQKAgU3MWCBQWBgkBBoOAiHSwoCBQECgIFgYK7WLCgIFAQKAgUBApz3MVWFhQECgIF\n",
              "gYKjRrCgIFAQKAgUBAruYsGCgkBBoCBQcJEOFhQECgIFgYJAwV0sWFAQKAgUBAoCBXexYEFBoCBQ\n",
              "ECj4AFWwoCBQECgIFAQKjhrBgoJAQaAgUBAouIsFCwoCBYGCQMF/ZgnqBIGCQEGgIFBw1AgWFAQK\n",
              "AgWBgnfzwYKCQEGgIFAQKDhqBAsKAgWBgkBBoOAsFiwoCBQECgIFR41gQUGgIFAQKAgU3MWCBQWB\n",
              "gkBBoCBQ8MAsWFAQKAgUBApzHxfpjQUFgYJAQaAgUHDUCBYUBAoCBYGCtxrBgoJAQaAgUBAozLlv\n",
              "/wnfZkFBoCBQECgIFJzFggUFgYJAQaDgrUawoCBQECgIFAQKc3zCbGVBQaAgUBAoCBQ8MAsWFAQK\n",
              "AgWBggdmwYKCQEGgIFAQKDhqBAsKAgWBgkBhztt/wcdZUBAoCBQECgIFR41gQUGgIFAQKAgUvPYJ\n",
              "FhQECgIFgYIfmgwWFAQKAgWBgkDBUSNYUBAoCBQECgIFv2EWLCgIFAQKAgUPzIIFBYGCQEGgIFDw\n",
              "CbNgQUGgIFAQKPgyS7CgIFAQKAgUBAqOGsGCgkBBoCBQECg4iwULCgIFgYJAwVEjWFAQKAgUBAoC\n",
              "BV9mCRYUBAoCBYGCQGF8l2VnQUGgIFAQKDhqBAsKAgWBgkBBoOCoESwoCBQECgIFR41gQUGgIFAQ\n",
              "KAgUHDWCBQWBgkBBoCBQcBYLFhQECgIFgYJfAw4WFAQKAgWBgkDBzyUHCwoCBYGCQEGg4CwWLCgI\n",
              "FAQKAoU5jhorCwoCBYGCQEGgMNdRY2VBQaAgUBAo+ABVsKAgUBAoCBQECr7MEiwoCBQECgIFgYJ3\n",
              "88GCgkBBoCBQ8G4+WFAQKAgUBAoCBe/mgwUFgYJAQaAgUPCvjIMFBYGCQEGg4BNmwYKCQEGgIFAQ\n",
              "KHhgFiwoCBQECgIFz4OCBQWBgkBBoCBQcNQIFhQECgIFgYJAweekgwUFgYJAQaDgG4fBgoJAQaAg\n",
              "UBAo+PWXYEFBoCBQECgIFJzFggUFgYJAQaDgIh0sKAgUBAoCBYGCf2UcLCgIFAQKAgVHjWBBQaAg\n",
              "UBAoCBS8mw8WFAQKAgWBgkDBWSxYUBAoCBQECi7SwYKCQEGgIFAQKHhgFiwoCBQECgIFgYKzWLCg\n",
              "IFAQKAgU/FxysKAgUBAoCBQECn4uOVhQECgIFAQKngcFCwoCBYGCQEGg4N18sKAgUBAoCBQECs5i\n",
              "wYKCQEGgIFCY+7hKbywoCBQECgIFgYKjRrCgIFAQKAgUBApe+wQLCgIFgYJAwVEjWFAQKAgUBAoC\n",
              "BUeNYEFBoCBQECg4agQLCgIFgYJAQaDge/PBgoJAQaAgUBAozPE56ZUFBYGCQEGg4KgRLCgIFAQK\n",
              "AgWBgqNGsKAgUBAoCBQECn70P1hQECgIFAQKcz0xW1lQECgIFAQKAgVHjWBBQaAgUBAo+DJLsKAg\n",
              "UBAoCBQECn4uOVhQECgIFAQKAgVnsWBBQaAgUBAo+BhwsKAgUBAoCBQECh6YBQsKAgWBgkBBoOAs\n",
              "FiwoCBQECgIFF+lgQUGgIFAQKAgU5vhK5sqCgkBBoCBQ8FYjWFAQKAgUBAoCBQ/MggUFgYJAQaAg\n",
              "UHAXCxYUBAoCBYGCi3SwoCBQECgIFAQKcx8/NbmxoCBQECgIFAQKzmLBgoJAQaAgUJjzc9TYWFAQ\n",
              "KAgUBAoChTkemK0sKAgUBAoCBRfpYEFBoCBQECgIFLybDxYUBAoCBYGCQGHOz7v5jQUFgYJAQaDg\n",
              "gVmwoCBQECgIFAQK7mLBgoJAQaAgUBAoeO0TLCgIFAQKAoU5z5+3/4ZPs6AgUBAoCBQECh6YBQsK\n",
              "AgWBgkBhrqPGyoKCQEGgIFAQKDhqBAsKAgWBgkBBoOAuFiwoCBQECgIFD8yCBQWBgkBBoCBQcNQI\n",
              "FhQECgIFgYJAwVksWFAQKAgUBAq+cRgsKAgUBAoCBYHCnOsutrGgIFAQKAgUHDWCBQWBgkBBoCBQ\n",
              "mOuosbKgIFAQKAgUBArOYsGCgkBBoCBQ8AGqYEFBoCBQECgIFLybDxYUBAoCBYGCQMEDs2BBQaAg\n",
              "UBAoeDcfLCgIFAQKAgWBgtc+wYKCQEGgIFBw1AgWFAQKAgWBgkDBW41gQUGgIFAQKAgUnMWCBQWB\n",
              "gkBBoOCtRrCgIFAQKAgUBAqOGsGCgkBBoCBQECh47RMsKAgUBAoChbnXA7ONBQWBgkBBoCBQcNQI\n",
              "FhQECgIFgcI89779N3yaBQWBgkBBoCBQmMdRY2VBQaAgUBAoCBR8wixYUBAoCBQECo4awYKCQEGg\n",
              "IFAQKHg3HywoCBQECgIFgcI8HpitLCgIFAQKAgVHjWBBQaAgUBAoCBS89gkWFAQKAgWBwn8v2/BP\n",
              "X8iooQAAAABJRU5ErkJggg==\n",
              "\" transform=\"translate(1881, 47)\"/>\n",
              "</g>\n",
              "<g clip-path=\"url(#clip7600)\">\n",
              "<text style=\"fill:#000000; fill-opacity:1; font-family:Arial,Helvetica Neue,Helvetica,sans-serif; font-size:48px; text-anchor:start;\" transform=\"rotate(0, 1989.37, 1501.13)\" x=\"1989.37\" y=\"1501.13\">-</text>\n",
              "</g>\n",
              "<g clip-path=\"url(#clip7600)\">\n",
              "<text style=\"fill:#000000; fill-opacity:1; font-family:Arial,Helvetica Neue,Helvetica,sans-serif; font-size:48px; text-anchor:start;\" transform=\"rotate(0, 2017.48, 1501.13)\" x=\"2017.48\" y=\"1501.13\">0.4</text>\n",
              "</g>\n",
              "<g clip-path=\"url(#clip7600)\">\n",
              "<text style=\"fill:#000000; fill-opacity:1; font-family:Arial,Helvetica Neue,Helvetica,sans-serif; font-size:48px; text-anchor:start;\" transform=\"rotate(0, 1989.37, 1261.09)\" x=\"1989.37\" y=\"1261.09\">-</text>\n",
              "</g>\n",
              "<g clip-path=\"url(#clip7600)\">\n",
              "<text style=\"fill:#000000; fill-opacity:1; font-family:Arial,Helvetica Neue,Helvetica,sans-serif; font-size:48px; text-anchor:start;\" transform=\"rotate(0, 2017.48, 1261.09)\" x=\"2017.48\" y=\"1261.09\">0.3</text>\n",
              "</g>\n",
              "<g clip-path=\"url(#clip7600)\">\n",
              "<text style=\"fill:#000000; fill-opacity:1; font-family:Arial,Helvetica Neue,Helvetica,sans-serif; font-size:48px; text-anchor:start;\" transform=\"rotate(0, 1989.37, 1021.05)\" x=\"1989.37\" y=\"1021.05\">-</text>\n",
              "</g>\n",
              "<g clip-path=\"url(#clip7600)\">\n",
              "<text style=\"fill:#000000; fill-opacity:1; font-family:Arial,Helvetica Neue,Helvetica,sans-serif; font-size:48px; text-anchor:start;\" transform=\"rotate(0, 2017.48, 1021.05)\" x=\"2017.48\" y=\"1021.05\">0.2</text>\n",
              "</g>\n",
              "<g clip-path=\"url(#clip7600)\">\n",
              "<text style=\"fill:#000000; fill-opacity:1; font-family:Arial,Helvetica Neue,Helvetica,sans-serif; font-size:48px; text-anchor:start;\" transform=\"rotate(0, 1989.37, 781.011)\" x=\"1989.37\" y=\"781.011\">-</text>\n",
              "</g>\n",
              "<g clip-path=\"url(#clip7600)\">\n",
              "<text style=\"fill:#000000; fill-opacity:1; font-family:Arial,Helvetica Neue,Helvetica,sans-serif; font-size:48px; text-anchor:start;\" transform=\"rotate(0, 2017.48, 781.011)\" x=\"2017.48\" y=\"781.011\">0.1</text>\n",
              "</g>\n",
              "<g clip-path=\"url(#clip7600)\">\n",
              "<text style=\"fill:#000000; fill-opacity:1; font-family:Arial,Helvetica Neue,Helvetica,sans-serif; font-size:48px; text-anchor:start;\" transform=\"rotate(0, 1989.37, 540.972)\" x=\"1989.37\" y=\"540.972\">0</text>\n",
              "</g>\n",
              "<g clip-path=\"url(#clip7600)\">\n",
              "<text style=\"fill:#000000; fill-opacity:1; font-family:Arial,Helvetica Neue,Helvetica,sans-serif; font-size:48px; text-anchor:start;\" transform=\"rotate(0, 1989.37, 300.934)\" x=\"1989.37\" y=\"300.934\">0.1</text>\n",
              "</g>\n",
              "<g clip-path=\"url(#clip7600)\">\n",
              "<text style=\"fill:#000000; fill-opacity:1; font-family:Arial,Helvetica Neue,Helvetica,sans-serif; font-size:48px; text-anchor:start;\" transform=\"rotate(0, 1989.37, 60.8953)\" x=\"1989.37\" y=\"60.8953\">0.2</text>\n",
              "</g>\n",
              "<polyline clip-path=\"url(#clip7600)\" style=\"stroke:#000000; stroke-width:4; stroke-opacity:1; fill:none\" points=\"\n",
              "  1953.37,1487.47 1953.37,1487.47 1977.37,1487.47 1953.37,1487.47 1953.37,1247.44 1977.37,1247.44 1953.37,1247.44 1953.37,1007.4 1977.37,1007.4 1953.37,1007.4 \n",
              "  1953.37,767.359 1977.37,767.359 1953.37,767.359 1953.37,527.321 1977.37,527.321 1953.37,527.321 1953.37,287.283 1977.37,287.283 1953.37,287.283 1953.37,47.2441 \n",
              "  1977.37,47.2441 1953.37,47.2441 \n",
              "  \"/>\n",
              "<g clip-path=\"url(#clip7600)\">\n",
              "<text style=\"fill:#000000; fill-opacity:1; font-family:Arial,Helvetica Neue,Helvetica,sans-serif; font-size:66px; text-anchor:middle;\" transform=\"rotate(-90, 2130.97, 767.359)\" x=\"2130.97\" y=\"767.359\"></text>\n",
              "</g>\n",
              "</svg>\n"
            ]
          },
          "metadata": {}
        }
      ],
      "execution_count": 41,
      "metadata": {
        "hide-output": false
      }
    },
    {
      "cell_type": "markdown",
      "source": [
        "To calculate a simple dynamic pricing problem, consider if the payoff of being in state $ (i,j) $ is $ r_{ij} = i + 2j $"
      ],
      "metadata": {}
    },
    {
      "cell_type": "code",
      "source": [
        "r = [i + 2.0j for i in 1:N, j in 1:M]\n",
        "r = vec(r)  # vectorize it since stacked in same order"
      ],
      "outputs": [
        {
          "output_type": "execute_result",
          "execution_count": 42,
          "data": {
            "text/plain": [
              "8-element Array{Float64,1}:\n",
              " 3.0\n",
              " 4.0\n",
              " 5.0\n",
              " 6.0\n",
              " 5.0\n",
              " 6.0\n",
              " 7.0\n",
              " 8.0"
            ]
          },
          "metadata": {}
        }
      ],
      "execution_count": 42,
      "metadata": {
        "hide-output": false
      }
    },
    {
      "cell_type": "markdown",
      "source": [
        "Solving the equation $ \\rho v = r + L v $"
      ],
      "metadata": {}
    },
    {
      "cell_type": "code",
      "source": [
        "ρ = 0.05\n",
        "v = (ρ * I - L) \\ r\n",
        "reshape(v, N, M)"
      ],
      "outputs": [
        {
          "output_type": "execute_result",
          "execution_count": 43,
          "data": {
            "text/plain": [
              "4×2 Array{Float64,2}:\n",
              "  87.8992   93.6134\n",
              "  96.1345  101.849 \n",
              " 106.723   112.437 \n",
              " 114.958   120.672 "
            ]
          },
          "metadata": {}
        }
      ],
      "execution_count": 43,
      "metadata": {
        "hide-output": false
      }
    },
    {
      "cell_type": "markdown",
      "source": [
        "The `reshape` helps to rearrange it back to being two-dimensional.\n",
        "\n",
        "To find the stationary distribution, we calculate the eigenvalue and choose the eigenvector associated with $ \\lambda=0 $ ."
      ],
      "metadata": {}
    },
    {
      "cell_type": "code",
      "source": [
        "L_eig = eigen(Matrix(L'))\n",
        "@assert norm(L_eig.values[end]) < 1E-10\n",
        "\n",
        "ψ = L_eig.vectors[:,end]\n",
        "ψ = ψ / sum(ψ)"
      ],
      "outputs": [
        {
          "output_type": "execute_result",
          "execution_count": 44,
          "data": {
            "text/plain": [
              "8-element Array{Float64,1}:\n",
              " 0.16666666666666669\n",
              " 0.1666666666666665 \n",
              " 0.16666666666666669\n",
              " 0.1666666666666668 \n",
              " 0.08333333333333327\n",
              " 0.08333333333333344\n",
              " 0.08333333333333331\n",
              " 0.0833333333333334 "
            ]
          },
          "metadata": {}
        }
      ],
      "execution_count": 44,
      "metadata": {
        "hide-output": false
      }
    },
    {
      "cell_type": "markdown",
      "source": [
        "We can reshape this to be two dimensional if it is helpful for visualization"
      ],
      "metadata": {}
    },
    {
      "cell_type": "code",
      "source": [
        "reshape(ψ, N, size(A,1))"
      ],
      "outputs": [
        {
          "output_type": "execute_result",
          "execution_count": 45,
          "data": {
            "text/plain": [
              "4×2 Array{Float64,2}:\n",
              " 0.166667  0.0833333\n",
              " 0.166667  0.0833333\n",
              " 0.166667  0.0833333\n",
              " 0.166667  0.0833333"
            ]
          },
          "metadata": {}
        }
      ],
      "execution_count": 45,
      "metadata": {
        "hide-output": false
      }
    },
    {
      "cell_type": "markdown",
      "source": [
        "### Irreducibility\n",
        "\n",
        "As with the discrete time Markov chains, a key question is whether CTMCs are reducible, i.e. states communicate.  The problem\n",
        "is isomorphic to determining if the directed graph of the Markov chain is [strongly connected](https://en.wikipedia.org/wiki/Strongly_connected_component)."
      ],
      "metadata": {}
    },
    {
      "cell_type": "code",
      "source": [
        "using LightGraphs\n",
        "α = 0.1\n",
        "N = 6\n",
        "Q = Tridiagonal(fill(α, N-1), [-α; fill(-2α, N-2); -α], fill(α, N-1))"
      ],
      "outputs": [
        {
          "output_type": "execute_result",
          "execution_count": 46,
          "data": {
            "text/plain": [
              "6×6 Tridiagonal{Float64,Array{Float64,1}}:\n",
              " -0.1   0.1    ⋅     ⋅     ⋅     ⋅ \n",
              "  0.1  -0.2   0.1    ⋅     ⋅     ⋅ \n",
              "   ⋅    0.1  -0.2   0.1    ⋅     ⋅ \n",
              "   ⋅     ⋅    0.1  -0.2   0.1    ⋅ \n",
              "   ⋅     ⋅     ⋅    0.1  -0.2   0.1\n",
              "   ⋅     ⋅     ⋅     ⋅    0.1  -0.1"
            ]
          },
          "metadata": {}
        }
      ],
      "execution_count": 46,
      "metadata": {
        "hide-output": false
      }
    },
    {
      "cell_type": "markdown",
      "source": [
        "This graph visually shows"
      ],
      "metadata": {}
    },
    {
      "cell_type": "code",
      "source": [
        "Q_graph = DiGraph(Q)\n",
        "@show is_strongly_connected(Q_graph);  # i.e. can follow directional edges to get to every state"
      ],
      "outputs": [
        {
          "output_type": "stream",
          "name": "stdout",
          "text": [
            "is_strongly_connected(Q_graph) = true\n"
          ]
        }
      ],
      "execution_count": 47,
      "metadata": {
        "hide-output": false
      }
    },
    {
      "cell_type": "markdown",
      "source": [
        "Alternatively, as an example of a reducible Markov chain where states $ 1 $ and $ 2 $ cannot jump to state $ 3 $."
      ],
      "metadata": {}
    },
    {
      "cell_type": "code",
      "source": [
        "Q = [-0.2 0.2 0\n",
        "    0.2 -0.2 0\n",
        "    0.2 0.6 -0.2]\n",
        "Q_graph = DiGraph(Q)\n",
        "@show is_strongly_connected(Q_graph);"
      ],
      "outputs": [
        {
          "output_type": "stream",
          "name": "stdout",
          "text": [
            "is_strongly_connected(Q_graph) = false\n"
          ]
        }
      ],
      "execution_count": 48,
      "metadata": {
        "hide-output": false
      }
    },
    {
      "cell_type": "markdown",
      "source": [
        "## Banded Matrices\n",
        "\n",
        "A tridiagonal matrix has 3 non-zero diagonals.  The main diagonal, the first sub-diagonal (i.e. below the main diagonal) and the also the first super-diagonal (i.e. above the main diagonal).\n",
        "\n",
        "This is a special case of a more general type called a banded matrix, where the number of sub and super-diagonals can be greater than 1.  The\n",
        "total width of main, sub-, and super-diagonals is called the bandwidth.  For example, a tridiagonal matrix has a bandwidth of 3.\n",
        "\n",
        "A $ N \\times N $ banded matrix with bandwidth $ P $ has about $ N P $ nonzeros in its sparsity pattern.\n",
        "\n",
        "These can be created directly as a dense matrix with `diagm`"
      ],
      "metadata": {}
    },
    {
      "cell_type": "code",
      "source": [
        "diagm(1 => [1,2,3], -1 => [4,5,6])"
      ],
      "outputs": [
        {
          "output_type": "execute_result",
          "execution_count": 49,
          "data": {
            "text/plain": [
              "4×4 Array{Int64,2}:\n",
              " 0  1  0  0\n",
              " 4  0  2  0\n",
              " 0  5  0  3\n",
              " 0  0  6  0"
            ]
          },
          "metadata": {}
        }
      ],
      "execution_count": 49,
      "metadata": {
        "hide-output": false
      }
    },
    {
      "cell_type": "markdown",
      "source": [
        "Or as a sparse matrix,"
      ],
      "metadata": {}
    },
    {
      "cell_type": "code",
      "source": [
        "spdiagm(1 => [1,2,3], -1 => [4,5,6])"
      ],
      "outputs": [
        {
          "output_type": "execute_result",
          "execution_count": 50,
          "data": {
            "text/plain": [
              "4×4 SparseMatrixCSC{Int64,Int64} with 6 stored entries:\n",
              "  [2, 1]  =  4\n",
              "  [1, 2]  =  1\n",
              "  [3, 2]  =  5\n",
              "  [2, 3]  =  2\n",
              "  [4, 3]  =  6\n",
              "  [3, 4]  =  3"
            ]
          },
          "metadata": {}
        }
      ],
      "execution_count": 50,
      "metadata": {
        "hide-output": false
      }
    },
    {
      "cell_type": "markdown",
      "source": [
        "Or, directly using [BandedMatrices.jl](https://github.com/JuliaMatrices/BandedMatrices.jl)"
      ],
      "metadata": {}
    },
    {
      "cell_type": "code",
      "source": [
        "using BandedMatrices\n",
        "BandedMatrix(1 => [1,2,3], -1 => [4,5,6])"
      ],
      "outputs": [
        {
          "output_type": "execute_result",
          "execution_count": 51,
          "data": {
            "text/plain": [
              "4×4 BandedMatrix{Int64,Array{Int64,2},Base.OneTo{Int64}}:\n",
              " 0  1  ⋅  ⋅\n",
              " 4  0  2  ⋅\n",
              " ⋅  5  0  3\n",
              " ⋅  ⋅  6  0"
            ]
          },
          "metadata": {}
        }
      ],
      "execution_count": 51,
      "metadata": {
        "hide-output": false
      }
    },
    {
      "cell_type": "markdown",
      "source": [
        "There is also a convenience function for generating random banded matrices"
      ],
      "metadata": {}
    },
    {
      "cell_type": "code",
      "source": [
        "A = brand(7, 7, 3, 1)  # 7x7 matrix, 3 subdiagonals, 1 subdiagonal"
      ],
      "outputs": [
        {
          "output_type": "execute_result",
          "execution_count": 52,
          "data": {
            "text/plain": [
              "7×7 BandedMatrix{Float64,Array{Float64,2},Base.OneTo{Int64}}:\n",
              " 0.909192  0.999804   ⋅         ⋅         ⋅         ⋅          ⋅       \n",
              " 0.365279  0.231345  0.449552   ⋅         ⋅         ⋅          ⋅       \n",
              " 0.719595  0.32635   0.374328  0.815217   ⋅         ⋅          ⋅       \n",
              " 0.441325  0.486003  0.386271  0.770824  0.976365   ⋅          ⋅       \n",
              "  ⋅        0.438857  0.424792  0.624999  0.177116  0.135212    ⋅       \n",
              "  ⋅         ⋅        0.754709  0.155209  0.916274  0.0422574  0.0167215\n",
              "  ⋅         ⋅         ⋅        0.41038   0.13815   0.163309   0.528277 "
            ]
          },
          "metadata": {}
        }
      ],
      "execution_count": 52,
      "metadata": {
        "hide-output": false
      }
    },
    {
      "cell_type": "markdown",
      "source": [
        "And, of course, specialized algorithms will be used to exploit the structure when solving linear systems.  In particular, the complexity is related to the $ O(N P_L P_U) $ for upper and lower bandwidths $ P $"
      ],
      "metadata": {}
    },
    {
      "cell_type": "code",
      "source": [
        "@show factorize(Symmetric(A)) |> typeof\n",
        "A \\ rand(7)"
      ],
      "outputs": [
        {
          "output_type": "stream",
          "name": "stdout",
          "text": [
            "factorize(Symmetric(A)) |> typeof = LDLt{Float64,Symmetric{Float64,BandedMatrix{Float64,Array{Float64,2},Base.OneTo{Int64}}}}\n"
          ]
        },
        {
          "output_type": "execute_result",
          "execution_count": 53,
          "data": {
            "text/plain": [
              "7-element Array{Float64,1}:\n",
              " -2.0656030361729125 \n",
              "  2.093360259272618  \n",
              "  2.793643054381428  \n",
              "  0.05325581046848979\n",
              " -1.1075022789389772 \n",
              " -8.08705215511709   \n",
              "  3.829925059373694  "
            ]
          },
          "metadata": {}
        }
      ],
      "execution_count": 53,
      "metadata": {
        "hide-output": false
      }
    },
    {
      "cell_type": "markdown",
      "source": [
        "The algorithm a specialized LU decomposition for block-banded matrices.\n",
        "\n",
        "\n",
        "<a id='implementation-numerics'></a>"
      ],
      "metadata": {}
    },
    {
      "cell_type": "markdown",
      "source": [
        "## Implementation Details and Performance\n",
        "\n",
        "Recall the famous quote from Knuth: “97% of the time: premature optimization is the root of all evil. Yet we should not pass up our opportunities in that critical 3%”.  The most common example of premature optimization is trying to use your own mental model of a compiler while writing your code, worried about the efficiency of code and (usually incorrectly) second-guessing the compiler.\n",
        "\n",
        "Concretely, the lessons in this section are\n",
        "\n",
        "1. Don’t worry about optimizing your code unless you need to.  Code clarity is your first-order concern.  \n",
        "1. If you use other people’s packages, they can worry about performance and you don’t need to.  \n",
        "1. If you absolutely need that “critical 3%” your intuition about performance is usually wrong on modern CPUs and GPUs, so let the compiler do its job.  \n",
        "1. Benchmarking (e.g. `@btime`) and [profiling](https://docs.julialang.org/en/v1/manual/profile/) are the tools to figure out performance bottlenecks.  If 99% of\n",
        "  of computing time is spent in 1 small function, then there is no point optimizing anything else.  \n",
        "1. If you benchmark to show that a particular part of the code is an issue, and you can’t find another library that does a better job, then you can worry about performance.  \n",
        "\n",
        "\n",
        "You will rarely get to step 3, let alone step 5.\n",
        "\n",
        "However, there is also a corollary:  “don’t pessimize prematurely”. That is, don’t make choices that lead to poor performance without any tradeoff in improved code clarity.  For example, writing your own algorithms when a high performance algorithm exists in a package or Julia itself, or lazily making a matrix dense and carelessly dropping its structure."
      ],
      "metadata": {}
    },
    {
      "cell_type": "markdown",
      "source": [
        "### Implementation Difficulty\n",
        "\n",
        "Numerical analysis sometimes to refer to the lowest level of code for basic operations (e.g. a dot product, matrix-matrix product, convolutions) as `kernels`.\n",
        "\n",
        "That sort of code is difficult to write, and performance depends on the characteristics of the underlying hardware such as the [instruction set](https://en.wikipedia.org/wiki/Instruction_set_architecture) available on the particular CPU, the size of the [CPU cache](https://en.wikipedia.org/wiki/CPU_cache), and the layout of arrays in memory.\n",
        "\n",
        "Typically these operations are written in a [BLAS](https://en.wikipedia.org/wiki/Basic_Linear_Algebra_Subprograms) library, organized into different levels.  The levels roughly correspond to the computational order of the operations:  BLAS Level 1 are $ O(N) $ operations such as linear products, Level 2 are $ O(N^2) $ operations such as matrix-vector products, and Level 3 are $ O(N^3) $ such as general matrix-matrix products.\n",
        "\n",
        "An example of a BLAS library is [OpenBLAS](https://github.com/xianyi/OpenBLAS) used by default in Julia, or  the [Intel MKL](https://en.wikipedia.org/wiki/Math_Kernel_Library) used in Matlab (and Julia if the `MKL.jl` package is installed).\n",
        "\n",
        "On top of BLAS are [LAPACK](https://en.wikipedia.org/wiki/LAPACK) operations, which are higher level kernels, such as matrix factorizations and eigenvalue algorithms, and are often in the same libraries (e.g. MKL has both BLAS and LAPACK functionality).\n",
        "\n",
        "The details of these packages are not especially relevant, but if you are talking about performance, people will inevitably start discussing these different packages and kernels.  There are a few important things to keep in mind:\n",
        "\n",
        "1. Leave writing kernels to the experts.  Even simple sounding algorithms can be very complicated to make high performance.  \n",
        "1. Your intuition about performance of code is probably going to be wrong.  If you use high quality libraries rather than writing your own kernels, you don’t need to use your intuition.  \n",
        "1. Don’t get distracted by the jargon or acronyms above if you are reading about performance.  "
      ],
      "metadata": {}
    },
    {
      "cell_type": "markdown",
      "source": [
        "### Row and Column-Major Ordering\n",
        "\n",
        "There is a practical performance issue which may influence your code.  Since memory in a CPU is linear, dense matrices need to be stored by either stacking columns (called [column-major order](https://en.wikipedia.org/wiki/Row-_and_column-major_order)) or rows.\n",
        "\n",
        "The reason this matters is that compilers can generate better performance if they work in contiguous chunks of memory, and this becomes especially important with large matrices due to the interaction with the CPU cache.  Choosing the wrong order when there is no benefit in code clarity is a an example of premature pessimization.  The performance difference can be orders of magnitude in some cases, and nothing in others.\n",
        "\n",
        "One option is to use the functions that let the compiler choose the most efficient way to traverse memory. If you need to choose the looping order yourself, then you might want to experiment with swapping whether you go through columns or rows first.  Other times, let Julia decide, i.e. `enumerate` and `eachindex` will choose the right approach.\n",
        "\n",
        "Julia, Fortran, and Matlab all use column-major order while C/C++ and Python use row-major order.  This means that if you find an algorithm written for C/C++/Python you will sometimes need to make small changes if performance is an issue."
      ],
      "metadata": {}
    },
    {
      "cell_type": "markdown",
      "source": [
        "### Digression on Allocations and Inplace Operations\n",
        "\n",
        "While we have usually not considered optimizing code for performance (and focused on the choice of\n",
        "algorithms instead), when matrices and vectors become large we need to be more careful.\n",
        "\n",
        "The most important thing to avoid are excess allocations, which usually occur due to the use of\n",
        "temporary vectors and matrices when they are not necessary.  Sometimes those extra temporary values\n",
        "can cause enormous degredations in performance.\n",
        "\n",
        "However, caution is suggested since\n",
        "excess allocations are never relevant for scalar values, and can sometimes create faster code for\n",
        "smaller matrices/vectors since it can lead to better [cache locality](https://en.wikipedia.org/wiki/Locality_of_reference).\n",
        "\n",
        "To see this, a convenient tool is the benchmarking"
      ],
      "metadata": {}
    },
    {
      "cell_type": "code",
      "source": [
        "using BenchmarkTools\n",
        "A = rand(10,10)\n",
        "B = rand(10,10)\n",
        "C = similar(A)\n",
        "function f!(C, A, B)\n",
        "    D = A*B\n",
        "    C .= D .+ 1\n",
        "end\n",
        "@btime f!($C, $A, $B)"
      ],
      "outputs": [
        {
          "output_type": "stream",
          "name": "stdout",
          "text": [
            "  565.405 ns (1 allocation: 896 bytes)\n"
          ]
        },
        {
          "output_type": "execute_result",
          "execution_count": 54,
          "data": {
            "text/plain": [
              "10×10 Array{Float64,2}:\n",
              " 3.00017  3.30146  3.19421  2.931    …  2.86516  3.45795  3.21823  3.56728\n",
              " 2.89356  3.80696  3.9359   3.08818     2.99012  3.91756  3.96194  3.40309\n",
              " 3.6578   4.14182  4.19339  3.57138     3.26475  4.093    4.39952  4.12536\n",
              " 3.01479  4.01799  4.3451   3.16811     3.35607  3.71766  4.18068  3.43241\n",
              " 2.51483  2.71889  2.85436  2.52423     2.2663   3.0724   2.99511  3.15074\n",
              " 4.69762  4.59687  4.63039  3.99239  …  3.62851  4.64178  4.50716  4.0128 \n",
              " 3.19921  3.89976  3.7035   3.37346     3.1357   3.71877  4.38951  3.98701\n",
              " 3.74569  4.80772  4.5111   3.80346     3.54253  4.48217  4.33268  3.89957\n",
              " 2.74908  4.21825  4.01952  3.31269     2.81493  3.87101  4.41809  3.37978\n",
              " 2.17474  2.02398  2.66357  1.88612     1.94634  2.32106  2.2074   2.15534"
            ]
          },
          "metadata": {}
        }
      ],
      "execution_count": 54,
      "metadata": {
        "hide-output": false
      }
    },
    {
      "cell_type": "markdown",
      "source": [
        "The `!` on the `f!` is an informal way to say that the function is mutating, and the first arguments (`C` here)\n",
        "is by convention the modified values.\n",
        "\n",
        "In the `f!` function, notice that the `D` is a temporary variable which is created, and then modified afterwards.  But, notice that since\n",
        "`C` is modified directly, there is no need to create the temporary `D` matrix.\n",
        "\n",
        "This is an example of where an inplace version of the matrix multiplication can help avoid the allocation."
      ],
      "metadata": {}
    },
    {
      "cell_type": "code",
      "source": [
        "function f2!(C, A, B)\n",
        "    mul!(C, A, B)  # in place multiplication\n",
        "    C .+= 1\n",
        "end\n",
        "A = rand(10,10)\n",
        "B = rand(10,10)\n",
        "C = similar(A)\n",
        "@btime f!($C, $A, $B)\n",
        "@btime f2!($C, $A, $B)"
      ],
      "outputs": [
        {
          "output_type": "stream",
          "name": "stdout",
          "text": [
            "  555.135 ns (1 allocation: 896 bytes)\n",
            "  498.964 ns (0 allocations: 0 bytes)\n"
          ]
        },
        {
          "output_type": "execute_result",
          "execution_count": 55,
          "data": {
            "text/plain": [
              "10×10 Array{Float64,2}:\n",
              " 4.73813  3.77289  4.383    3.43855  …  3.83811  2.57423  3.26083  3.42563\n",
              " 3.65135  3.03401  3.30964  2.9681      3.06587  2.09178  2.50549  3.09057\n",
              " 4.18424  3.39865  4.01303  2.76115     3.61969  2.45743  2.83093  3.1237 \n",
              " 3.51628  2.8582   2.66244  2.81682     2.81641  1.85632  2.65815  2.71383\n",
              " 5.97982  4.57594  4.96922  4.31472     4.91866  2.93451  4.02817  4.25554\n",
              " 3.83973  2.98239  3.41323  2.29676  …  3.98253  2.41441  2.75848  2.83409\n",
              " 3.01026  2.68221  2.87022  1.97828     2.99349  1.9412   2.40943  2.48763\n",
              " 5.29417  4.30378  4.562    4.15332     4.42037  2.69636  3.68781  3.85869\n",
              " 4.68153  3.62809  4.19926  3.56273     3.97236  2.59404  2.95793  3.62902\n",
              " 2.59148  2.75541  3.42386  1.86871     2.59298  2.22461  2.25589  2.20528"
            ]
          },
          "metadata": {}
        }
      ],
      "execution_count": 55,
      "metadata": {
        "hide-output": false
      }
    },
    {
      "cell_type": "markdown",
      "source": [
        "Note in the output of the benchmarking, the `f2!` is non-allocating and is using the pre-allocated `C` variable directly.\n",
        "\n",
        "Another example of this is solutions to linear equations, where for large solutions you may pre-callocate and reuse the\n",
        "solution vector."
      ],
      "metadata": {}
    },
    {
      "cell_type": "code",
      "source": [
        "A = rand(10,10)\n",
        "y = rand(10)\n",
        "z = A \\ y  # creates temporary\n",
        "\n",
        "A = factorize(A)  # inplace requires factorization\n",
        "x = similar(y)  # pre-allocate\n",
        "ldiv!(x, A, y)  # inplace left divide, using factorization"
      ],
      "outputs": [
        {
          "output_type": "execute_result",
          "execution_count": 56,
          "data": {
            "text/plain": [
              "10-element Array{Float64,1}:\n",
              "  0.07108718396179413\n",
              " -0.08329715154614271\n",
              " -0.15580851293529174\n",
              "  0.6975734336112906 \n",
              " -0.5530004580356502 \n",
              "  0.18264128633539528\n",
              "  0.7251824686591718 \n",
              "  0.5075902097757793 \n",
              " -0.6383442788622705 \n",
              " -0.443019398823186  "
            ]
          },
          "metadata": {}
        }
      ],
      "execution_count": 56,
      "metadata": {
        "hide-output": false
      }
    },
    {
      "cell_type": "markdown",
      "source": [
        "However, if you benchmark carefully, you will see that this is sometimes slower.  Avoiding allocations is not always a good\n",
        "idea - and worrying about it prior to benchmarking is premature optimization.\n",
        "\n",
        "There are a variety of other non-allocating versions of functions.  For example,"
      ],
      "metadata": {}
    },
    {
      "cell_type": "code",
      "source": [
        "A = rand(10,10)\n",
        "B = similar(A)\n",
        "\n",
        "transpose!(B, A)  # non-allocating version of B = transpose(A)"
      ],
      "outputs": [
        {
          "output_type": "execute_result",
          "execution_count": 57,
          "data": {
            "text/plain": [
              "10×10 Array{Float64,2}:\n",
              " 0.70827   0.411295   0.0834197  …  0.11247     0.904854   0.827702\n",
              " 0.154587  0.448786   0.935975      0.998019    0.481155   0.218838\n",
              " 0.584614  0.519837   0.918883      0.336193    0.993505   0.947485\n",
              " 0.644861  0.0350973  0.410407      0.00477567  0.442824   0.836457\n",
              " 0.308395  0.336602   0.95752       0.0847486   0.0680403  0.578927\n",
              " 0.137693  0.411517   0.826035   …  0.617513    0.487702   0.115422\n",
              " 0.95813   0.431378   0.169727      0.131022    0.602005   0.31347 \n",
              " 0.276449  0.794457   0.69505       0.123424    0.812738   0.695384\n",
              " 0.810153  0.135141   0.791019      0.992133    0.16448    0.745776\n",
              " 0.957567  0.186042   0.650625      0.710451    0.977151   0.426741"
            ]
          },
          "metadata": {}
        }
      ],
      "execution_count": 57,
      "metadata": {
        "hide-output": false
      }
    },
    {
      "cell_type": "markdown",
      "source": [
        "Finally, a common source of unnecessary allocations is when taking slices or portions of\n",
        "matrices.  For example, the following allocates a new matrix `B` and copies the values."
      ],
      "metadata": {}
    },
    {
      "cell_type": "code",
      "source": [
        "A = rand(5,5)\n",
        "B = A[2,:]  # extract a vector"
      ],
      "outputs": [
        {
          "output_type": "execute_result",
          "execution_count": 58,
          "data": {
            "text/plain": [
              "5-element Array{Float64,1}:\n",
              " 0.7731783572897324 \n",
              " 0.9146937700753357 \n",
              " 0.7094278236445719 \n",
              " 0.15601518309763196\n",
              " 0.6214939938853177 "
            ]
          },
          "metadata": {}
        }
      ],
      "execution_count": 58,
      "metadata": {
        "hide-output": false
      }
    },
    {
      "cell_type": "markdown",
      "source": [
        "To see these are different matrices, note that"
      ],
      "metadata": {}
    },
    {
      "cell_type": "code",
      "source": [
        "A[2,1] = 100.0\n",
        "@show A[2,1]\n",
        "@show B[1];"
      ],
      "outputs": [
        {
          "output_type": "stream",
          "name": "stdout",
          "text": [
            "A[2, 1] = 100.0\n",
            "B[1] = 0.7731783572897324\n"
          ]
        }
      ],
      "execution_count": 59,
      "metadata": {
        "hide-output": false
      }
    },
    {
      "cell_type": "markdown",
      "source": [
        "Instead of allocating a new matrix, you can take a `view` of a matrix, which provides an\n",
        "appropriate `AbstractArray` type that doesn’t allocate new memory with the `@view` matrix."
      ],
      "metadata": {}
    },
    {
      "cell_type": "code",
      "source": [
        "A = rand(5,5)\n",
        "B = @view A[2,:]  #  does not copy the data\n",
        "\n",
        "A[2,1] = 100.0\n",
        "@show A[2,1]\n",
        "@show B[1];"
      ],
      "outputs": [
        {
          "output_type": "stream",
          "name": "stdout",
          "text": [
            "A[2, 1] = 100.0\n",
            "B[1] = 100.0\n"
          ]
        }
      ],
      "execution_count": 60,
      "metadata": {
        "hide-output": false
      }
    },
    {
      "cell_type": "markdown",
      "source": [
        "But, again, you will often find that doing `@view` leads to slower code.  Benchmark\n",
        "instead, and generally rely on it for large matrices and for contiguous chunks of memory (e.g. a column rather than a row)."
      ],
      "metadata": {}
    },
    {
      "cell_type": "markdown",
      "source": [
        "## Exercises"
      ],
      "metadata": {}
    },
    {
      "cell_type": "markdown",
      "source": [
        "### Exercise 1\n",
        "\n",
        "This exercise is for a practice on writing low-level routines (i.e. “kernels”), and to hopefully convince you to leave low-level code to the experts.\n",
        "\n",
        "The formula for matrix multiplication is deceptively simple.  For example, with the product of square matrices $ C = A B $ of size $ N \\times N $, the $ i,j $ element of $ C $ is\n",
        "\n",
        "$$\n",
        "C_{ij} = \\sum_{k=1}^N A_{ik} B_{kj}\n",
        "$$\n",
        "\n",
        "Alternatively, you can take a row $ A_{i,:} $ and column $ B_{:, j} $ and use an inner product\n",
        "\n",
        "$$\n",
        "C_{ij} = A_{i,:} \\cdot B_{:,j}\n",
        "$$\n",
        "\n",
        "Note that the inner product in a discrete space is simply a sum, and has the same complexity as the sum (i.e. $ O(N) $ operations).\n",
        "\n",
        "For a dense matrix without any structure, this also makes it clear why the complexity is $ O(N^3) $: you need to evaluate it for $ N^2 $ elements in the matrix and do an $ O(N) $ operation each time.\n",
        "\n",
        "For this exercise, implement matrix multiplication yourself and compare performance in a few permutations.\n",
        "\n",
        "1. Use the built-in function in Julia (i.e.``C = A * B`` or, for a better comparison, the inplace version `mul!(C, A, B)` which works with preallocated data)  \n",
        "1. Loop over each $ C_{ij} $ by the row first (i.e. the `i` index) and use a `for` loop for the inner product  \n",
        "1. Loop over each $ C_{ij} $ by the column first (i.e. the `j` index) and use a `for` loop for the inner product  \n",
        "1. Do the same but use the `dot` product instead of the sum.  \n",
        "1. Choose your best implementation of these, and then for matrices of a few different sizes `N=10`, `N=1000`, etc. and compare the ratio of performance of your best implementation to the built in BLAS library.  \n",
        "\n",
        "\n",
        "A few more hints:\n",
        "\n",
        "- You can just use random matrices, e.g. `A = rand(N, N)`, etc.  \n",
        "- For all of them, preallocate the $ C $ matrix beforehand with `C = similar(A)` or something equivalent.  \n",
        "- To compare performance, put your code in a function and use `@btime` macro to time it.  Remember to escape globals if necessary (e.g. `@btime f(\\$A)` rather than `@btime f(A)`  "
      ],
      "metadata": {}
    },
    {
      "cell_type": "markdown",
      "source": [
        "### Exercise 2a\n",
        "\n",
        "Here we will calculate the evolution of the pdf of a discrete time Markov Chain, $ \\psi_t $ given the initial condition $ \\psi_0 $.\n",
        "\n",
        "Start with a simple symmetric tridiagonal matrix"
      ],
      "metadata": {}
    },
    {
      "cell_type": "code",
      "source": [
        "N = 100\n",
        "A = Tridiagonal([fill(0.1, N-2); 0.2], fill(0.8, N), [0.2; fill(0.1, N-2)])\n",
        "A_adjoint = A';"
      ],
      "outputs": [],
      "execution_count": 61,
      "metadata": {
        "hide-output": false
      }
    },
    {
      "cell_type": "markdown",
      "source": [
        "1. Pick some large `T` and use the initial condition $ \\psi_0 = \\begin{bmatrix} 1 & 0 & \\ldots & 0\\end{bmatrix} $  \n",
        "1. Write code to calculate $ \\psi_t $ to some $ T $ by iterating the map for each $ t $, i.e.  \n",
        "\n",
        "\n",
        "$$\n",
        "\\psi_{t+1} = A' \\psi_t\n",
        "$$\n",
        "\n",
        "1. What is the computational order of that calculating  $ \\psi_T $ using this iteration approach $ T < N $?  \n",
        "1. What is the computational order of $ (A')^T = (A \\ldots A) $ and then $ \\psi_T = (A')^T \\psi_0 $ for $ T < N $?  \n",
        "1. Benchmark calculating $ \\psi_T $ with the iterative calculation above as well as the direct $ \\psi_T = (A')^T \\psi_0 $ to see which is faster.  You can take the matrix power with just `A_adjoint^T`, which uses specialized algorithms faster and more accurate than repeated matrix multiplication (but with the same computational order).  \n",
        "1. Check the same if $ T = 2 N $  \n",
        "\n",
        "\n",
        "*Note:* The algorithm used in Julia to take matrix powers  depends on the matrix structure, as always.  In the symmetric case, it can use an eigendecomposition, whereas with a general dense matrix it uses [squaring and scaling](https://doi.org/10.1137/090768539)."
      ],
      "metadata": {}
    },
    {
      "cell_type": "markdown",
      "source": [
        "### Exercise 2b\n",
        "\n",
        "With the same setup as Exercise 2a, do an [eigendecomposition](https://en.wikipedia.org/wiki/Eigendecomposition_of_a_matrix) of `A_transpose`.  That is, use `eigen` to factorize the adjoint $ A' = Q \\Lambda Q^{-1} $ where $ Q $ the matrix of eigenvectors and $ \\Lambda $ the diagonal matrix of eigenvalues.  Calculate $ Q^{-1} $ from the results.\n",
        "\n",
        "Use the factored matrix to calculate the sequence of $ \\psi_t = (A')^t \\psi_0 $ using the relationship\n",
        "\n",
        "$$\n",
        "\\psi_t = Q \\Lambda^t Q^{-1} \\psi_0\n",
        "$$\n",
        "\n",
        "Where matrix powers of diagonal matrices are simply the element-wise power of each element.\n",
        "\n",
        "Benchmark the speed of calculating the sequence of $ \\psi_t $ up to `T = 2N` using this method.  In principle, the factorization and easy calculation of the power should give you benefits compared to simply iterating the map as we did in Exercise 2a.  Explain why it does or does not using computational order of each approach."
      ],
      "metadata": {}
    },
    {
      "cell_type": "code",
      "source": [],
      "outputs": [],
      "execution_count": null,
      "metadata": {}
    }
  ],
  "metadata": {
    "date": 1573258528.5585861,
    "filename": "numerical_linear_algebra.rst",
    "kernelspec": {
      "name": "julia-1.2",
      "language": "julia",
      "display_name": "Julia 1.2.0"
    },
    "language_info": {
      "file_extension": ".jl",
      "name": "julia",
      "mimetype": "application/julia",
      "version": "1.2.0"
    },
    "title": "Numerical Linear Algebra and Factorizations",
    "kernel_info": {
      "name": "julia-1.2"
    },
    "nteract": {
      "version": "0.15.0"
    }
  },
  "nbformat": 4,
  "nbformat_minor": 4
}