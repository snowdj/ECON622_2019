{
  "cells": [
    {
      "cell_type": "markdown",
      "source": [
        "\n",
        "<a id='iterative-methods-sparsity'></a>"
      ],
      "metadata": {}
    },
    {
      "cell_type": "markdown",
      "source": [
        "# Krylov Methods and Matrix Conditioning"
      ],
      "metadata": {}
    },
    {
      "cell_type": "markdown",
      "source": [
        "## Contents\n",
        "\n",
        "- [Krylov Methods and Matrix Conditioning](#Krylov-Methods-and-Matrix-Conditioning)  \n",
        "  - [Overview](#Overview)  \n",
        "  - [Ill-Conditioned Matrices](#Ill-Conditioned-Matrices)  \n",
        "  - [Stationary Iterative Algorithms for Linear Systems](#Stationary-Iterative-Algorithms-for-Linear-Systems)  \n",
        "  - [Krylov Methods](#Krylov-Methods)  \n",
        "  - [Iterative Methods for Linear-Least Squares](#Iterative-Methods-for-Linear-Least-Squares)  \n",
        "  - [Iterative Methods for Eigensystems](#Iterative-Methods-for-Eigensystems)  \n",
        "  - [Krylov Methods for Markov Chain Dynamics](#Krylov-Methods-for-Markov-Chain-Dynamics)  "
      ],
      "metadata": {}
    },
    {
      "cell_type": "markdown",
      "source": [
        "## Overview\n",
        "\n",
        "This lecture takes the structure of [numerical methods for linear algebra](numerical_linear_algebra.ipynb) and builds further\n",
        "towards working with large, sparse matrices.  In the process, we will examine foundational numerical analysis such as\n",
        "ill-conditioned matrices."
      ],
      "metadata": {}
    },
    {
      "cell_type": "markdown",
      "source": [
        "### Setup"
      ],
      "metadata": {}
    },
    {
      "cell_type": "code",
      "source": [
        "using LinearAlgebra, Statistics, BenchmarkTools, Random\n",
        "Random.seed!(42);  # seed random numbers for reproducibility"
      ],
      "outputs": [],
      "execution_count": 2,
      "metadata": {
        "hide-output": true
      }
    },
    {
      "cell_type": "markdown",
      "source": [
        "### Applications\n",
        "\n",
        "In this section, we will consider variations on classic problems\n",
        "\n",
        "1. Solving a linear system for a square $ A $ where we will maintain throughout there is a unique solution to  \n",
        "  $$\n",
        "  A x = b\n",
        "  $$\n",
        "1. [Linear least-squares](https://en.wikipedia.org/wiki/Linear_least_squares) solution, for a rectangular $ A $  \n",
        "  $$\n",
        "  \\min_x \\| Ax -b \\|^2\n",
        "  $$\n",
        "  From theory, we know that if $ A $ has linearly independent columns that the solution is the [normal equations](https://en.wikipedia.org/wiki/Linear_least_squares#Derivation_of_the_normal_equations)  \n",
        "  $$\n",
        "  x = (A'A)^{-1}A'b\n",
        "  $$\n",
        "1. In the case of a square matrix, $ A $ the  eigenvalue problem of finding $ x $ and $ \\lambda $ such that  \n",
        "  $$\n",
        "  A x = \\lambda x\n",
        "  $$\n",
        "  For the eigenvalue problems.  Keep in mind that that you do not always require all of the $ \\lambda $, and sometimes the largest (or smallest) would be enough.  For example, calculating the spectral radius only requires the maximum eigenvalue in absolute value.  "
      ],
      "metadata": {}
    },
    {
      "cell_type": "markdown",
      "source": [
        "## Ill-Conditioned Matrices\n",
        "\n",
        "An important consideration in numerical linear algebra, and iterative methods in general, is the [condition number](https://en.wikipedia.org/wiki/Condition_number#Matrices).\n",
        "\n",
        "An ill-conditioned matrix is one where the basis of eigenvectors are close to, but not exactly, collinear.  While this poses no problem on pen and paper,\n",
        "or with infinite precision numerical methods, it is an important in practice for two reasons\n",
        "\n",
        "1. Ill-conditioned matrices introduce numerical errors roughly in proportion to the base-10 log of the condition number.  \n",
        "1. The convergence speed of many iterative methods is based on the spectral properties of the matrices (e.g. the basis formed by the eigenvectors), and hence ill-conditioned systems can converge slowly.  \n",
        "\n",
        "\n",
        "The solutions to these problems are to\n",
        "\n",
        "- be careful with operations which introduce error based on the condition number (e.g. matrix inversions when the condition number is high)  \n",
        "- choose, where possible, alternative representations which have less collinearity (e.g. an orthogonal polynomial basis rather than a monomial one)  \n",
        "- use a preconditioner for iterative methods, which changes the spectral properties to increase convergence speed  "
      ],
      "metadata": {}
    },
    {
      "cell_type": "markdown",
      "source": [
        "### Condition Number\n",
        "\n",
        "First, lets define and explore condition number $ \\kappa $\n",
        "\n",
        "$$\n",
        "\\kappa(A) \\equiv \\|A\\| \\|A^{-1}\\|\n",
        "$$\n",
        "\n",
        "where you can use the Cauchy–Schwarz inequality to show that $ \\kappa(A) \\geq 1 $.  While the condition number can be calculated with any norm, but we will focus on the 2-norm.\n",
        "\n",
        "First, a warning on calculations: calculating the condition number for a matrix can be an expensive operation (as would calculating a determinant)\n",
        "and should be thought of as roughly equivalent to doing an eigendecomposition.  So use it for detective work judiciously.\n",
        "\n",
        "Lets look at the condition number of a few matrices using the `cond` function (which allows a choice of the norm, but we stick with the default 2-norm)."
      ],
      "metadata": {}
    },
    {
      "cell_type": "code",
      "source": [
        "A = I(2)\n",
        "cond(A)"
      ],
      "outputs": [
        {
          "output_type": "execute_result",
          "execution_count": 3,
          "data": {
            "text/plain": [
              "1.0"
            ]
          },
          "metadata": {}
        }
      ],
      "execution_count": 3,
      "metadata": {
        "hide-output": false
      }
    },
    {
      "cell_type": "markdown",
      "source": [
        "Here we see an example of the best-conditioned matrix, the identity matrix with its completely orthonormal basis, is 1.\n",
        "\n",
        "On the other hand, notice that"
      ],
      "metadata": {}
    },
    {
      "cell_type": "code",
      "source": [
        "ϵ = 1E-6\n",
        "A = [1.0 0.0\n",
        "     1.0 ϵ]\n",
        "cond(A)"
      ],
      "outputs": [
        {
          "output_type": "execute_result",
          "execution_count": 4,
          "data": {
            "text/plain": [
              "2.0000000000005004e6"
            ]
          },
          "metadata": {}
        }
      ],
      "execution_count": 4,
      "metadata": {
        "hide-output": false
      }
    },
    {
      "cell_type": "markdown",
      "source": [
        "has a condition number of order `10E6` - and hence (taking the base 10 log) you would expect to be introducing numerical errors of around 6 significant digits if you\n",
        "are not careful.  For example, note that the inverse has both extremely large and extremely small negative numbers"
      ],
      "metadata": {}
    },
    {
      "cell_type": "code",
      "source": [
        "inv(A)"
      ],
      "outputs": [
        {
          "output_type": "execute_result",
          "execution_count": 5,
          "data": {
            "text/plain": [
              "2×2 Array{Float64,2}:\n",
              "  1.0    0.0  \n",
              " -1.0e6  1.0e6"
            ]
          },
          "metadata": {}
        }
      ],
      "execution_count": 5,
      "metadata": {
        "hide-output": false
      }
    },
    {
      "cell_type": "markdown",
      "source": [
        "Since we know that the determinant of nearly collinear matrices is close to zero, this shows another symptom of poor conditioning"
      ],
      "metadata": {}
    },
    {
      "cell_type": "code",
      "source": [
        "det(A)"
      ],
      "outputs": [
        {
          "output_type": "execute_result",
          "execution_count": 6,
          "data": {
            "text/plain": [
              "1.0e-6"
            ]
          },
          "metadata": {}
        }
      ],
      "execution_count": 6,
      "metadata": {
        "hide-output": false
      }
    },
    {
      "cell_type": "markdown",
      "source": [
        "However, be careful since the determinant has a scale, while the condition number is dimensionless.  That is"
      ],
      "metadata": {}
    },
    {
      "cell_type": "code",
      "source": [
        "@show det(1000 * A)\n",
        "@show cond(1000 * A);"
      ],
      "outputs": [
        {
          "output_type": "stream",
          "name": "stdout",
          "text": [
            "det(1000A) = 1.0\n",
            "cond(1000A) = 2.0000000000005e6\n"
          ]
        }
      ],
      "execution_count": 7,
      "metadata": {
        "hide-output": false
      }
    },
    {
      "cell_type": "markdown",
      "source": [
        "In that case, the determinant of `A` is 1, while the condition number is unchanged.  This example also provides some\n",
        "intuition that ill-conditioned matrices typically occur when a matrix has radically different scales (e.g. contains both `1` and `1E-6`, or `1000` and `1E-3`).  This can occur frequently with both function approximation and linear-least squares."
      ],
      "metadata": {}
    },
    {
      "cell_type": "markdown",
      "source": [
        "### Condition Numbers and Matrix Operations\n",
        "\n",
        "Multiplying a matrix by a constant does not change the condition number.  What about other operations?\n",
        "\n",
        "For this example, we see that the inverse has the same condition number (though this will not always be the case)."
      ],
      "metadata": {}
    },
    {
      "cell_type": "code",
      "source": [
        "@show cond(A)\n",
        "@show cond(inv(A));"
      ],
      "outputs": [
        {
          "output_type": "stream",
          "name": "stdout",
          "text": [
            "cond(A) = 2.0000000000005004e6\n",
            "cond(inv(A)) = 2.0000000002323308e6\n"
          ]
        }
      ],
      "execution_count": 8,
      "metadata": {
        "hide-output": false
      }
    },
    {
      "cell_type": "markdown",
      "source": [
        "The condition number of the product of two matrices can change radically and lead things to becoming\n",
        "even more ill-conditioned.\n",
        "\n",
        "This comes up frequently when calculating the product of a matrix and its transpose (e.g. forming the covariance matrix).  A classic example is the [Läuchli matrix](https://link.springer.com/article/10.1007%2FBF01386022)."
      ],
      "metadata": {}
    },
    {
      "cell_type": "code",
      "source": [
        "lauchli(N, ϵ) = [ones(N)'; ϵ * I(N)]'\n",
        "ϵ = 1E-8\n",
        "L = lauchli(3, ϵ) |> Matrix"
      ],
      "outputs": [
        {
          "output_type": "execute_result",
          "execution_count": 9,
          "data": {
            "text/plain": [
              "3×4 Array{Float64,2}:\n",
              " 1.0  1.0e-8  0.0     0.0   \n",
              " 1.0  0.0     1.0e-8  0.0   \n",
              " 1.0  0.0     0.0     1.0e-8"
            ]
          },
          "metadata": {}
        }
      ],
      "execution_count": 9,
      "metadata": {
        "hide-output": false
      }
    },
    {
      "cell_type": "markdown",
      "source": [
        "Note that the condition number increases substantially"
      ],
      "metadata": {}
    },
    {
      "cell_type": "code",
      "source": [
        "@show cond(L)\n",
        "@show cond(L' * L);"
      ],
      "outputs": [
        {
          "output_type": "stream",
          "name": "stdout",
          "text": [
            "cond(L) = 1.732050807568878e8\n",
            "cond(L' * L) = 2.8104131146758097e32\n"
          ]
        }
      ],
      "execution_count": 10,
      "metadata": {
        "hide-output": false
      }
    },
    {
      "cell_type": "markdown",
      "source": [
        "You can show that the analytic eigenvalues of this are $ \\{3 + \\epsilon^2, \\epsilon^2, \\epsilon^2\\} $ but the poor conditioning\n",
        "means it is difficult to distinguish these from $ 0 $.\n",
        "\n",
        "This comes up when conducting [Principle Component Analysis](https://en.wikipedia.org/wiki/Principal_component_analysis#Singular_value_decomposition), which\n",
        "requires calculations of the eigenvalues of the covariance matrix"
      ],
      "metadata": {}
    },
    {
      "cell_type": "code",
      "source": [
        "sqrt.(eigen(L*L').values) |> sort"
      ],
      "outputs": [
        {
          "output_type": "execute_result",
          "execution_count": 11,
          "data": {
            "text/plain": [
              "3-element Array{Float64,1}:\n",
              " 0.0                  \n",
              " 4.2146848510894035e-8\n",
              " 1.7320508075688772   "
            ]
          },
          "metadata": {}
        }
      ],
      "execution_count": 11,
      "metadata": {
        "hide-output": false
      }
    },
    {
      "cell_type": "markdown",
      "source": [
        "Note that these are significantly different than the known analytic solution and, in particular, are difficult to distinguish from 0."
      ],
      "metadata": {}
    },
    {
      "cell_type": "code",
      "source": [
        "sqrt.([3 + ϵ^2, ϵ^2, ϵ^2]) |> sort"
      ],
      "outputs": [
        {
          "output_type": "execute_result",
          "execution_count": 12,
          "data": {
            "text/plain": [
              "3-element Array{Float64,1}:\n",
              " 1.0e-8            \n",
              " 1.0e-8            \n",
              " 1.7320508075688772"
            ]
          },
          "metadata": {}
        }
      ],
      "execution_count": 12,
      "metadata": {
        "hide-output": false
      }
    },
    {
      "cell_type": "markdown",
      "source": [
        "Alternatively, we could calculate these by taking the square of the singular values of $ L $ itself, which is much more accurate\n",
        "and lets us clearly distinguish from zero"
      ],
      "metadata": {}
    },
    {
      "cell_type": "code",
      "source": [
        "svd(L).S  |> sort"
      ],
      "outputs": [
        {
          "output_type": "execute_result",
          "execution_count": 13,
          "data": {
            "text/plain": [
              "3-element Array{Float64,1}:\n",
              " 9.999999999999997e-9\n",
              " 9.999999999999999e-9\n",
              " 1.7320508075688774  "
            ]
          },
          "metadata": {}
        }
      ],
      "execution_count": 13,
      "metadata": {
        "hide-output": false
      }
    },
    {
      "cell_type": "markdown",
      "source": [
        "Similarly, we are better off calculating least-squares directly rather than forming the normal equation (i.e. $ A' A x = A' b $) ourselves"
      ],
      "metadata": {}
    },
    {
      "cell_type": "code",
      "source": [
        "N = 3\n",
        "A = lauchli(N, 1E-7)' |> Matrix\n",
        "b = rand(N+1)\n",
        "x_sol_1 = A \\ b  # using a least-square solver\n",
        "x_sol_2 = (A' * A) \\ (A' * b)  # forming the normal equation ourselves\n",
        "norm(x_sol_1 - x_sol_2)"
      ],
      "outputs": [
        {
          "output_type": "execute_result",
          "execution_count": 14,
          "data": {
            "text/plain": [
              "2502.053622868482"
            ]
          },
          "metadata": {}
        }
      ],
      "execution_count": 14,
      "metadata": {
        "hide-output": false
      }
    },
    {
      "cell_type": "markdown",
      "source": [
        "### Why Monomial Basis are a Bad Idea\n",
        "\n",
        "A classic example of poorly conditioned matrices is using a monomial basis of a polynomial with interpolation.\n",
        "\n",
        "Take a grid of points, $ x_0, \\ldots x_N $ and values $ y_0, \\ldots y_N $ where we want to calculate the\n",
        "interpolating polynomial.\n",
        "\n",
        "If we were to use the simplest, and most obvious polynomial basis, then the calculation is to calculate the coefficients $ c_1, \\ldots c_n $ where\n",
        "\n",
        "$$\n",
        "P(x) = \\sum_{i=0}^N c_i x^i\n",
        "$$\n",
        "\n",
        "To solve for the coefficients, we notice that this is a simple system of equations\n",
        "\n",
        "$$\n",
        "\\begin{array}\n",
        "    \\,y_0 = c_0 + c_1 x_0 + \\ldots c_N x_0^N\\\\\n",
        "    \\,\\ldots\\\\\n",
        "    \\,y_N = c_0 + c_1 x_N + \\ldots c_N x_N^N\n",
        "\\end{array}\n",
        "$$\n",
        "\n",
        "Or, stacking as matrices and vectors $ c = \\begin{bmatrix} c_0 & \\ldots & c_N\\end{bmatrix}, y = \\begin{bmatrix} y_0 & \\ldots & y_N\\end{bmatrix} $ and\n",
        "\n",
        "$$\n",
        "A = \\begin{bmatrix} 1 & x_0 & x_0^2 & \\ldots &x_0^N\\\\\n",
        "                    \\vdots & \\vdots & \\vdots & \\vdots & \\vdots \\\\\n",
        "                    1 & x_N & x_N^2 & \\ldots & x_N^N\n",
        "    \\end{bmatrix}\n",
        "$$\n",
        "\n",
        "We can then calculate the interpolating coefficients as the solution to\n",
        "\n",
        "$$\n",
        "A c = y\n",
        "$$\n",
        "\n",
        "Implementing this for the interpolation of the $ exp(x) $ function"
      ],
      "metadata": {}
    },
    {
      "cell_type": "code",
      "source": [
        "N = 5\n",
        "f(x) = exp(x)\n",
        "x = range(0.0, 10.0, length = N+1)\n",
        "y = f.(x)  # generate some data to interpolate\n",
        "\n",
        "A = [x_i^n for x_i in x, n in 0:N]\n",
        "A_inv = inv(A)\n",
        "c = A_inv * y\n",
        "norm(A * c - f.(x), Inf)"
      ],
      "outputs": [
        {
          "output_type": "execute_result",
          "execution_count": 15,
          "data": {
            "text/plain": [
              "1.1932570487260818e-9"
            ]
          },
          "metadata": {}
        }
      ],
      "execution_count": 15,
      "metadata": {
        "hide-output": false
      }
    },
    {
      "cell_type": "markdown",
      "source": [
        "The final step just checks the interpolation vs. the analytic function at the nodes.  Keep in mind that this should be very close to zero\n",
        "since we are interpolating the function precisely at those nodes.\n",
        "In our example, the Inf-norm (i.e. maximum difference) of the interpolation errors at the nodes is around `1E-9` which\n",
        "is reasonable for many problems.\n",
        "\n",
        "But note that with $ N=5 $ the condition number is already of order `1E6`."
      ],
      "metadata": {}
    },
    {
      "cell_type": "code",
      "source": [
        "cond(A)"
      ],
      "outputs": [
        {
          "output_type": "execute_result",
          "execution_count": 16,
          "data": {
            "text/plain": [
              "564652.3214000977"
            ]
          },
          "metadata": {}
        }
      ],
      "execution_count": 16,
      "metadata": {
        "hide-output": false
      }
    },
    {
      "cell_type": "markdown",
      "source": [
        "What if we increase the degree of the polynomial with the hope of increasing the precision of the\n",
        "interpolation?"
      ],
      "metadata": {}
    },
    {
      "cell_type": "code",
      "source": [
        "N = 10\n",
        "f(x) = exp(x)\n",
        "x = range(0.0, 10.0, length = N+1)\n",
        "y = f.(x)  # generate some data to interpolate\n",
        "\n",
        "A = [x_i^n for x_i in x, n in 0:N]\n",
        "A_inv = inv(A)\n",
        "c = A_inv * y\n",
        "norm(A * c - f.(x), Inf)"
      ],
      "outputs": [
        {
          "output_type": "execute_result",
          "execution_count": 17,
          "data": {
            "text/plain": [
              "6.227055564522743e-6"
            ]
          },
          "metadata": {}
        }
      ],
      "execution_count": 17,
      "metadata": {
        "hide-output": false
      }
    },
    {
      "cell_type": "markdown",
      "source": [
        "Here, we see that hoping to increase the precision between points by adding extra polynomial terms is backfiring.  By going to a 10th order polynomial we have\n",
        "introduced an error of about `1E-5`, even at the interpolation points themselves.\n",
        "\n",
        "This blows up quickly"
      ],
      "metadata": {}
    },
    {
      "cell_type": "code",
      "source": [
        "N = 20\n",
        "f(x) = exp(x)\n",
        "x = range(0.0, 10.0, length = N+1)\n",
        "y = f.(x)  # generate some data to interpolate\n",
        "\n",
        "A = [x_i^n for x_i in x, n in 0:N]\n",
        "A_inv = inv(A)\n",
        "c = A_inv * y\n",
        "norm(A * c - f.(x), Inf)"
      ],
      "outputs": [
        {
          "output_type": "execute_result",
          "execution_count": 18,
          "data": {
            "text/plain": [
              "35556.55954673688"
            ]
          },
          "metadata": {}
        }
      ],
      "execution_count": 18,
      "metadata": {
        "hide-output": false
      }
    },
    {
      "cell_type": "markdown",
      "source": [
        "To see the source of the issue, note that the condition number is astronomical."
      ],
      "metadata": {}
    },
    {
      "cell_type": "code",
      "source": [
        "cond(A)"
      ],
      "outputs": [
        {
          "output_type": "execute_result",
          "execution_count": 19,
          "data": {
            "text/plain": [
              "7.288836972639618e24"
            ]
          },
          "metadata": {}
        }
      ],
      "execution_count": 19,
      "metadata": {
        "hide-output": false
      }
    },
    {
      "cell_type": "markdown",
      "source": [
        "At this point, you should be suspicious of the use of `inv(A)` since we have considered solving\n",
        "linear systems by taking the inverse as verboten.  Indeed, this made things much worse  the\n",
        "error drop dramatically if we solve it as a linear system"
      ],
      "metadata": {}
    },
    {
      "cell_type": "code",
      "source": [
        "c = A \\ y\n",
        "norm(A * c - f.(x), Inf)"
      ],
      "outputs": [
        {
          "output_type": "execute_result",
          "execution_count": 20,
          "data": {
            "text/plain": [
              "3.4651748137548566e-10"
            ]
          },
          "metadata": {}
        }
      ],
      "execution_count": 20,
      "metadata": {
        "hide-output": false
      }
    },
    {
      "cell_type": "markdown",
      "source": [
        "But an error of `1E-10` at the interpolating nodes themselves can be an issue in many applications, and if you increase `N`\n",
        "then the error will become non-trivial eventually - even without taking the inverse.\n",
        "\n",
        "The heart of the issue is that the monomial basis leads to a [Vandermonde matrix](https://en.wikipedia.org/wiki/Vandermonde_matrix) which\n",
        "is especially ill-conditioned."
      ],
      "metadata": {}
    },
    {
      "cell_type": "markdown",
      "source": [
        "#### Aside on Runge’s Phenomena\n",
        "\n",
        "The monomial basis is also a good opportunity to look at a separate type of error due to [Runge’s Phenomena](https://en.wikipedia.org/wiki/Runge%27s_phenomenon).    It is an important\n",
        "issue in approximation theory, albeit not one driven by numerical approximation errors.\n",
        "\n",
        "It turns out that using a uniform grid of points is in general the worst possible choice of interpolation nodes for a polynomial approximation.  This phenomena is can be seen with the interpolation of the seemingly innocuous Runge’s function, $ g(x) = \\frac{1}{1 + 25 x^2} $.\n",
        "\n",
        "Lets calculate the interpolation with a monomial basis to find the $ c_i $ such that\n",
        "\n",
        "$$\n",
        "\\frac{1}{1 + 25 x^2} \\approx \\sum_{i=0}^N c_i x^i,\\, \\text{ for } -1 \\leq x \\leq 1\n",
        "$$\n",
        "\n",
        "First, interpolation with $ N = 5 $ and avoid taking the inverse.  In that case, as long as we avoid taking an inverse, the numerical errors from the ill-conditioned matrix are manageable."
      ],
      "metadata": {}
    },
    {
      "cell_type": "code",
      "source": [
        "using Plots\n",
        "N_display = 100\n",
        "g(x) = 1/(1 + 25x^2)\n",
        "x_display = range(-1, 1, length = N_display)\n",
        "y_display = g.(x_display)\n",
        "\n",
        "# interpolation\n",
        "N = 5\n",
        "x = range(-1.0, 1.0, length = N+1)\n",
        "y = g.(x)\n",
        "A_5 = [x_i^n for x_i in x, n in 0:N]\n",
        "c_5 = A_5 \\ y\n",
        "\n",
        "# use the coefficients to evaluate on x_display grid\n",
        "B_5 = [x_i^n for x_i in x_display, n in 0:N]   # calculate monomials for display grid\n",
        "y_5 = B_5 * c_5  # calculates for each in x_display_grid\n",
        "plot(x_display, y_5, label = \"P_5(x)\")\n",
        "plot!(x_display, y_display, w = 3, label = \"g(x)\")"
      ],
      "outputs": [
        {
          "output_type": "stream",
          "name": "stderr",
          "text": [
            "┌ Info: Recompiling stale cache file C:\\Users\\jlperla\\.julia\\compiled\\v1.2\\Plots\\ld3vC.ji for Plots [91a5bcdd-55d7-5caf-9e0b-520d859cae80]\n",
            "└ @ Base loading.jl:1240\n"
          ]
        },
        {
          "output_type": "execute_result",
          "execution_count": 21,
          "data": {
            "image/svg+xml": [
              "<?xml version=\"1.0\" encoding=\"utf-8\"?>\n",
              "<svg xmlns=\"http://www.w3.org/2000/svg\" xmlns:xlink=\"http://www.w3.org/1999/xlink\" width=\"600\" height=\"400\" viewBox=\"0 0 2400 1600\">\n",
              "<defs>\n",
              "  <clipPath id=\"clip3400\">\n",
              "    <rect x=\"0\" y=\"0\" width=\"2400\" height=\"1600\"/>\n",
              "  </clipPath>\n",
              "</defs>\n",
              "<polygon clip-path=\"url(#clip3400)\" points=\"\n",
              "0,1600 2400,1600 2400,0 0,0 \n",
              "  \" fill=\"#ffffff\" fill-rule=\"evenodd\" fill-opacity=\"1\"/>\n",
              "<defs>\n",
              "  <clipPath id=\"clip3401\">\n",
              "    <rect x=\"480\" y=\"0\" width=\"1681\" height=\"1600\"/>\n",
              "  </clipPath>\n",
              "</defs>\n",
              "<polygon clip-path=\"url(#clip3400)\" points=\"\n",
              "180.66,1487.47 2352.76,1487.47 2352.76,47.2441 180.66,47.2441 \n",
              "  \" fill=\"#ffffff\" fill-rule=\"evenodd\" fill-opacity=\"1\"/>\n",
              "<defs>\n",
              "  <clipPath id=\"clip3402\">\n",
              "    <rect x=\"180\" y=\"47\" width=\"2173\" height=\"1441\"/>\n",
              "  </clipPath>\n",
              "</defs>\n",
              "<polyline clip-path=\"url(#clip3402)\" style=\"stroke:#000000; stroke-width:2; stroke-opacity:0.1; fill:none\" points=\"\n",
              "  242.135,1487.47 242.135,47.2441 \n",
              "  \"/>\n",
              "<polyline clip-path=\"url(#clip3402)\" style=\"stroke:#000000; stroke-width:2; stroke-opacity:0.1; fill:none\" points=\"\n",
              "  754.421,1487.47 754.421,47.2441 \n",
              "  \"/>\n",
              "<polyline clip-path=\"url(#clip3402)\" style=\"stroke:#000000; stroke-width:2; stroke-opacity:0.1; fill:none\" points=\"\n",
              "  1266.71,1487.47 1266.71,47.2441 \n",
              "  \"/>\n",
              "<polyline clip-path=\"url(#clip3402)\" style=\"stroke:#000000; stroke-width:2; stroke-opacity:0.1; fill:none\" points=\"\n",
              "  1778.99,1487.47 1778.99,47.2441 \n",
              "  \"/>\n",
              "<polyline clip-path=\"url(#clip3402)\" style=\"stroke:#000000; stroke-width:2; stroke-opacity:0.1; fill:none\" points=\"\n",
              "  2291.28,1487.47 2291.28,47.2441 \n",
              "  \"/>\n",
              "<polyline clip-path=\"url(#clip3402)\" style=\"stroke:#000000; stroke-width:2; stroke-opacity:0.1; fill:none\" points=\"\n",
              "  180.66,1375.2 2352.76,1375.2 \n",
              "  \"/>\n",
              "<polyline clip-path=\"url(#clip3402)\" style=\"stroke:#000000; stroke-width:2; stroke-opacity:0.1; fill:none\" points=\"\n",
              "  180.66,1052.58 2352.76,1052.58 \n",
              "  \"/>\n",
              "<polyline clip-path=\"url(#clip3402)\" style=\"stroke:#000000; stroke-width:2; stroke-opacity:0.1; fill:none\" points=\"\n",
              "  180.66,729.96 2352.76,729.96 \n",
              "  \"/>\n",
              "<polyline clip-path=\"url(#clip3402)\" style=\"stroke:#000000; stroke-width:2; stroke-opacity:0.1; fill:none\" points=\"\n",
              "  180.66,407.341 2352.76,407.341 \n",
              "  \"/>\n",
              "<polyline clip-path=\"url(#clip3402)\" style=\"stroke:#000000; stroke-width:2; stroke-opacity:0.1; fill:none\" points=\"\n",
              "  180.66,84.722 2352.76,84.722 \n",
              "  \"/>\n",
              "<polyline clip-path=\"url(#clip3400)\" style=\"stroke:#000000; stroke-width:4; stroke-opacity:1; fill:none\" points=\"\n",
              "  180.66,1487.47 2352.76,1487.47 \n",
              "  \"/>\n",
              "<polyline clip-path=\"url(#clip3400)\" style=\"stroke:#000000; stroke-width:4; stroke-opacity:1; fill:none\" points=\"\n",
              "  180.66,1487.47 180.66,47.2441 \n",
              "  \"/>\n",
              "<polyline clip-path=\"url(#clip3400)\" style=\"stroke:#000000; stroke-width:4; stroke-opacity:1; fill:none\" points=\"\n",
              "  242.135,1487.47 242.135,1465.87 \n",
              "  \"/>\n",
              "<polyline clip-path=\"url(#clip3400)\" style=\"stroke:#000000; stroke-width:4; stroke-opacity:1; fill:none\" points=\"\n",
              "  754.421,1487.47 754.421,1465.87 \n",
              "  \"/>\n",
              "<polyline clip-path=\"url(#clip3400)\" style=\"stroke:#000000; stroke-width:4; stroke-opacity:1; fill:none\" points=\"\n",
              "  1266.71,1487.47 1266.71,1465.87 \n",
              "  \"/>\n",
              "<polyline clip-path=\"url(#clip3400)\" style=\"stroke:#000000; stroke-width:4; stroke-opacity:1; fill:none\" points=\"\n",
              "  1778.99,1487.47 1778.99,1465.87 \n",
              "  \"/>\n",
              "<polyline clip-path=\"url(#clip3400)\" style=\"stroke:#000000; stroke-width:4; stroke-opacity:1; fill:none\" points=\"\n",
              "  2291.28,1487.47 2291.28,1465.87 \n",
              "  \"/>\n",
              "<polyline clip-path=\"url(#clip3400)\" style=\"stroke:#000000; stroke-width:4; stroke-opacity:1; fill:none\" points=\"\n",
              "  180.66,1375.2 213.242,1375.2 \n",
              "  \"/>\n",
              "<polyline clip-path=\"url(#clip3400)\" style=\"stroke:#000000; stroke-width:4; stroke-opacity:1; fill:none\" points=\"\n",
              "  180.66,1052.58 213.242,1052.58 \n",
              "  \"/>\n",
              "<polyline clip-path=\"url(#clip3400)\" style=\"stroke:#000000; stroke-width:4; stroke-opacity:1; fill:none\" points=\"\n",
              "  180.66,729.96 213.242,729.96 \n",
              "  \"/>\n",
              "<polyline clip-path=\"url(#clip3400)\" style=\"stroke:#000000; stroke-width:4; stroke-opacity:1; fill:none\" points=\"\n",
              "  180.66,407.341 213.242,407.341 \n",
              "  \"/>\n",
              "<polyline clip-path=\"url(#clip3400)\" style=\"stroke:#000000; stroke-width:4; stroke-opacity:1; fill:none\" points=\"\n",
              "  180.66,84.722 213.242,84.722 \n",
              "  \"/>\n",
              "<g clip-path=\"url(#clip3400)\">\n",
              "<text style=\"fill:#000000; fill-opacity:1; font-family:Arial,Helvetica Neue,Helvetica,sans-serif; font-size:48px; text-anchor:middle;\" transform=\"rotate(0, 242.135, 1541.47)\" x=\"242.135\" y=\"1541.47\">-1.0</text>\n",
              "</g>\n",
              "<g clip-path=\"url(#clip3400)\">\n",
              "<text style=\"fill:#000000; fill-opacity:1; font-family:Arial,Helvetica Neue,Helvetica,sans-serif; font-size:48px; text-anchor:middle;\" transform=\"rotate(0, 754.421, 1541.47)\" x=\"754.421\" y=\"1541.47\">-0.5</text>\n",
              "</g>\n",
              "<g clip-path=\"url(#clip3400)\">\n",
              "<text style=\"fill:#000000; fill-opacity:1; font-family:Arial,Helvetica Neue,Helvetica,sans-serif; font-size:48px; text-anchor:middle;\" transform=\"rotate(0, 1266.71, 1541.47)\" x=\"1266.71\" y=\"1541.47\">0.0</text>\n",
              "</g>\n",
              "<g clip-path=\"url(#clip3400)\">\n",
              "<text style=\"fill:#000000; fill-opacity:1; font-family:Arial,Helvetica Neue,Helvetica,sans-serif; font-size:48px; text-anchor:middle;\" transform=\"rotate(0, 1778.99, 1541.47)\" x=\"1778.99\" y=\"1541.47\">0.5</text>\n",
              "</g>\n",
              "<g clip-path=\"url(#clip3400)\">\n",
              "<text style=\"fill:#000000; fill-opacity:1; font-family:Arial,Helvetica Neue,Helvetica,sans-serif; font-size:48px; text-anchor:middle;\" transform=\"rotate(0, 2291.28, 1541.47)\" x=\"2291.28\" y=\"1541.47\">1.0</text>\n",
              "</g>\n",
              "<g clip-path=\"url(#clip3400)\">\n",
              "<text style=\"fill:#000000; fill-opacity:1; font-family:Arial,Helvetica Neue,Helvetica,sans-serif; font-size:48px; text-anchor:end;\" transform=\"rotate(0, 156.66, 1392.7)\" x=\"156.66\" y=\"1392.7\">0.00</text>\n",
              "</g>\n",
              "<g clip-path=\"url(#clip3400)\">\n",
              "<text style=\"fill:#000000; fill-opacity:1; font-family:Arial,Helvetica Neue,Helvetica,sans-serif; font-size:48px; text-anchor:end;\" transform=\"rotate(0, 156.66, 1070.08)\" x=\"156.66\" y=\"1070.08\">0.25</text>\n",
              "</g>\n",
              "<g clip-path=\"url(#clip3400)\">\n",
              "<text style=\"fill:#000000; fill-opacity:1; font-family:Arial,Helvetica Neue,Helvetica,sans-serif; font-size:48px; text-anchor:end;\" transform=\"rotate(0, 156.66, 747.46)\" x=\"156.66\" y=\"747.46\">0.50</text>\n",
              "</g>\n",
              "<g clip-path=\"url(#clip3400)\">\n",
              "<text style=\"fill:#000000; fill-opacity:1; font-family:Arial,Helvetica Neue,Helvetica,sans-serif; font-size:48px; text-anchor:end;\" transform=\"rotate(0, 156.66, 424.841)\" x=\"156.66\" y=\"424.841\">0.75</text>\n",
              "</g>\n",
              "<g clip-path=\"url(#clip3400)\">\n",
              "<text style=\"fill:#000000; fill-opacity:1; font-family:Arial,Helvetica Neue,Helvetica,sans-serif; font-size:48px; text-anchor:end;\" transform=\"rotate(0, 156.66, 102.222)\" x=\"156.66\" y=\"102.222\">1.00</text>\n",
              "</g>\n",
              "<polyline clip-path=\"url(#clip3402)\" style=\"stroke:#009af9; stroke-width:4; stroke-opacity:1; fill:none\" points=\"\n",
              "  242.135,1325.57 262.833,1357.82 283.532,1384.61 304.23,1406.23 324.929,1422.97 345.627,1435.11 366.325,1442.93 387.024,1446.71 407.722,1446.71 428.421,1443.2 \n",
              "  449.119,1436.42 469.818,1426.63 490.516,1414.07 511.215,1398.97 531.913,1381.56 552.612,1362.07 573.31,1340.71 594.008,1317.69 614.707,1293.22 635.405,1267.5 \n",
              "  656.104,1240.72 676.802,1213.06 697.501,1184.71 718.199,1155.83 738.898,1126.6 759.596,1097.17 780.294,1067.71 800.993,1038.36 821.691,1009.26 842.39,980.552 \n",
              "  863.088,952.362 883.787,924.817 904.485,898.032 925.184,872.121 945.882,847.189 966.581,823.334 987.279,800.65 1007.98,779.223 1028.68,759.135 1049.37,740.459 \n",
              "  1070.07,723.264 1090.77,707.612 1111.47,693.558 1132.17,681.153 1152.87,670.439 1173.57,661.454 1194.26,654.229 1214.96,648.788 1235.66,645.151 1256.36,643.329 \n",
              "  1277.06,643.329 1297.76,645.151 1318.45,648.788 1339.15,654.229 1359.85,661.454 1380.55,670.439 1401.25,681.153 1421.95,693.558 1442.64,707.612 1463.34,723.264 \n",
              "  1484.04,740.459 1504.74,759.135 1525.44,779.223 1546.14,800.65 1566.84,823.334 1587.53,847.189 1608.23,872.121 1628.93,898.032 1649.63,924.817 1670.33,952.362 \n",
              "  1691.03,980.552 1711.72,1009.26 1732.42,1038.36 1753.12,1067.71 1773.82,1097.17 1794.52,1126.6 1815.22,1155.83 1835.92,1184.71 1856.61,1213.06 1877.31,1240.72 \n",
              "  1898.01,1267.5 1918.71,1293.22 1939.41,1317.69 1960.11,1340.71 1980.8,1362.07 2001.5,1381.56 2022.2,1398.97 2042.9,1414.07 2063.6,1426.63 2084.3,1436.42 \n",
              "  2105,1443.2 2125.69,1446.71 2146.39,1446.71 2167.09,1442.93 2187.79,1435.11 2208.49,1422.97 2229.19,1406.23 2249.88,1384.61 2270.58,1357.82 2291.28,1325.57 \n",
              "  \n",
              "  \"/>\n",
              "<polyline clip-path=\"url(#clip3402)\" style=\"stroke:#e26f46; stroke-width:12; stroke-opacity:1; fill:none\" points=\"\n",
              "  242.135,1325.57 262.833,1323.58 283.532,1321.48 304.23,1319.24 324.929,1316.87 345.627,1314.34 366.325,1311.65 387.024,1308.78 407.722,1305.71 428.421,1302.44 \n",
              "  449.119,1298.93 469.818,1295.16 490.516,1291.12 511.215,1286.77 531.913,1282.08 552.612,1277.02 573.31,1271.55 594.008,1265.62 614.707,1259.19 635.405,1252.2 \n",
              "  656.104,1244.57 676.802,1236.25 697.501,1227.14 718.199,1217.15 738.898,1206.17 759.596,1194.06 780.294,1180.69 800.993,1165.89 821.691,1149.45 842.39,1131.15 \n",
              "  863.088,1110.74 883.787,1087.91 904.485,1062.33 925.184,1033.6 945.882,1001.29 966.581,964.897 987.279,923.905 1007.98,877.757 1028.68,825.908 1049.37,767.883 \n",
              "  1070.07,703.364 1090.77,632.337 1111.47,555.287 1132.17,473.448 1152.87,389.08 1173.57,305.694 1194.26,228.095 1214.96,162.081 1235.66,113.682 1256.36,88.0053 \n",
              "  1277.06,88.0053 1297.76,113.682 1318.45,162.081 1339.15,228.095 1359.85,305.694 1380.55,389.08 1401.25,473.448 1421.95,555.287 1442.64,632.337 1463.34,703.364 \n",
              "  1484.04,767.883 1504.74,825.908 1525.44,877.757 1546.14,923.905 1566.84,964.897 1587.53,1001.29 1608.23,1033.6 1628.93,1062.33 1649.63,1087.91 1670.33,1110.74 \n",
              "  1691.03,1131.15 1711.72,1149.45 1732.42,1165.89 1753.12,1180.69 1773.82,1194.06 1794.52,1206.17 1815.22,1217.15 1835.92,1227.14 1856.61,1236.25 1877.31,1244.57 \n",
              "  1898.01,1252.2 1918.71,1259.19 1939.41,1265.62 1960.11,1271.55 1980.8,1277.02 2001.5,1282.08 2022.2,1286.77 2042.9,1291.12 2063.6,1295.16 2084.3,1298.93 \n",
              "  2105,1302.44 2125.69,1305.71 2146.39,1308.78 2167.09,1311.65 2187.79,1314.34 2208.49,1316.87 2229.19,1319.24 2249.88,1321.48 2270.58,1323.58 2291.28,1325.57 \n",
              "  \n",
              "  \"/>\n",
              "<polygon clip-path=\"url(#clip3400)\" points=\"\n",
              "1899,312.204 2280.76,312.204 2280.76,130.764 1899,130.764 \n",
              "  \" fill=\"#ffffff\" fill-rule=\"evenodd\" fill-opacity=\"1\"/>\n",
              "<polyline clip-path=\"url(#clip3400)\" style=\"stroke:#000000; stroke-width:4; stroke-opacity:1; fill:none\" points=\"\n",
              "  1899,312.204 2280.76,312.204 2280.76,130.764 1899,130.764 1899,312.204 \n",
              "  \"/>\n",
              "<polyline clip-path=\"url(#clip3400)\" style=\"stroke:#009af9; stroke-width:4; stroke-opacity:1; fill:none\" points=\"\n",
              "  1923,191.244 2067,191.244 \n",
              "  \"/>\n",
              "<g clip-path=\"url(#clip3400)\">\n",
              "<text style=\"fill:#000000; fill-opacity:1; font-family:Arial,Helvetica Neue,Helvetica,sans-serif; font-size:48px; text-anchor:start;\" transform=\"rotate(0, 2091, 208.744)\" x=\"2091\" y=\"208.744\">P_5(x)</text>\n",
              "</g>\n",
              "<polyline clip-path=\"url(#clip3400)\" style=\"stroke:#e26f46; stroke-width:12; stroke-opacity:1; fill:none\" points=\"\n",
              "  1923,251.724 2067,251.724 \n",
              "  \"/>\n",
              "<g clip-path=\"url(#clip3400)\">\n",
              "<text style=\"fill:#000000; fill-opacity:1; font-family:Arial,Helvetica Neue,Helvetica,sans-serif; font-size:48px; text-anchor:start;\" transform=\"rotate(0, 2091, 269.224)\" x=\"2091\" y=\"269.224\">g(x)</text>\n",
              "</g>\n",
              "</svg>\n"
            ]
          },
          "metadata": {}
        }
      ],
      "execution_count": 21,
      "metadata": {
        "hide-output": false
      }
    },
    {
      "cell_type": "markdown",
      "source": [
        "Note, that while the function, $ g(x) $ and the approximation with a 5th order polynomial, $ P_5(x) $ coincide at the 6 nodes, the\n",
        "approximation has a great deal of error everywhere else.\n",
        "\n",
        "The oscillations near the boundaries are the hallmarks of Runge’s Phenomena.  You might guess that increasing the number\n",
        "of grid points and order of the polynomial will lead to better approximations:"
      ],
      "metadata": {}
    },
    {
      "cell_type": "code",
      "source": [
        "N = 9\n",
        "x = range(-1.0, 1.0, length = N+1)\n",
        "y = g.(x)\n",
        "A_9 = [x_i^n for x_i in x, n in 0:N]\n",
        "c_9 = A_9 \\ y\n",
        "\n",
        "# use the coefficients to evaluate on x_display grid\n",
        "B_9 = [x_i^n for x_i in x_display, n in 0:N]   # calculate monomials for display grid\n",
        "y_9 = B_9 * c_9  # calculates for each in x_display_grid\n",
        "plot(x_display, y_9, label = \"P_9(x)\")\n",
        "plot!(x_display, y_display, w = 3, label = \"g(x)\")"
      ],
      "outputs": [
        {
          "output_type": "execute_result",
          "execution_count": 22,
          "data": {
            "image/svg+xml": [
              "<?xml version=\"1.0\" encoding=\"utf-8\"?>\n",
              "<svg xmlns=\"http://www.w3.org/2000/svg\" xmlns:xlink=\"http://www.w3.org/1999/xlink\" width=\"600\" height=\"400\" viewBox=\"0 0 2400 1600\">\n",
              "<defs>\n",
              "  <clipPath id=\"clip3800\">\n",
              "    <rect x=\"0\" y=\"0\" width=\"2400\" height=\"1600\"/>\n",
              "  </clipPath>\n",
              "</defs>\n",
              "<polygon clip-path=\"url(#clip3800)\" points=\"\n",
              "0,1600 2400,1600 2400,0 0,0 \n",
              "  \" fill=\"#ffffff\" fill-rule=\"evenodd\" fill-opacity=\"1\"/>\n",
              "<defs>\n",
              "  <clipPath id=\"clip3801\">\n",
              "    <rect x=\"480\" y=\"0\" width=\"1681\" height=\"1600\"/>\n",
              "  </clipPath>\n",
              "</defs>\n",
              "<polygon clip-path=\"url(#clip3800)\" points=\"\n",
              "153.898,1487.47 2352.76,1487.47 2352.76,47.2441 153.898,47.2441 \n",
              "  \" fill=\"#ffffff\" fill-rule=\"evenodd\" fill-opacity=\"1\"/>\n",
              "<defs>\n",
              "  <clipPath id=\"clip3802\">\n",
              "    <rect x=\"153\" y=\"47\" width=\"2200\" height=\"1441\"/>\n",
              "  </clipPath>\n",
              "</defs>\n",
              "<polyline clip-path=\"url(#clip3802)\" style=\"stroke:#000000; stroke-width:2; stroke-opacity:0.1; fill:none\" points=\"\n",
              "  216.13,1487.47 216.13,47.2441 \n",
              "  \"/>\n",
              "<polyline clip-path=\"url(#clip3802)\" style=\"stroke:#000000; stroke-width:2; stroke-opacity:0.1; fill:none\" points=\"\n",
              "  734.728,1487.47 734.728,47.2441 \n",
              "  \"/>\n",
              "<polyline clip-path=\"url(#clip3802)\" style=\"stroke:#000000; stroke-width:2; stroke-opacity:0.1; fill:none\" points=\"\n",
              "  1253.33,1487.47 1253.33,47.2441 \n",
              "  \"/>\n",
              "<polyline clip-path=\"url(#clip3802)\" style=\"stroke:#000000; stroke-width:2; stroke-opacity:0.1; fill:none\" points=\"\n",
              "  1771.93,1487.47 1771.93,47.2441 \n",
              "  \"/>\n",
              "<polyline clip-path=\"url(#clip3802)\" style=\"stroke:#000000; stroke-width:2; stroke-opacity:0.1; fill:none\" points=\"\n",
              "  2290.52,1487.47 2290.52,47.2441 \n",
              "  \"/>\n",
              "<polyline clip-path=\"url(#clip3802)\" style=\"stroke:#000000; stroke-width:2; stroke-opacity:0.1; fill:none\" points=\"\n",
              "  153.898,1172.01 2352.76,1172.01 \n",
              "  \"/>\n",
              "<polyline clip-path=\"url(#clip3802)\" style=\"stroke:#000000; stroke-width:2; stroke-opacity:0.1; fill:none\" points=\"\n",
              "  153.898,845.98 2352.76,845.98 \n",
              "  \"/>\n",
              "<polyline clip-path=\"url(#clip3802)\" style=\"stroke:#000000; stroke-width:2; stroke-opacity:0.1; fill:none\" points=\"\n",
              "  153.898,519.949 2352.76,519.949 \n",
              "  \"/>\n",
              "<polyline clip-path=\"url(#clip3802)\" style=\"stroke:#000000; stroke-width:2; stroke-opacity:0.1; fill:none\" points=\"\n",
              "  153.898,193.917 2352.76,193.917 \n",
              "  \"/>\n",
              "<polyline clip-path=\"url(#clip3800)\" style=\"stroke:#000000; stroke-width:4; stroke-opacity:1; fill:none\" points=\"\n",
              "  153.898,1487.47 2352.76,1487.47 \n",
              "  \"/>\n",
              "<polyline clip-path=\"url(#clip3800)\" style=\"stroke:#000000; stroke-width:4; stroke-opacity:1; fill:none\" points=\"\n",
              "  153.898,1487.47 153.898,47.2441 \n",
              "  \"/>\n",
              "<polyline clip-path=\"url(#clip3800)\" style=\"stroke:#000000; stroke-width:4; stroke-opacity:1; fill:none\" points=\"\n",
              "  216.13,1487.47 216.13,1465.87 \n",
              "  \"/>\n",
              "<polyline clip-path=\"url(#clip3800)\" style=\"stroke:#000000; stroke-width:4; stroke-opacity:1; fill:none\" points=\"\n",
              "  734.728,1487.47 734.728,1465.87 \n",
              "  \"/>\n",
              "<polyline clip-path=\"url(#clip3800)\" style=\"stroke:#000000; stroke-width:4; stroke-opacity:1; fill:none\" points=\"\n",
              "  1253.33,1487.47 1253.33,1465.87 \n",
              "  \"/>\n",
              "<polyline clip-path=\"url(#clip3800)\" style=\"stroke:#000000; stroke-width:4; stroke-opacity:1; fill:none\" points=\"\n",
              "  1771.93,1487.47 1771.93,1465.87 \n",
              "  \"/>\n",
              "<polyline clip-path=\"url(#clip3800)\" style=\"stroke:#000000; stroke-width:4; stroke-opacity:1; fill:none\" points=\"\n",
              "  2290.52,1487.47 2290.52,1465.87 \n",
              "  \"/>\n",
              "<polyline clip-path=\"url(#clip3800)\" style=\"stroke:#000000; stroke-width:4; stroke-opacity:1; fill:none\" points=\"\n",
              "  153.898,1172.01 186.881,1172.01 \n",
              "  \"/>\n",
              "<polyline clip-path=\"url(#clip3800)\" style=\"stroke:#000000; stroke-width:4; stroke-opacity:1; fill:none\" points=\"\n",
              "  153.898,845.98 186.881,845.98 \n",
              "  \"/>\n",
              "<polyline clip-path=\"url(#clip3800)\" style=\"stroke:#000000; stroke-width:4; stroke-opacity:1; fill:none\" points=\"\n",
              "  153.898,519.949 186.881,519.949 \n",
              "  \"/>\n",
              "<polyline clip-path=\"url(#clip3800)\" style=\"stroke:#000000; stroke-width:4; stroke-opacity:1; fill:none\" points=\"\n",
              "  153.898,193.917 186.881,193.917 \n",
              "  \"/>\n",
              "<g clip-path=\"url(#clip3800)\">\n",
              "<text style=\"fill:#000000; fill-opacity:1; font-family:Arial,Helvetica Neue,Helvetica,sans-serif; font-size:48px; text-anchor:middle;\" transform=\"rotate(0, 216.13, 1541.47)\" x=\"216.13\" y=\"1541.47\">-1.0</text>\n",
              "</g>\n",
              "<g clip-path=\"url(#clip3800)\">\n",
              "<text style=\"fill:#000000; fill-opacity:1; font-family:Arial,Helvetica Neue,Helvetica,sans-serif; font-size:48px; text-anchor:middle;\" transform=\"rotate(0, 734.728, 1541.47)\" x=\"734.728\" y=\"1541.47\">-0.5</text>\n",
              "</g>\n",
              "<g clip-path=\"url(#clip3800)\">\n",
              "<text style=\"fill:#000000; fill-opacity:1; font-family:Arial,Helvetica Neue,Helvetica,sans-serif; font-size:48px; text-anchor:middle;\" transform=\"rotate(0, 1253.33, 1541.47)\" x=\"1253.33\" y=\"1541.47\">0.0</text>\n",
              "</g>\n",
              "<g clip-path=\"url(#clip3800)\">\n",
              "<text style=\"fill:#000000; fill-opacity:1; font-family:Arial,Helvetica Neue,Helvetica,sans-serif; font-size:48px; text-anchor:middle;\" transform=\"rotate(0, 1771.93, 1541.47)\" x=\"1771.93\" y=\"1541.47\">0.5</text>\n",
              "</g>\n",
              "<g clip-path=\"url(#clip3800)\">\n",
              "<text style=\"fill:#000000; fill-opacity:1; font-family:Arial,Helvetica Neue,Helvetica,sans-serif; font-size:48px; text-anchor:middle;\" transform=\"rotate(0, 2290.52, 1541.47)\" x=\"2290.52\" y=\"1541.47\">1.0</text>\n",
              "</g>\n",
              "<g clip-path=\"url(#clip3800)\">\n",
              "<text style=\"fill:#000000; fill-opacity:1; font-family:Arial,Helvetica Neue,Helvetica,sans-serif; font-size:48px; text-anchor:end;\" transform=\"rotate(0, 129.898, 1189.51)\" x=\"129.898\" y=\"1189.51\">0.0</text>\n",
              "</g>\n",
              "<g clip-path=\"url(#clip3800)\">\n",
              "<text style=\"fill:#000000; fill-opacity:1; font-family:Arial,Helvetica Neue,Helvetica,sans-serif; font-size:48px; text-anchor:end;\" transform=\"rotate(0, 129.898, 863.48)\" x=\"129.898\" y=\"863.48\">0.3</text>\n",
              "</g>\n",
              "<g clip-path=\"url(#clip3800)\">\n",
              "<text style=\"fill:#000000; fill-opacity:1; font-family:Arial,Helvetica Neue,Helvetica,sans-serif; font-size:48px; text-anchor:end;\" transform=\"rotate(0, 129.898, 537.449)\" x=\"129.898\" y=\"537.449\">0.6</text>\n",
              "</g>\n",
              "<g clip-path=\"url(#clip3800)\">\n",
              "<text style=\"fill:#000000; fill-opacity:1; font-family:Arial,Helvetica Neue,Helvetica,sans-serif; font-size:48px; text-anchor:end;\" transform=\"rotate(0, 129.898, 211.417)\" x=\"129.898\" y=\"211.417\">0.9</text>\n",
              "</g>\n",
              "<polyline clip-path=\"url(#clip3802)\" style=\"stroke:#009af9; stroke-width:4; stroke-opacity:1; fill:none\" points=\"\n",
              "  216.13,1130.21 237.083,1303.42 258.037,1402.25 278.99,1444.94 299.944,1446.71 320.897,1420.11 341.851,1375.31 362.804,1320.44 383.758,1261.82 404.711,1204.2 \n",
              "  425.665,1151.02 446.618,1104.61 467.572,1066.32 488.525,1036.77 509.478,1015.92 530.432,1003.27 551.385,997.943 572.339,998.785 593.292,1004.48 614.246,1013.6 \n",
              "  635.199,1024.72 656.153,1036.41 677.106,1047.32 698.06,1056.24 719.013,1062.08 739.967,1063.91 760.92,1060.98 781.874,1052.75 802.827,1038.84 823.781,1019.09 \n",
              "  844.734,993.498 865.688,962.254 886.641,925.703 907.595,884.336 928.548,838.776 949.502,789.755 970.455,738.095 991.408,684.687 1012.36,630.471 1033.32,576.413 \n",
              "  1054.27,523.483 1075.22,472.639 1096.18,424.801 1117.13,380.84 1138.08,341.554 1159.04,307.659 1179.99,279.772 1200.94,258.4 1221.9,243.932 1242.85,236.632 \n",
              "  1263.8,236.632 1284.76,243.932 1305.71,258.4 1326.66,279.772 1347.62,307.659 1368.57,341.554 1389.52,380.84 1410.48,424.801 1431.43,472.639 1452.38,523.483 \n",
              "  1473.34,576.413 1494.29,630.471 1515.25,684.687 1536.2,738.095 1557.15,789.755 1578.11,838.776 1599.06,884.336 1620.01,925.703 1640.97,962.254 1661.92,993.498 \n",
              "  1682.87,1019.09 1703.83,1038.84 1724.78,1052.75 1745.73,1060.98 1766.69,1063.91 1787.64,1062.08 1808.59,1056.24 1829.55,1047.32 1850.5,1036.41 1871.45,1024.72 \n",
              "  1892.41,1013.6 1913.36,1004.48 1934.31,998.785 1955.27,997.943 1976.22,1003.27 1997.18,1015.92 2018.13,1036.77 2039.08,1066.32 2060.04,1104.61 2080.99,1151.02 \n",
              "  2101.94,1204.2 2122.9,1261.82 2143.85,1320.44 2164.8,1375.31 2185.76,1420.11 2206.71,1446.71 2227.66,1444.94 2248.62,1402.25 2269.57,1303.42 2290.52,1130.21 \n",
              "  \n",
              "  \"/>\n",
              "<polyline clip-path=\"url(#clip3802)\" style=\"stroke:#e26f46; stroke-width:12; stroke-opacity:1; fill:none\" points=\"\n",
              "  216.13,1130.21 237.083,1128.54 258.037,1126.77 278.99,1124.89 299.944,1122.89 320.897,1120.76 341.851,1118.49 362.804,1116.08 383.758,1113.5 404.711,1110.73 \n",
              "  425.665,1107.78 446.618,1104.61 467.572,1101.2 488.525,1097.54 509.478,1093.59 530.432,1089.33 551.385,1084.72 572.339,1079.73 593.292,1074.31 614.246,1068.42 \n",
              "  635.199,1062.01 656.153,1055 677.106,1047.32 698.06,1038.91 719.013,1029.66 739.967,1019.47 760.92,1008.21 781.874,995.739 802.827,981.895 823.781,966.488 \n",
              "  844.734,949.299 865.688,930.076 886.641,908.531 907.595,884.336 928.548,857.122 949.502,826.477 970.455,791.955 991.408,753.092 1012.36,709.428 1033.32,660.562 \n",
              "  1054.27,606.228 1075.22,546.413 1096.18,481.525 1117.13,412.604 1138.08,341.554 1159.04,271.331 1179.99,205.982 1200.94,150.388 1221.9,109.629 1242.85,88.0053 \n",
              "  1263.8,88.0053 1284.76,109.629 1305.71,150.388 1326.66,205.982 1347.62,271.331 1368.57,341.554 1389.52,412.604 1410.48,481.525 1431.43,546.413 1452.38,606.228 \n",
              "  1473.34,660.562 1494.29,709.428 1515.25,753.092 1536.2,791.955 1557.15,826.477 1578.11,857.122 1599.06,884.336 1620.01,908.531 1640.97,930.076 1661.92,949.299 \n",
              "  1682.87,966.488 1703.83,981.895 1724.78,995.739 1745.73,1008.21 1766.69,1019.47 1787.64,1029.66 1808.59,1038.91 1829.55,1047.32 1850.5,1055 1871.45,1062.01 \n",
              "  1892.41,1068.42 1913.36,1074.31 1934.31,1079.73 1955.27,1084.72 1976.22,1089.33 1997.18,1093.59 2018.13,1097.54 2039.08,1101.2 2060.04,1104.61 2080.99,1107.78 \n",
              "  2101.94,1110.73 2122.9,1113.5 2143.85,1116.08 2164.8,1118.49 2185.76,1120.76 2206.71,1122.89 2227.66,1124.89 2248.62,1126.77 2269.57,1128.54 2290.52,1130.21 \n",
              "  \n",
              "  \"/>\n",
              "<polygon clip-path=\"url(#clip3800)\" points=\"\n",
              "1899,312.204 2280.76,312.204 2280.76,130.764 1899,130.764 \n",
              "  \" fill=\"#ffffff\" fill-rule=\"evenodd\" fill-opacity=\"1\"/>\n",
              "<polyline clip-path=\"url(#clip3800)\" style=\"stroke:#000000; stroke-width:4; stroke-opacity:1; fill:none\" points=\"\n",
              "  1899,312.204 2280.76,312.204 2280.76,130.764 1899,130.764 1899,312.204 \n",
              "  \"/>\n",
              "<polyline clip-path=\"url(#clip3800)\" style=\"stroke:#009af9; stroke-width:4; stroke-opacity:1; fill:none\" points=\"\n",
              "  1923,191.244 2067,191.244 \n",
              "  \"/>\n",
              "<g clip-path=\"url(#clip3800)\">\n",
              "<text style=\"fill:#000000; fill-opacity:1; font-family:Arial,Helvetica Neue,Helvetica,sans-serif; font-size:48px; text-anchor:start;\" transform=\"rotate(0, 2091, 208.744)\" x=\"2091\" y=\"208.744\">P_9(x)</text>\n",
              "</g>\n",
              "<polyline clip-path=\"url(#clip3800)\" style=\"stroke:#e26f46; stroke-width:12; stroke-opacity:1; fill:none\" points=\"\n",
              "  1923,251.724 2067,251.724 \n",
              "  \"/>\n",
              "<g clip-path=\"url(#clip3800)\">\n",
              "<text style=\"fill:#000000; fill-opacity:1; font-family:Arial,Helvetica Neue,Helvetica,sans-serif; font-size:48px; text-anchor:start;\" transform=\"rotate(0, 2091, 269.224)\" x=\"2091\" y=\"269.224\">g(x)</text>\n",
              "</g>\n",
              "</svg>\n"
            ]
          },
          "metadata": {}
        }
      ],
      "execution_count": 22,
      "metadata": {
        "hide-output": false
      }
    },
    {
      "cell_type": "markdown",
      "source": [
        "While the approximation is better near `x=0`, the oscillations near the boundaries have become worse.  Adding on extra polynomial terms will not\n",
        "globally increase the quality of the approximation."
      ],
      "metadata": {}
    },
    {
      "cell_type": "markdown",
      "source": [
        "#### Using an Orthogonal Polynomial Basis\n",
        "\n",
        "We can minimize the numerical issues of an ill-conditioned basis matrix by choosing a different basis for the polynomials.\n",
        "\n",
        "For example, [Chebyshev polynomials](https://en.wikipedia.org/wiki/Chebyshev_polynomials) form an orthonormal basis under an appropriate inner product, and we can form precise high-order approximations, with very little numerical error"
      ],
      "metadata": {}
    },
    {
      "cell_type": "code",
      "source": [
        "using ApproxFun\n",
        "N = 10000\n",
        "S = Chebyshev(-1.0..1.0)  # form chebyshev basis\n",
        "x = points(S, N)  # chooses chebyshev nodes\n",
        "y = g.(x)\n",
        "g_approx = Fun(S,ApproxFun.transform(S,y))  # transform fits the polynomial\n",
        "@show norm(g_approx.(x) - g.(x), Inf)\n",
        "plot(x_display, g_approx.(x_display), label = \"P_10000(x)\")\n",
        "plot!(x_display, g.(x_display), w = 3, label = \"g(x)\")"
      ],
      "outputs": [
        {
          "output_type": "stream",
          "name": "stderr",
          "text": [
            "┌ Info: Recompiling stale cache file C:\\Users\\jlperla\\.julia\\compiled\\v1.2\\ApproxFun\\jGqLz.ji for ApproxFun [28f2ccd6-bb30-5033-b560-165f7b14dc2f]\n",
            "└ @ Base loading.jl:1240\n"
          ]
        },
        {
          "output_type": "stream",
          "name": "stdout",
          "text": [
            "norm(g_approx.(x) - g.(x), Inf) = 4.440892098500626e-16\n"
          ]
        },
        {
          "output_type": "execute_result",
          "execution_count": 23,
          "data": {
            "image/svg+xml": [
              "<?xml version=\"1.0\" encoding=\"utf-8\"?>\n",
              "<svg xmlns=\"http://www.w3.org/2000/svg\" xmlns:xlink=\"http://www.w3.org/1999/xlink\" width=\"600\" height=\"400\" viewBox=\"0 0 2400 1600\">\n",
              "<defs>\n",
              "  <clipPath id=\"clip4200\">\n",
              "    <rect x=\"0\" y=\"0\" width=\"2400\" height=\"1600\"/>\n",
              "  </clipPath>\n",
              "</defs>\n",
              "<polygon clip-path=\"url(#clip4200)\" points=\"\n",
              "0,1600 2400,1600 2400,0 0,0 \n",
              "  \" fill=\"#ffffff\" fill-rule=\"evenodd\" fill-opacity=\"1\"/>\n",
              "<defs>\n",
              "  <clipPath id=\"clip4201\">\n",
              "    <rect x=\"480\" y=\"0\" width=\"1681\" height=\"1600\"/>\n",
              "  </clipPath>\n",
              "</defs>\n",
              "<polygon clip-path=\"url(#clip4200)\" points=\"\n",
              "153.898,1487.47 2352.76,1487.47 2352.76,47.2441 153.898,47.2441 \n",
              "  \" fill=\"#ffffff\" fill-rule=\"evenodd\" fill-opacity=\"1\"/>\n",
              "<defs>\n",
              "  <clipPath id=\"clip4202\">\n",
              "    <rect x=\"153\" y=\"47\" width=\"2200\" height=\"1441\"/>\n",
              "  </clipPath>\n",
              "</defs>\n",
              "<polyline clip-path=\"url(#clip4202)\" style=\"stroke:#000000; stroke-width:2; stroke-opacity:0.1; fill:none\" points=\"\n",
              "  216.13,1487.47 216.13,47.2441 \n",
              "  \"/>\n",
              "<polyline clip-path=\"url(#clip4202)\" style=\"stroke:#000000; stroke-width:2; stroke-opacity:0.1; fill:none\" points=\"\n",
              "  734.728,1487.47 734.728,47.2441 \n",
              "  \"/>\n",
              "<polyline clip-path=\"url(#clip4202)\" style=\"stroke:#000000; stroke-width:2; stroke-opacity:0.1; fill:none\" points=\"\n",
              "  1253.33,1487.47 1253.33,47.2441 \n",
              "  \"/>\n",
              "<polyline clip-path=\"url(#clip4202)\" style=\"stroke:#000000; stroke-width:2; stroke-opacity:0.1; fill:none\" points=\"\n",
              "  1771.93,1487.47 1771.93,47.2441 \n",
              "  \"/>\n",
              "<polyline clip-path=\"url(#clip4202)\" style=\"stroke:#000000; stroke-width:2; stroke-opacity:0.1; fill:none\" points=\"\n",
              "  2290.52,1487.47 2290.52,47.2441 \n",
              "  \"/>\n",
              "<polyline clip-path=\"url(#clip4202)\" style=\"stroke:#000000; stroke-width:2; stroke-opacity:0.1; fill:none\" points=\"\n",
              "  153.898,1217.84 2352.76,1217.84 \n",
              "  \"/>\n",
              "<polyline clip-path=\"url(#clip4202)\" style=\"stroke:#000000; stroke-width:2; stroke-opacity:0.1; fill:none\" points=\"\n",
              "  153.898,934.484 2352.76,934.484 \n",
              "  \"/>\n",
              "<polyline clip-path=\"url(#clip4202)\" style=\"stroke:#000000; stroke-width:2; stroke-opacity:0.1; fill:none\" points=\"\n",
              "  153.898,651.123 2352.76,651.123 \n",
              "  \"/>\n",
              "<polyline clip-path=\"url(#clip4202)\" style=\"stroke:#000000; stroke-width:2; stroke-opacity:0.1; fill:none\" points=\"\n",
              "  153.898,367.762 2352.76,367.762 \n",
              "  \"/>\n",
              "<polyline clip-path=\"url(#clip4202)\" style=\"stroke:#000000; stroke-width:2; stroke-opacity:0.1; fill:none\" points=\"\n",
              "  153.898,84.4006 2352.76,84.4006 \n",
              "  \"/>\n",
              "<polyline clip-path=\"url(#clip4200)\" style=\"stroke:#000000; stroke-width:4; stroke-opacity:1; fill:none\" points=\"\n",
              "  153.898,1487.47 2352.76,1487.47 \n",
              "  \"/>\n",
              "<polyline clip-path=\"url(#clip4200)\" style=\"stroke:#000000; stroke-width:4; stroke-opacity:1; fill:none\" points=\"\n",
              "  153.898,1487.47 153.898,47.2441 \n",
              "  \"/>\n",
              "<polyline clip-path=\"url(#clip4200)\" style=\"stroke:#000000; stroke-width:4; stroke-opacity:1; fill:none\" points=\"\n",
              "  216.13,1487.47 216.13,1465.87 \n",
              "  \"/>\n",
              "<polyline clip-path=\"url(#clip4200)\" style=\"stroke:#000000; stroke-width:4; stroke-opacity:1; fill:none\" points=\"\n",
              "  734.728,1487.47 734.728,1465.87 \n",
              "  \"/>\n",
              "<polyline clip-path=\"url(#clip4200)\" style=\"stroke:#000000; stroke-width:4; stroke-opacity:1; fill:none\" points=\"\n",
              "  1253.33,1487.47 1253.33,1465.87 \n",
              "  \"/>\n",
              "<polyline clip-path=\"url(#clip4200)\" style=\"stroke:#000000; stroke-width:4; stroke-opacity:1; fill:none\" points=\"\n",
              "  1771.93,1487.47 1771.93,1465.87 \n",
              "  \"/>\n",
              "<polyline clip-path=\"url(#clip4200)\" style=\"stroke:#000000; stroke-width:4; stroke-opacity:1; fill:none\" points=\"\n",
              "  2290.52,1487.47 2290.52,1465.87 \n",
              "  \"/>\n",
              "<polyline clip-path=\"url(#clip4200)\" style=\"stroke:#000000; stroke-width:4; stroke-opacity:1; fill:none\" points=\"\n",
              "  153.898,1217.84 186.881,1217.84 \n",
              "  \"/>\n",
              "<polyline clip-path=\"url(#clip4200)\" style=\"stroke:#000000; stroke-width:4; stroke-opacity:1; fill:none\" points=\"\n",
              "  153.898,934.484 186.881,934.484 \n",
              "  \"/>\n",
              "<polyline clip-path=\"url(#clip4200)\" style=\"stroke:#000000; stroke-width:4; stroke-opacity:1; fill:none\" points=\"\n",
              "  153.898,651.123 186.881,651.123 \n",
              "  \"/>\n",
              "<polyline clip-path=\"url(#clip4200)\" style=\"stroke:#000000; stroke-width:4; stroke-opacity:1; fill:none\" points=\"\n",
              "  153.898,367.762 186.881,367.762 \n",
              "  \"/>\n",
              "<polyline clip-path=\"url(#clip4200)\" style=\"stroke:#000000; stroke-width:4; stroke-opacity:1; fill:none\" points=\"\n",
              "  153.898,84.4006 186.881,84.4006 \n",
              "  \"/>\n",
              "<g clip-path=\"url(#clip4200)\">\n",
              "<text style=\"fill:#000000; fill-opacity:1; font-family:Arial,Helvetica Neue,Helvetica,sans-serif; font-size:48px; text-anchor:middle;\" transform=\"rotate(0, 216.13, 1541.47)\" x=\"216.13\" y=\"1541.47\">-1.0</text>\n",
              "</g>\n",
              "<g clip-path=\"url(#clip4200)\">\n",
              "<text style=\"fill:#000000; fill-opacity:1; font-family:Arial,Helvetica Neue,Helvetica,sans-serif; font-size:48px; text-anchor:middle;\" transform=\"rotate(0, 734.728, 1541.47)\" x=\"734.728\" y=\"1541.47\">-0.5</text>\n",
              "</g>\n",
              "<g clip-path=\"url(#clip4200)\">\n",
              "<text style=\"fill:#000000; fill-opacity:1; font-family:Arial,Helvetica Neue,Helvetica,sans-serif; font-size:48px; text-anchor:middle;\" transform=\"rotate(0, 1253.33, 1541.47)\" x=\"1253.33\" y=\"1541.47\">0.0</text>\n",
              "</g>\n",
              "<g clip-path=\"url(#clip4200)\">\n",
              "<text style=\"fill:#000000; fill-opacity:1; font-family:Arial,Helvetica Neue,Helvetica,sans-serif; font-size:48px; text-anchor:middle;\" transform=\"rotate(0, 1771.93, 1541.47)\" x=\"1771.93\" y=\"1541.47\">0.5</text>\n",
              "</g>\n",
              "<g clip-path=\"url(#clip4200)\">\n",
              "<text style=\"fill:#000000; fill-opacity:1; font-family:Arial,Helvetica Neue,Helvetica,sans-serif; font-size:48px; text-anchor:middle;\" transform=\"rotate(0, 2290.52, 1541.47)\" x=\"2290.52\" y=\"1541.47\">1.0</text>\n",
              "</g>\n",
              "<g clip-path=\"url(#clip4200)\">\n",
              "<text style=\"fill:#000000; fill-opacity:1; font-family:Arial,Helvetica Neue,Helvetica,sans-serif; font-size:48px; text-anchor:end;\" transform=\"rotate(0, 129.898, 1235.34)\" x=\"129.898\" y=\"1235.34\">0.2</text>\n",
              "</g>\n",
              "<g clip-path=\"url(#clip4200)\">\n",
              "<text style=\"fill:#000000; fill-opacity:1; font-family:Arial,Helvetica Neue,Helvetica,sans-serif; font-size:48px; text-anchor:end;\" transform=\"rotate(0, 129.898, 951.984)\" x=\"129.898\" y=\"951.984\">0.4</text>\n",
              "</g>\n",
              "<g clip-path=\"url(#clip4200)\">\n",
              "<text style=\"fill:#000000; fill-opacity:1; font-family:Arial,Helvetica Neue,Helvetica,sans-serif; font-size:48px; text-anchor:end;\" transform=\"rotate(0, 129.898, 668.623)\" x=\"129.898\" y=\"668.623\">0.6</text>\n",
              "</g>\n",
              "<g clip-path=\"url(#clip4200)\">\n",
              "<text style=\"fill:#000000; fill-opacity:1; font-family:Arial,Helvetica Neue,Helvetica,sans-serif; font-size:48px; text-anchor:end;\" transform=\"rotate(0, 129.898, 385.262)\" x=\"129.898\" y=\"385.262\">0.8</text>\n",
              "</g>\n",
              "<g clip-path=\"url(#clip4200)\">\n",
              "<text style=\"fill:#000000; fill-opacity:1; font-family:Arial,Helvetica Neue,Helvetica,sans-serif; font-size:48px; text-anchor:end;\" transform=\"rotate(0, 129.898, 101.901)\" x=\"129.898\" y=\"101.901\">1.0</text>\n",
              "</g>\n",
              "<polyline clip-path=\"url(#clip4202)\" style=\"stroke:#009af9; stroke-width:4; stroke-opacity:1; fill:none\" points=\"\n",
              "  216.13,1446.71 237.083,1444.53 258.037,1442.22 278.99,1439.77 299.944,1437.16 320.897,1434.39 341.851,1431.44 362.804,1428.28 383.758,1424.92 404.711,1421.32 \n",
              "  425.665,1417.47 446.618,1413.33 467.572,1408.89 488.525,1404.12 509.478,1398.97 530.432,1393.42 551.385,1387.41 572.339,1380.9 593.292,1373.84 614.246,1366.16 \n",
              "  635.199,1357.79 656.153,1348.65 677.106,1338.65 698.06,1327.69 719.013,1315.63 739.967,1302.34 760.92,1287.66 781.874,1271.4 802.827,1253.35 823.781,1233.27 \n",
              "  844.734,1210.86 865.688,1185.8 886.641,1157.71 907.595,1126.17 928.548,1090.69 949.502,1050.74 970.455,1005.73 991.408,955.068 1012.36,898.144 1033.32,834.438 \n",
              "  1054.27,763.603 1075.22,685.623 1096.18,601.03 1117.13,511.18 1138.08,418.553 1159.04,327.004 1179.99,241.809 1200.94,169.333 1221.9,116.196 1242.85,88.0053 \n",
              "  1263.8,88.0053 1284.76,116.196 1305.71,169.333 1326.66,241.809 1347.62,327.004 1368.57,418.553 1389.52,511.18 1410.48,601.03 1431.43,685.623 1452.38,763.603 \n",
              "  1473.34,834.438 1494.29,898.144 1515.25,955.068 1536.2,1005.73 1557.15,1050.74 1578.11,1090.69 1599.06,1126.17 1620.01,1157.71 1640.97,1185.8 1661.92,1210.86 \n",
              "  1682.87,1233.27 1703.83,1253.35 1724.78,1271.4 1745.73,1287.66 1766.69,1302.34 1787.64,1315.63 1808.59,1327.69 1829.55,1338.65 1850.5,1348.65 1871.45,1357.79 \n",
              "  1892.41,1366.16 1913.36,1373.84 1934.31,1380.9 1955.27,1387.41 1976.22,1393.42 1997.18,1398.97 2018.13,1404.12 2039.08,1408.89 2060.04,1413.33 2080.99,1417.47 \n",
              "  2101.94,1421.32 2122.9,1424.92 2143.85,1428.28 2164.8,1431.44 2185.76,1434.39 2206.71,1437.16 2227.66,1439.77 2248.62,1442.22 2269.57,1444.53 2290.52,1446.71 \n",
              "  \n",
              "  \"/>\n",
              "<polyline clip-path=\"url(#clip4202)\" style=\"stroke:#e26f46; stroke-width:12; stroke-opacity:1; fill:none\" points=\"\n",
              "  216.13,1446.71 237.083,1444.53 258.037,1442.22 278.99,1439.77 299.944,1437.16 320.897,1434.39 341.851,1431.44 362.804,1428.28 383.758,1424.92 404.711,1421.32 \n",
              "  425.665,1417.47 446.618,1413.33 467.572,1408.89 488.525,1404.12 509.478,1398.97 530.432,1393.42 551.385,1387.41 572.339,1380.9 593.292,1373.84 614.246,1366.16 \n",
              "  635.199,1357.79 656.153,1348.65 677.106,1338.65 698.06,1327.69 719.013,1315.63 739.967,1302.34 760.92,1287.66 781.874,1271.4 802.827,1253.35 823.781,1233.27 \n",
              "  844.734,1210.86 865.688,1185.8 886.641,1157.71 907.595,1126.17 928.548,1090.69 949.502,1050.74 970.455,1005.73 991.408,955.068 1012.36,898.144 1033.32,834.438 \n",
              "  1054.27,763.603 1075.22,685.623 1096.18,601.03 1117.13,511.18 1138.08,418.553 1159.04,327.004 1179.99,241.809 1200.94,169.333 1221.9,116.196 1242.85,88.0053 \n",
              "  1263.8,88.0053 1284.76,116.196 1305.71,169.333 1326.66,241.809 1347.62,327.004 1368.57,418.553 1389.52,511.18 1410.48,601.03 1431.43,685.623 1452.38,763.603 \n",
              "  1473.34,834.438 1494.29,898.144 1515.25,955.068 1536.2,1005.73 1557.15,1050.74 1578.11,1090.69 1599.06,1126.17 1620.01,1157.71 1640.97,1185.8 1661.92,1210.86 \n",
              "  1682.87,1233.27 1703.83,1253.35 1724.78,1271.4 1745.73,1287.66 1766.69,1302.34 1787.64,1315.63 1808.59,1327.69 1829.55,1338.65 1850.5,1348.65 1871.45,1357.79 \n",
              "  1892.41,1366.16 1913.36,1373.84 1934.31,1380.9 1955.27,1387.41 1976.22,1393.42 1997.18,1398.97 2018.13,1404.12 2039.08,1408.89 2060.04,1413.33 2080.99,1417.47 \n",
              "  2101.94,1421.32 2122.9,1424.92 2143.85,1428.28 2164.8,1431.44 2185.76,1434.39 2206.71,1437.16 2227.66,1439.77 2248.62,1442.22 2269.57,1444.53 2290.52,1446.71 \n",
              "  \n",
              "  \"/>\n",
              "<polygon clip-path=\"url(#clip4200)\" points=\"\n",
              "1791.95,312.204 2280.76,312.204 2280.76,130.764 1791.95,130.764 \n",
              "  \" fill=\"#ffffff\" fill-rule=\"evenodd\" fill-opacity=\"1\"/>\n",
              "<polyline clip-path=\"url(#clip4200)\" style=\"stroke:#000000; stroke-width:4; stroke-opacity:1; fill:none\" points=\"\n",
              "  1791.95,312.204 2280.76,312.204 2280.76,130.764 1791.95,130.764 1791.95,312.204 \n",
              "  \"/>\n",
              "<polyline clip-path=\"url(#clip4200)\" style=\"stroke:#009af9; stroke-width:4; stroke-opacity:1; fill:none\" points=\"\n",
              "  1815.95,191.244 1959.95,191.244 \n",
              "  \"/>\n",
              "<g clip-path=\"url(#clip4200)\">\n",
              "<text style=\"fill:#000000; fill-opacity:1; font-family:Arial,Helvetica Neue,Helvetica,sans-serif; font-size:48px; text-anchor:start;\" transform=\"rotate(0, 1983.95, 208.744)\" x=\"1983.95\" y=\"208.744\">P_10000(x)</text>\n",
              "</g>\n",
              "<polyline clip-path=\"url(#clip4200)\" style=\"stroke:#e26f46; stroke-width:12; stroke-opacity:1; fill:none\" points=\"\n",
              "  1815.95,251.724 1959.95,251.724 \n",
              "  \"/>\n",
              "<g clip-path=\"url(#clip4200)\">\n",
              "<text style=\"fill:#000000; fill-opacity:1; font-family:Arial,Helvetica Neue,Helvetica,sans-serif; font-size:48px; text-anchor:start;\" transform=\"rotate(0, 1983.95, 269.224)\" x=\"1983.95\" y=\"269.224\">g(x)</text>\n",
              "</g>\n",
              "</svg>\n"
            ]
          },
          "metadata": {}
        }
      ],
      "execution_count": 23,
      "metadata": {
        "hide-output": false
      }
    },
    {
      "cell_type": "markdown",
      "source": [
        "Besides the use of a different polynomial basis, we are approximating at different nodes (i.e. [Chebyshev nodes](https://en.wikipedia.org/wiki/Chebyshev_nodes)).  Interpolation with Chebyshev polynomials at the Chebyshev nodes ends up minimizing (but not eliminating) Runge’s Phenomena."
      ],
      "metadata": {}
    },
    {
      "cell_type": "markdown",
      "source": [
        "#### Lessons for Approximation and Interpolation\n",
        "\n",
        "To summarize\n",
        "\n",
        "1. Check the condition number on systems you suspect might be ill-conditioned (based on intuition of collinearity).  \n",
        "1. If you are working with ill-conditioned matrices, be especially careful not to take inverse or multiply by the transpose  \n",
        "1. Avoid a monomial polynomial basis.  Instead, use polynomials (e.g. Chebyshev or Lagrange) orthogonal under an appropriate inner product, or use a non-global basis such as cubic-splines.  \n",
        "1. If possible, avoid using a uniform grid for interpolation and approximation and choose nodes appropriate for the basis.  \n",
        "\n",
        "\n",
        "However, sometimes you can’t avoid ill-conditioned matrices. This is especially common with discretization of PDEs and with linear-least squares."
      ],
      "metadata": {}
    },
    {
      "cell_type": "markdown",
      "source": [
        "## Stationary Iterative Algorithms for Linear Systems\n",
        "\n",
        "As before, consider solving the equation\n",
        "\n",
        "$$\n",
        "A x = b\n",
        "$$\n",
        "\n",
        "We will now\n",
        "focus on cases where $ A $ is both massive (e.g. potentially millions of equations), sparse, and sometimes ill-conditioned - but where there is always unique solution.\n",
        "\n",
        "While this may seem excessive, it occurs in practice due to the curse of dimensionality, discretizations\n",
        "of PDEs, and when working with big data.\n",
        "\n",
        "The methods in the previous lectures (e.g. factorization and approaches similar to Gaussian elimination) are called direct methods, and able\n",
        "in theory to converge to the exact solution in a finite number of steps while directly working with the matrix in memory.\n",
        "\n",
        "Instead, iterative solutions start with a guess on a solution and iterate until convergence.  The benefit will be that\n",
        "each iteration uses a lower order operation (e.g. an $ O(N^2) $ matrix-vector product) which will make it possible to\n",
        "\n",
        "1. solve much larger systems, even if done less precisely.  \n",
        "1. define linear operators in terms of the matrix-vector products, rather than storing as a matrix.  \n",
        "1. get approximate solutions in progress prior to the completion of all algorithm steps, unlike the direct methods which only provide a solution at the end.  \n",
        "\n",
        "\n",
        "Of course, there is no free lunch and the computational order of the iterations themselves would be comparable to the direct methods for a given level of tolerance (e.g. $ O(N^3) $ operations may be required to solve a dense unstructured system).\n",
        "\n",
        "There are two types of iterative methods we will consider:  first are stationary methods which iterate on a map in a similar way to fixed point problems, and the second are [Krylov](https://en.wikipedia.org/wiki/Krylov_subspace) methods which iteratively solve using left-multiplications of the linear operator.\n",
        "\n",
        "For our main examples, we will use the valuation of the continuous time markov Chain from the [numerical methods for linear algebra](numerical_linear_algebra.ipynb) lecture.  That is, given a payoff vector $ r $, a\n",
        "discount rate $ \\rho $, and the infinitesimal generator of the markov chain $ Q $, solve the equation\n",
        "\n",
        "$$\n",
        "\\rho v = r + Q v\n",
        "$$\n",
        "\n",
        "With the sizes and types of matrices here, iterative methods are inappropriate in practice, but it will help us understand\n",
        "the characteristics of convergence, and how they relate to matrix conditioning."
      ],
      "metadata": {}
    },
    {
      "cell_type": "markdown",
      "source": [
        "### Stationary Methods\n",
        "\n",
        "First, we will solve with a direct methods, which will give the solution to machine precision."
      ],
      "metadata": {}
    },
    {
      "cell_type": "code",
      "source": [
        "using LinearAlgebra, IterativeSolvers, Statistics\n",
        "α = 0.1\n",
        "N = 100\n",
        "Q = Tridiagonal(fill(α, N-1), [-α; fill(-2α, N-2); -α], fill(α, N-1))\n",
        "\n",
        "r = range(0.0, 10.0, length=N)\n",
        "ρ = 0.05\n",
        "\n",
        "A = ρ * I - Q\n",
        "v_direct = A \\ r\n",
        "mean(v_direct)"
      ],
      "outputs": [
        {
          "output_type": "execute_result",
          "execution_count": 24,
          "data": {
            "text/plain": [
              "100.00000000000004"
            ]
          },
          "metadata": {}
        }
      ],
      "execution_count": 24,
      "metadata": {
        "hide-output": false
      }
    },
    {
      "cell_type": "markdown",
      "source": [
        "Without proof, consider given the discount rate of $ \\rho > 0 $ this problem could be setup as a contraction for solving the Bellman\n",
        "equation through methods like value function iteration.\n",
        "\n",
        "The condition we will examine here is called [**diagonal dominance**](https://en.wikipedia.org/wiki/Diagonally_dominant_matrix).\n",
        "\n",
        "$$\n",
        "|A_{ii}| \\geq \\sum_{j\\neq i} |A_{ij}| \\quad\\text{for all } i = 1\\ldots N\n",
        "$$\n",
        "\n",
        "That is, for every row, the diagonal is weakly greater in absolute value than the sum of all of the other elements in the row.  In cases\n",
        "where it is strictly greater, we say that the matrix is strictly diagonally dominant.\n",
        "\n",
        "With our example, given that $ Q $ is the infinitesimal generator of a markov chain, we know that each row sums to 0, and hence\n",
        "it is weakly diagonally dominant.\n",
        "\n",
        "However, notice that when $ \\rho > 0 $, since the diagonal of $ Q $ is negative,  $ A = ρ I - Q $ makes the matrix strictly diagonally dominant."
      ],
      "metadata": {}
    },
    {
      "cell_type": "markdown",
      "source": [
        "### Jacobi Iteration\n",
        "\n",
        "For matrices that are **strictly diagonally dominant**, you can prove that a simple decomposition and iteration procedure\n",
        "will converge.\n",
        "\n",
        "To solve a system $ A x = b $, split the matrix $ A $ into its diagonal and off-diagonals.  That is,\n",
        "\n",
        "$$\n",
        "A = D + R\n",
        "$$\n",
        "\n",
        "where\n",
        "\n",
        "$$\n",
        "D = \\begin{bmatrix} A_{11} & 0 & \\ldots & 0\\\\\n",
        "                    0    & A_{22} & \\ldots & 0\\\\\n",
        "                    \\vdots & \\vdots & \\vdots & \\vdots\\\\\n",
        "                    0 & 0 &  \\ldots & A_{NN}\n",
        "    \\end{bmatrix}\n",
        "$$\n",
        "\n",
        "and\n",
        "\n",
        "$$\n",
        "R = \\begin{bmatrix} 0 & A_{12}  & \\ldots & A_{1N} \\\\\n",
        "                    A_{21}    & 0 & \\ldots & A_{2N} \\\\\n",
        "                    \\vdots & \\vdots & \\vdots & \\vdots\\\\\n",
        "                    A_{N1}  & A_{N2}  &  \\ldots & 0\n",
        "    \\end{bmatrix}\n",
        "$$\n",
        "\n",
        "Rearrange the $ (D + R)x = b $ as\n",
        "\n",
        "$$\n",
        "\\begin{align}\n",
        "D x &= b - R x\\\\\n",
        "x &= D^{-1} (b - R x)\n",
        "\\end{align}\n",
        "$$\n",
        "\n",
        "Where, since $ D $ is diagonal, its inverse is trivial to calculate with $ O(N) $ complexity.\n",
        "\n",
        "To solve, take an iteration $ x^k $, starting from $ x^0 $, and then form a new guess with\n",
        "\n",
        "$$\n",
        "x^{k+1} = D^{-1}(b - R x^k)\n",
        "$$\n",
        "\n",
        "The complexity here is a $ O(N^2) $ for the matrix-vector product, and an $ O(N) $ for the vector subtraction and division.\n",
        "\n",
        "The package [IterativeSolvers.jl](https://github.com/JuliaMath/IterativeSolvers.jl) package implements this method.\n",
        "\n",
        "For our example, we start if a guess and solve for the value function and iterate"
      ],
      "metadata": {}
    },
    {
      "cell_type": "code",
      "source": [
        "using IterativeSolvers, LinearAlgebra, SparseArrays\n",
        "v = zeros(N)\n",
        "jacobi!(v, A, r, maxiter = 40)\n",
        "@show norm(v - v_direct, Inf)"
      ],
      "outputs": [
        {
          "output_type": "stream",
          "name": "stdout",
          "text": [
            "norm(v - v_direct, Inf) = 0.022858373200932647\n"
          ]
        },
        {
          "output_type": "execute_result",
          "execution_count": 25,
          "data": {
            "text/plain": [
              "0.022858373200932647"
            ]
          },
          "metadata": {}
        }
      ],
      "execution_count": 25,
      "metadata": {
        "hide-output": false
      }
    },
    {
      "cell_type": "markdown",
      "source": [
        "With this, after 40 iterations you see the error is in the order of `1E-2`"
      ],
      "metadata": {}
    },
    {
      "cell_type": "markdown",
      "source": [
        "### Other Stationary Methods\n",
        "\n",
        "In practice there are many better methods than Jacobi iteration, for example [Gauss-Siedel](https://en.wikipedia.org/wiki/Gauss%E2%80%93Seidel_method). which\n",
        "splits the matrix $ A = L + U $ into an lower triangular matrix $ L $ and an upper triangular $ U $ without the diagonal.\n",
        "\n",
        "The iteration becomes\n",
        "\n",
        "$$\n",
        "L x^{k+1} = b - U x^k\n",
        "$$\n",
        "\n",
        "In that case, since the $ L $ matrix is triangular, the system can be solved in $ O(N^2) $ operations after $ b - U x^k $ is formed"
      ],
      "metadata": {}
    },
    {
      "cell_type": "code",
      "source": [
        "v = zeros(N)\n",
        "gauss_seidel!(v, A, r, maxiter = 40)\n",
        "@show norm(v - v_direct, Inf);"
      ],
      "outputs": [
        {
          "output_type": "stream",
          "name": "stdout",
          "text": [
            "norm(v - v_direct, Inf) = 1.5616376089155892e-5\n"
          ]
        }
      ],
      "execution_count": 26,
      "metadata": {
        "hide-output": false
      }
    },
    {
      "cell_type": "markdown",
      "source": [
        "The accuracy increases substantially, after 40 iterations you see the error is in the order of `1E-5`\n",
        "\n",
        "Another example is [Successive Over-relaxation (SOR)](https://en.wikipedia.org/wiki/Successive_over-relaxation), which takes a relaxation parameter $ \\omega > 1 $ and decomposes the matrix as $ A = L + D + U $ with $ L, U $ are strictly upper and lower diagonal matrices, and $ D $ is a diagonal.\n",
        "\n",
        "Decompose the $ A $ matrix, multiply the system by $ \\omega $, and rearrange to find\n",
        "\n",
        "$$\n",
        "(D + \\omega L) x^{k+1} = \\omega b - \\left(\\omega U +(\\omega - 1)D \\right)x^k\n",
        "$$\n",
        "\n",
        "In that case, $ D + \\omega L $ is a triangular matrix, and hence the linear solve is of $ O(N^2) $."
      ],
      "metadata": {}
    },
    {
      "cell_type": "code",
      "source": [
        "v = zeros(N)\n",
        "sor!(v, A, r, 1.1, maxiter = 40)\n",
        "@show norm(v - v_direct, Inf);"
      ],
      "outputs": [
        {
          "output_type": "stream",
          "name": "stdout",
          "text": [
            "norm(v - v_direct, Inf) = 3.745356593753968e-7\n"
          ]
        }
      ],
      "execution_count": 27,
      "metadata": {
        "hide-output": false
      }
    },
    {
      "cell_type": "markdown",
      "source": [
        "The accuracy is now `1E-7`.  If you change the parameter to $ \\omega = 1.2 $, the accuracy further increases to `1E-9`.\n",
        "\n",
        "This technique is a common with iterative methods:  frequently adding a dampening or relaxation parameter will counterintuitively speed up the convergence process.\n",
        "\n",
        "**Note:** the stationary iterative methods are not always used directly, but are sometimes used as a “smoothing” step (e.g. running 5-10 times) prior to using other Krylov methods."
      ],
      "metadata": {}
    },
    {
      "cell_type": "markdown",
      "source": [
        "## Krylov Methods\n",
        "\n",
        "A more commonly used set of iterative methods are based on [Krylov subspaces](https://en.wikipedia.org/wiki/Krylov_subspace) which involve iterating the $ A^k x $ matrix-vector product, and orthogonalize to ensure the resulting iteration is not too collinear.\n",
        "\n",
        "The prototypical Krylov method is [Conjugate Gradient](https://en.wikipedia.org/wiki/Conjugate_gradient_method), which requires the $ A $ matrix to be\n",
        "symmetric and positive definite.\n",
        "\n",
        "Solving an example"
      ],
      "metadata": {}
    },
    {
      "cell_type": "code",
      "source": [
        "N = 100\n",
        "A = sprand(100, 100, 0.1)   # 10 percent non-zeros\n",
        "A = A * A'  # easy way to generate a symmetric positive definite matrix\n",
        "@show isposdef(A)\n",
        "b = rand(N)\n",
        "x_direct = A \\ b  # sparse direct solver more appropriate Here\n",
        "cond(Matrix(A * A'))"
      ],
      "outputs": [
        {
          "output_type": "stream",
          "name": "stdout",
          "text": [
            "isposdef(A) = true\n"
          ]
        },
        {
          "output_type": "execute_result",
          "execution_count": 28,
          "data": {
            "text/plain": [
              "2.519155550817661e13"
            ]
          },
          "metadata": {}
        }
      ],
      "execution_count": 28,
      "metadata": {
        "hide-output": false
      }
    },
    {
      "cell_type": "markdown",
      "source": [
        "Notice that the condition numbers tend to be large for big, random matrices.\n",
        "\n",
        "Solving this system with the conjugate gradient method"
      ],
      "metadata": {}
    },
    {
      "cell_type": "code",
      "source": [
        "x = zeros(N)\n",
        "sol = cg!(x, A, b, log=true, maxiter = 1000)\n",
        "sol[end]"
      ],
      "outputs": [
        {
          "output_type": "execute_result",
          "execution_count": 29,
          "data": {
            "text/plain": [
              "Converged after 179 iterations."
            ]
          },
          "metadata": {}
        }
      ],
      "execution_count": 29,
      "metadata": {
        "hide-output": false
      }
    },
    {
      "cell_type": "markdown",
      "source": [
        "### Introduction to Preconditioning\n",
        "\n",
        "If you tell a numerical analyst you are using direct methods, their first question may be “which factorization?” - but if you tell them you\n",
        "are using an iterative method, they may ask “which preconditioner?”.\n",
        "\n",
        "As discussed at the beginning of the lecture, the spectral properties of matrices determine the rate of convergence\n",
        "of iterative matrices.  In particular, ill-conditioned matrices can converge slowly with iterative methods for the same\n",
        "reasons that naive value-function iteration will converge slowly if the discount rate is close to `1`.\n",
        "\n",
        "Preconditioning solves this issue by adjusting the spectral properties of the matrix, at the cost of a some extra computational\n",
        "operations.\n",
        "\n",
        "To see an example of a right-preconditioner, consider a matrix $ P $ which has a convenient and numerically stable inverse.  Then,\n",
        "\n",
        "$$\n",
        "\\begin{align}\n",
        "A x &= b\\\\\n",
        "A P^{-1} P x &= b\\\\\n",
        "A P^{-1} y &= b\\\\\n",
        "P x &= y\n",
        "\\end{align}\n",
        "$$\n",
        "\n",
        "That is, solve $ (A P^{-1})y = b $ for $ y $, and then solve $ P x = y $ for $ x $.\n",
        "\n",
        "There are all sorts of preconditioners specific to each problem, the key features are that they have convenient (and lower order!) ways to solve the\n",
        "resulting system and lower the condition number of the matrix.  To see this in action, we can look at a simple preconditioner.\n",
        "\n",
        "The diagonal precondition is simply `P = Diagonal(A)`.  Depending on the matrix, this can change the condition number a little or a lot."
      ],
      "metadata": {}
    },
    {
      "cell_type": "code",
      "source": [
        "AP = A * inv(Diagonal(A))\n",
        "@show cond(Matrix(A))\n",
        "@show cond(Matrix(AP));"
      ],
      "outputs": [
        {
          "output_type": "stream",
          "name": "stdout",
          "text": [
            "cond(Matrix(A)) = 5.019060346188374e6\n",
            "cond(Matrix(AP)) = 3.9906483948734603e6\n"
          ]
        }
      ],
      "execution_count": 30,
      "metadata": {
        "hide-output": false
      }
    },
    {
      "cell_type": "markdown",
      "source": [
        "But it may or may not decrease the number of iterations"
      ],
      "metadata": {}
    },
    {
      "cell_type": "code",
      "source": [
        "using Preconditioners\n",
        "x = zeros(N)\n",
        "P = DiagonalPreconditioner(A)\n",
        "sol = cg!(x, A, b, log=true, maxiter = 1000)\n",
        "sol[end]"
      ],
      "outputs": [
        {
          "output_type": "execute_result",
          "execution_count": 31,
          "data": {
            "text/plain": [
              "Converged after 179 iterations."
            ]
          },
          "metadata": {}
        }
      ],
      "execution_count": 31,
      "metadata": {
        "hide-output": false
      }
    },
    {
      "cell_type": "markdown",
      "source": [
        "Another classic preconditioner is the Incomplete LU decomposition"
      ],
      "metadata": {}
    },
    {
      "cell_type": "code",
      "source": [
        "using IncompleteLU\n",
        "x = zeros(N)\n",
        "P = ilu(A, τ = 0.1)\n",
        "sol = cg!(x, A, b, Pl = P, log=true, maxiter = 1000)\n",
        "sol[end]"
      ],
      "outputs": [
        {
          "output_type": "execute_result",
          "execution_count": 32,
          "data": {
            "text/plain": [
              "Converged after 97 iterations."
            ]
          },
          "metadata": {}
        }
      ],
      "execution_count": 32,
      "metadata": {
        "hide-output": false
      }
    },
    {
      "cell_type": "markdown",
      "source": [
        "The `τ` parameter determines the degree of the LU decomposition to conduct, providing a tradeoff in preconditioner vs. solve speed.\n",
        "\n",
        "A good rule of thumb is that you should almost always be using a preconditioner with iterative methods, and you should experiment to find ones appropriate for your problem.\n",
        "\n",
        "Finally, naively trying another preconditioning approach (called [Algebraic Multigrid](https://en.wikipedia.org/wiki/Multigrid_method#Algebraic_MultiGrid_%28AMG%29)) gives us a further drop in the number of iterations."
      ],
      "metadata": {}
    },
    {
      "cell_type": "code",
      "source": [
        "x = zeros(N)\n",
        "P = AMGPreconditioner{RugeStuben}(A)\n",
        "sol = cg!(x, A, b, Pl = P, log=true, maxiter = 1000)\n",
        "sol[end]"
      ],
      "outputs": [
        {
          "output_type": "execute_result",
          "execution_count": 33,
          "data": {
            "text/plain": [
              "Converged after 58 iterations."
            ]
          },
          "metadata": {}
        }
      ],
      "execution_count": 33,
      "metadata": {
        "hide-output": false
      }
    },
    {
      "cell_type": "markdown",
      "source": [
        "*Note:* Preconditioning is also available for stationary, iterative methods (see [this example](https://en.wikipedia.org/wiki/Preconditioner#Preconditioned_iterative_methods)), but\n",
        "is frequently not implemented since they are not often used for the complete solution."
      ],
      "metadata": {}
    },
    {
      "cell_type": "markdown",
      "source": [
        "### Methods for General Matrices\n",
        "\n",
        "There are many algorithms which exploit matrix structure (e.g. the conjugate gradient method for positive definite, and  MINRES for matrices that are only symmetric/hermitian).\n",
        "\n",
        "On the other hand, if you do not have any structure to your sparse matrix, then GMRES is a good approach.\n",
        "\n",
        "To experiment with these methods, we will use our ill-conditioned interpolation problem with a monomial basis."
      ],
      "metadata": {}
    },
    {
      "cell_type": "code",
      "source": [
        "using IterativeSolvers\n",
        "\n",
        "N = 10\n",
        "f(x) = exp(x)\n",
        "x = range(0.0, 10.0, length = N+1)\n",
        "y = f.(x)  # generate some data to interpolate\n",
        "A = sparse([x_i^n for x_i in x, n in 0:N])\n",
        "c = zeros(N+1)  # initial guess required for iterative solutions\n",
        "results = gmres!(c, A, y, log=true, maxiter = 1000)\n",
        "println(\"cond(A) = $(cond(Matrix(A))), $(results[end]) Norm error $(norm(A*c - y, Inf))\")"
      ],
      "outputs": [
        {
          "output_type": "stream",
          "name": "stdout",
          "text": [
            "cond(A) = 4.462824600194546e12, Converged after 11 iterations. Norm error 6.507616490125656e-8\n"
          ]
        }
      ],
      "execution_count": 34,
      "metadata": {
        "hide-output": false
      }
    },
    {
      "cell_type": "markdown",
      "source": [
        "That method converged in 11 iterations.  Now try it with an Incomplete LU preconditioner, we see it converges immediately."
      ],
      "metadata": {}
    },
    {
      "cell_type": "code",
      "source": [
        "N = 10\n",
        "f(x) = exp(x)\n",
        "x = range(0.0, 10.0, length = N+1)\n",
        "y = f.(x)  # generate some data to interpolate\n",
        "A = [x_i^n for x_i in x, n in 0:N]\n",
        "P = ilu(sparse(A), τ = 0.1)\n",
        "c = zeros(N+1)  # initial guess required for iterative solutions\n",
        "results = gmres!(c, A, y, Pl = P,log=true, maxiter = 1000)\n",
        "println(\"$(results[end]) Norm error $(norm(A*c - y, Inf))\")"
      ],
      "outputs": [
        {
          "output_type": "stream",
          "name": "stdout",
          "text": [
            "Converged after 1 iterations. Norm error 4.854518920183182e-8\n"
          ]
        }
      ],
      "execution_count": 35,
      "metadata": {
        "hide-output": false
      }
    },
    {
      "cell_type": "markdown",
      "source": [
        "While other preconditioners (e.g. `DiagonalPreconditioner`) may only save an iteration or two.  Keep in mind,\n",
        "however, to consider the cost of the preconditioning process in your problem."
      ],
      "metadata": {}
    },
    {
      "cell_type": "markdown",
      "source": [
        "### Matrix-Free Methods\n",
        "\n",
        "First, lets use a Krylov method to solve our simple valuation problem"
      ],
      "metadata": {}
    },
    {
      "cell_type": "code",
      "source": [
        "α = 0.1\n",
        "N = 100\n",
        "Q = Tridiagonal(fill(α, N-1), [-α; fill(-2α, N-2); -α], fill(α, N-1))\n",
        "\n",
        "r = range(0.0, 10.0, length=N)\n",
        "ρ = 0.05\n",
        "\n",
        "A = ρ * I - Q\n",
        "v = zeros(N)\n",
        "results = gmres!(v, A, r, log=true)\n",
        "v_sol = results[1]\n",
        "println(\"$(results[end])\")"
      ],
      "outputs": [
        {
          "output_type": "stream",
          "name": "stdout",
          "text": [
            "Converged after 20 iterations.\n"
          ]
        }
      ],
      "execution_count": 36,
      "metadata": {
        "hide-output": false
      }
    },
    {
      "cell_type": "markdown",
      "source": [
        "While the `A` matrix was important to be kept in memory for direct methods, Krylov methods such as GMRES are build on matrix-vector products, i.e. $ A x $ for iterations on the $ x $.\n",
        "\n",
        "This product can be written directly for a given $ x $,\n",
        "\n",
        "$$\n",
        "A x = \\begin{bmatrix} (\\rho + \\alpha) x_1 - \\alpha x_2\\\\\n",
        "                    - \\alpha x_1 + (\\rho + 2 \\alpha) x_2 - \\alpha x_3\\\\\n",
        "                    \\vdots\\\\\n",
        "                    - \\alpha x_{N-2} + (\\rho + 2 \\alpha) x_{N-1} - \\alpha x_{N}\\\\\n",
        "                    - \\alpha x_{N-1} + (\\rho + \\alpha) x_N\n",
        "    \\end{bmatrix}\n",
        "$$\n",
        "\n",
        "This can be implemented as a function (either in-place or out-of-place) which calculates $ y = A x $"
      ],
      "metadata": {}
    },
    {
      "cell_type": "code",
      "source": [
        "A_mul(x) = [ (ρ + α) * x[1] - α * x[2];\n",
        "             [-α * x[i-1] + (ρ + 2*α) * x[i] - α * x[i+1] for i in 2:N-1];  # comprehension\n",
        "             - α * x[end-1] + (ρ + α) * x[end]]\n",
        "\n",
        "x = rand(N)\n",
        "@show norm(A * x - A_mul(x))  # compare to matrix;"
      ],
      "outputs": [
        {
          "output_type": "stream",
          "name": "stdout",
          "text": [
            "norm(A * x - A_mul(x)) = 0.0\n"
          ]
        }
      ],
      "execution_count": 37,
      "metadata": {
        "hide-output": false
      }
    },
    {
      "cell_type": "markdown",
      "source": [
        "The final line verifies that the `A_mul` function provides the same result as the matrix multiplication with our original `A` for a random vector.\n",
        "\n",
        "In abstract mathematics, a finite-dimensional [linear operator](https://en.wikipedia.org/wiki/Linear_map) is a mapping $ A : R^N \\to R^N $\n",
        "fulfilling a number of criteria such as $ A (c_1 x_1 + c_2 x_2) = c_1 A x_1 + c_2 A x_2 $ for scalars $ c_i $ and vectors $ x_i $.\n",
        "\n",
        "Moving from abstract mathematics to [generic programming](../more_julia/generic_programming.ipynb), we can think of a linear operator\n",
        "as a map fulfilling a number of requirements (e.g. it has a left-multiply to apply the map `*`, an in-place left-multiply `mul!`, an associated `size`, etc.).  A Julia matrix\n",
        "is just one possible implementation of the abstract concept of a linear operator.\n",
        "\n",
        "Convenience wrappers can provide some of the boilerplate which turn the `A_mul` function into something which behaves like a matrix.  One\n",
        "package is [LinearMaps.jl](https://github.com/Jutho/LinearMaps.jl) and another is [LinearOperators.jl](https://github.com/JuliaSmoothOptimizers/LinearOperators.jl)"
      ],
      "metadata": {}
    },
    {
      "cell_type": "code",
      "source": [
        "using LinearMaps\n",
        "A_map = LinearMap(A_mul, N)  # map uses the A_mul function"
      ],
      "outputs": [
        {
          "output_type": "execute_result",
          "execution_count": 38,
          "data": {
            "text/plain": [
              "LinearMaps.FunctionMap{Float64}(A_mul, 100, 100; ismutating=false, issymmetric=false, ishermitian=false, isposdef=false)"
            ]
          },
          "metadata": {}
        }
      ],
      "execution_count": 38,
      "metadata": {
        "hide-output": false
      }
    },
    {
      "cell_type": "markdown",
      "source": [
        "Now, with the `A_map` object, we can fulfill many of the operations we would expect from a matrix"
      ],
      "metadata": {}
    },
    {
      "cell_type": "code",
      "source": [
        "x = rand(N)\n",
        "@show norm(A_map * x  - A * x)\n",
        "y = similar(x)\n",
        "mul!(y, A_map, x) # in-place multiplication\n",
        "@show norm(y - A * x)\n",
        "@show size(A_map)\n",
        "@show norm(Matrix(A_map) - A)\n",
        "@show nnz(sparse(A_map));"
      ],
      "outputs": [
        {
          "output_type": "stream",
          "name": "stdout",
          "text": [
            "norm(A_map * x - A * x) = 0.0\n",
            "norm(y - A * x) = 0.0\n",
            "size(A_map) = (100, 100)\n",
            "norm(Matrix(A_map) - A) = 0.0\n",
            "nnz(sparse(A_map)) = 298\n"
          ]
        }
      ],
      "execution_count": 39,
      "metadata": {
        "hide-output": false
      }
    },
    {
      "cell_type": "markdown",
      "source": [
        "**Note:**  In the case of the `sparse(A_map)` and `Matrix(A_map)`, the code is using the left multiplication operator with `N` standard basis vectors to construct\n",
        "the full matrix.  This should only be used for testing purposes.\n",
        "\n",
        "But notice that, as the linear operator does not have indexing operations it is not an array or matrix."
      ],
      "metadata": {}
    },
    {
      "cell_type": "code",
      "source": [
        "typeof(A_map) <: AbstractArray"
      ],
      "outputs": [
        {
          "output_type": "execute_result",
          "execution_count": 40,
          "data": {
            "text/plain": [
              "false"
            ]
          },
          "metadata": {}
        }
      ],
      "execution_count": 40,
      "metadata": {
        "hide-output": false
      }
    },
    {
      "cell_type": "markdown",
      "source": [
        "As long as algorithms using linear operators are written generically (e.g. using the matrix-vector `*` or `mul!` functions, etc.) and the types of functions are not\n",
        "unnecessarily constrained to be `Matrix` or `AbstractArray` when it isn’t strictly necessary, then the `A_map` type can work in places which would otherwise require a matrix.\n",
        "\n",
        "For example, the Krylov methods in `IterativeSolvers.jl` are written for generic left-multiplication"
      ],
      "metadata": {}
    },
    {
      "cell_type": "code",
      "source": [
        "results = gmres(A_map, r, log = true)  # Krylov method using the matrix-free type\n",
        "println(\"$(results[end])\")"
      ],
      "outputs": [
        {
          "output_type": "stream",
          "name": "stdout",
          "text": [
            "Converged after 20 iterations.\n"
          ]
        }
      ],
      "execution_count": 41,
      "metadata": {
        "hide-output": false
      }
    },
    {
      "cell_type": "markdown",
      "source": [
        "These methods are typically not competitive with sparse, direct methods unless the problems become very large.  In that case,\n",
        "you will often want to work with pre-allocated vectors.  Instead of using `y = A * x` for matrix-vector products\n",
        "you would use in-place `mul!(y, A, x)` function.  The wrappers for linear operators all support in-place non-allocating versions for this purpose."
      ],
      "metadata": {}
    },
    {
      "cell_type": "code",
      "source": [
        "function A_mul!(y, x)  # inplace version\n",
        "    y[1] = (ρ + α) * x[1] - α * x[2]\n",
        "    for i in 2:N-1\n",
        "        y[i] = -α * x[i-1] + (ρ + 2α) * x[i] -α * x[i+1]\n",
        "    end\n",
        "    y[end] = - α * x[end-1] + (ρ + α) * x[end]\n",
        "    return y\n",
        "end\n",
        "A_map_2 = LinearMap(A_mul!, N, ismutating = true)  # ismutating == in-place\n",
        "\n",
        "v = zeros(N)\n",
        "@show norm(A_map_2 * v - A * v)  # can still call with * and have it allocate\n",
        "results = gmres!(v, A_map_2, r, log=true)  # in-place gmres\n",
        "println(\"$(results[end])\")"
      ],
      "outputs": [
        {
          "output_type": "stream",
          "name": "stdout",
          "text": [
            "norm(A_map_2 * v - A * v) = 0.0\n",
            "Converged after 20 iterations.\n"
          ]
        }
      ],
      "execution_count": 42,
      "metadata": {
        "hide-output": false
      }
    },
    {
      "cell_type": "markdown",
      "source": [
        "Finally, keep in mind that the linear operators can compose, so that $ A (c_1 x) + B (c_2 x) + x  = (c_1 A + c_2 B + I) x $ is well-defined for any linear operators - just as\n",
        "it would be for matrices $ A, B $ and scalars $ c_1, c_2 $.\n",
        "\n",
        "For example, take $ 2 A x + x = (2 A + I) x \\equiv B x $ as a new linear map,"
      ],
      "metadata": {}
    },
    {
      "cell_type": "code",
      "source": [
        "B = 2.0 * A_map  + I  # composite linear operator\n",
        "B * rand(N)  # left-multiply works with the composition\n",
        "typeof(B)"
      ],
      "outputs": [
        {
          "output_type": "execute_result",
          "execution_count": 43,
          "data": {
            "text/plain": [
              "LinearMaps.LinearCombination{Float64,Tuple{LinearMaps.CompositeMap{Float64,Tuple{LinearMaps.FunctionMap{Float64,typeof(A_mul),Nothing},LinearMaps.UniformScalingMap{Float64}}},LinearMaps.UniformScalingMap{Bool}}}"
            ]
          },
          "metadata": {}
        }
      ],
      "execution_count": 43,
      "metadata": {
        "hide-output": false
      }
    },
    {
      "cell_type": "markdown",
      "source": [
        "The wrappers, such as `LinearMap` wrappers make this composition possible by keeping of the composition\n",
        "graph of the expression (i.e. `LinearCombination`), and implementing the left-multiply recursively using the rules of linearity.\n",
        "\n",
        "Another example is to solve the $ \\rho v = r + Q v $ equation for $ v $ with composition of matrix-free methods for $ L $\n",
        "rather than as creating the full $ A = \\rho - Q $ operator, which we implemented as `A_mul`"
      ],
      "metadata": {}
    },
    {
      "cell_type": "code",
      "source": [
        "Q_mul(x) = [ -α * x[1] +     α * x[2];\n",
        "            [α * x[i-1] - 2*α * x[i] + α*x[i+1] for i in 2:N-1];  # comprehension\n",
        "            α * x[end-1] - α * x[end];]\n",
        "Q_map = LinearMap(Q_mul, N)\n",
        "A_composed = ρ * I - Q_map   # map composition, performs no calculations\n",
        "@show norm(A - sparse(A_composed))  # test produces the same matrix\n",
        "gmres(A_composed, r, log=true)[2]"
      ],
      "outputs": [
        {
          "output_type": "stream",
          "name": "stdout",
          "text": [
            "norm(A - sparse(A_composed)) = 0.0\n"
          ]
        },
        {
          "output_type": "execute_result",
          "execution_count": 44,
          "data": {
            "text/plain": [
              "Converged after 20 iterations."
            ]
          },
          "metadata": {}
        }
      ],
      "execution_count": 44,
      "metadata": {
        "hide-output": false
      }
    },
    {
      "cell_type": "markdown",
      "source": [
        "In this example, the left-multiply of the `A_composed` used by `gmres` uses the left-multiply of `Q_map` and `I` with the rules\n",
        "of linearity.  The `A_composed = ρ * I - Q_map` operation simply creates the `LinearMaps.LinearCombination` type, and doesn’t perform any calculations on its own."
      ],
      "metadata": {}
    },
    {
      "cell_type": "markdown",
      "source": [
        "## Iterative Methods for Linear-Least Squares\n",
        "\n",
        "In theory, the solution to the least-squares problem, $ \\min_x \\| Ax -b \\|^2 $ is simply the solution to the normal equations $ (A'A) x  = A'b $.\n",
        "\n",
        "We saw, however, that in practice direct methods use a QR decomposition - in part because ill-conditioned $ A $ become even worse when $ A' A $ is formed.\n",
        "\n",
        "For large problems, we can also consider Krylov methods for solving the linear-least squares problem.  One formulation is the [LSMR](https://stanford.edu/group/SOL/software/lsmr/LSMR-SISC-2011.pdf) algorithm\n",
        "which can solve the regularized\n",
        "\n",
        "$$\n",
        "\\min_x \\| Ax -b \\|^2 + \\| \\lambda x\\|^2\n",
        "$$\n",
        "\n",
        "The purpose of the $ \\lambda \\geq 0 $ parameter is to dampen the iteration process and/or regularize the solution.  This isn’t required, but can help convergence for ill-conditioned $ A $ matrices.  With the\n",
        "dampening parameter, the normalized equations would become $ (A'A + \\lambda^2 I) x  = A'b $.\n",
        "\n",
        "We can compare solving the least-squares problem with LSMR and direct methods"
      ],
      "metadata": {}
    },
    {
      "cell_type": "code",
      "source": [
        "M = 1000\n",
        "N = 10000\n",
        "σ = 0.1\n",
        "β = rand(M)\n",
        "# simulate data\n",
        "X = sprand(N, M, 0.1)\n",
        "y = X * β + σ * randn(N)\n",
        "β_direct = X \\ y\n",
        "results = lsmr(X, y, log = true)\n",
        "β_lsmr = results[1]\n",
        "@show norm(β_direct - β_lsmr)\n",
        "println(\"$(results[end])\")"
      ],
      "outputs": [
        {
          "output_type": "stream",
          "name": "stdout",
          "text": [
            "norm(β_direct - β_lsmr) = 3.4110302264513887e-6\n",
            "Converged after 16 iterations.\n"
          ]
        }
      ],
      "execution_count": 45,
      "metadata": {
        "hide-output": false
      }
    },
    {
      "cell_type": "markdown",
      "source": [
        "Note that rather than forming this version of the normal equations, the LSMR algorithm uses the $ A x $ and $ A' y $ (i.e. the matrix-vector product, and the matrix-transpose vector product) to implement an iterative\n",
        "solution.  Unlike the previous versions, the left-multiplies is insufficient since the least squares also deals with the transpose of the operators.  For this reason, to use\n",
        "matrix-free methods you need to define the `A * x` and `transpose(A) * y` functions separately."
      ],
      "metadata": {}
    },
    {
      "cell_type": "code",
      "source": [
        "# Could implement as matrix-free functions.\n",
        "X_func(u) = X * u  # matrix-vector product\n",
        "X_T_func(v) = X' * v  # i.e. adjoint-vector product\n",
        "\n",
        "X_map = LinearMap(X_func, X_T_func, N, M)\n",
        "results = lsmr(X_map, y, log = true)\n",
        "println(\"$(results[end])\")"
      ],
      "outputs": [
        {
          "output_type": "stream",
          "name": "stdout",
          "text": [
            "Converged after 16 iterations.\n"
          ]
        }
      ],
      "execution_count": 46,
      "metadata": {
        "hide-output": false
      }
    },
    {
      "cell_type": "markdown",
      "source": [
        "## Iterative Methods for Eigensystems\n",
        "\n",
        "When you use `eigen` on a dense matrix, it calculates an eigendecomposition and provides all of the eigenvalues and eigenvectors.\n",
        "\n",
        "While sometimes this is necessary, a spectral decomposition of a dense, unstructured matrix is one of the costliest $ O(N^3) $ operations (i.e., it has\n",
        "one of the largest constants).  For large matrices it is often infeasible.\n",
        "\n",
        "Luckily, you frequently only need a few or even a single eigenvector/eigenvalue, which enables a different set of algorithms.\n",
        "\n",
        "For example, in the case of a discrete time markov chain, to find the stationary distribution we are looking for the\n",
        "eigenvector associated with the eigenvalue of 1.  As usual, a little linear algebra goes a long way.\n",
        "\n",
        "From the [Perron-Frobenius theorem](https://en.wikipedia.org/wiki/Perron%E2%80%93Frobenius_theorem#Stochastic_matrices), the largest eigenvalue of an irreducible stochastic matrix is 1 - the same eigenvalue we are looking for.\n",
        "\n",
        "Iterative methods for solving eigensystems allow targeting the smallest magnitude, largest magnitude, and many others.  The easiest library\n",
        "to use is [Arpack.jl](https://julialinearalgebra.github.io/Arpack.jl/latest/).\n",
        "\n",
        "As an example,"
      ],
      "metadata": {}
    },
    {
      "cell_type": "code",
      "source": [
        "using Arpack, LinearAlgebra\n",
        "N = 1000\n",
        "A = Tridiagonal([fill(0.1, N-2); 0.2], fill(0.8, N), [0.2; fill(0.1, N-2);])\n",
        "A_adjoint = A'\n",
        "\n",
        "λ, ϕ = eigs(A_adjoint, nev=1, which=:LM, maxiter=1000)  # Find 1 of the largest magnitude eigenvalue\n",
        "ϕ = real(ϕ) ./ sum(real(ϕ))\n",
        "@show λ\n",
        "@show mean(ϕ);"
      ],
      "outputs": [
        {
          "output_type": "stream",
          "name": "stdout",
          "text": [
            "λ = Complex{Float64}[1.0000000000000113 + 0.0im]\n",
            "mean(ϕ) = 0.0009999999999999998\n"
          ]
        }
      ],
      "execution_count": 47,
      "metadata": {
        "hide-output": false
      }
    },
    {
      "cell_type": "markdown",
      "source": [
        "Indeed, the `λ` is equal to `1`.  If you choose `nev = 2` then it would provide the eigenpairs with the largest two eigenvalues in absolute magnitude.\n",
        "\n",
        "*Hint*: if you get errors using `Arpack`, increase `maxiter` parameter for your problems.\n",
        "\n",
        "Iterative methods for eigensystems rely on matrix-vector products rather than decompositions, and are amenable to matrix-free approaches.  For example,\n",
        "take the Markov-chain for a simple counting process\n",
        "\n",
        "1. The count starts at $ 1 $ and has a maximum of $ N $.  \n",
        "1. With probability $ \\theta \\geq 0 $ and an existing count is lost with probability $ \\zeta \\geq 0 $ such that $ \\theta + \\zeta \\leq 1 $.  \n",
        "1. If the count is at $ 1 $ then the only transition is to add a count with probability $ \\theta $  \n",
        "1. If the current count is $ N $ then the only transition is to lose the count with probability $ \\zeta $  \n",
        "\n",
        "\n",
        "First finding the transition matrix $ P $ and its adjoint directly as a check"
      ],
      "metadata": {}
    },
    {
      "cell_type": "code",
      "source": [
        "θ = 0.1\n",
        "ζ = 0.05\n",
        "N = 5\n",
        "P = Tridiagonal(fill(ζ, N-1), [1-θ; fill(1-θ-ζ, N-2); 1-ζ], fill(θ, N-1))\n",
        "P'"
      ],
      "outputs": [
        {
          "output_type": "execute_result",
          "execution_count": 48,
          "data": {
            "text/plain": [
              "5×5 Tridiagonal{Float64,Array{Float64,1}}:\n",
              " 0.9  0.05   ⋅     ⋅     ⋅  \n",
              " 0.1  0.85  0.05   ⋅     ⋅  \n",
              "  ⋅   0.1   0.85  0.05   ⋅  \n",
              "  ⋅    ⋅    0.1   0.85  0.05\n",
              "  ⋅    ⋅     ⋅    0.1   0.95"
            ]
          },
          "metadata": {}
        }
      ],
      "execution_count": 48,
      "metadata": {
        "hide-output": false
      }
    },
    {
      "cell_type": "markdown",
      "source": [
        "Implementing the adjoint-vector product directly, and verifying that it gives the same matrix as the adjoint"
      ],
      "metadata": {}
    },
    {
      "cell_type": "code",
      "source": [
        "P_adj_mul(x) = [ (1-θ) * x[1] + ζ * x[2];\n",
        "                [θ * x[i-1] + (1-θ-ζ) * x[i] + ζ * x[i+1] for i in 2:N-1];  # comprehension\n",
        "            θ * x[end-1] + (1-ζ) * x[end];]\n",
        "P_adj_map = LinearMap(P_adj_mul, N)\n",
        "@show norm(P' - sparse(P_adj_map))"
      ],
      "outputs": [
        {
          "output_type": "stream",
          "name": "stdout",
          "text": [
            "norm(P' - sparse(P_adj_map)) = 0.0\n"
          ]
        },
        {
          "output_type": "execute_result",
          "execution_count": 49,
          "data": {
            "text/plain": [
              "0.0"
            ]
          },
          "metadata": {}
        }
      ],
      "execution_count": 49,
      "metadata": {
        "hide-output": false
      }
    },
    {
      "cell_type": "markdown",
      "source": [
        "Finally, solving for the stationary distribution using the matrix-free method (which could be verified against the decomposition approach of $ P' $)"
      ],
      "metadata": {}
    },
    {
      "cell_type": "code",
      "source": [
        "λ, ϕ = eigs(P_adj_map, nev=1, which=:LM, maxiter=1000)\n",
        "ϕ = real(ϕ) ./ sum(real(ϕ))\n",
        "@show λ\n",
        "@show ϕ"
      ],
      "outputs": [
        {
          "output_type": "stream",
          "name": "stdout",
          "text": [
            "λ = Complex{Float64}[1.0000000000000013 + 0.0im]\n",
            "ϕ = [0.03225806451612769; 0.06451612903225767; 0.12903225806451785; 0.2580645161290339; 0.5161290322580628]\n"
          ]
        },
        {
          "output_type": "execute_result",
          "execution_count": 50,
          "data": {
            "text/plain": [
              "5×1 Array{Float64,2}:\n",
              " 0.03225806451612769\n",
              " 0.06451612903225767\n",
              " 0.12903225806451785\n",
              " 0.2580645161290339 \n",
              " 0.5161290322580628 "
            ]
          },
          "metadata": {}
        }
      ],
      "execution_count": 50,
      "metadata": {
        "hide-output": false
      }
    },
    {
      "cell_type": "markdown",
      "source": [
        "Of course, for this simple of a problem the direct eigendecomposition will be significantly faster.  Only use matrix-free iterative methods for large systems where\n",
        "you do not need all of the eigenvalues."
      ],
      "metadata": {}
    },
    {
      "cell_type": "markdown",
      "source": [
        "## Krylov Methods for Markov Chain Dynamics\n",
        "\n",
        "This example applies the methods in this lecture to a large continuous time Markov chain, and provides some practice working with arrays of arbitrary dimensions.\n",
        "\n",
        "Consider a version of the Markov-chain dynamics in [Perla2019], where a firm has a discrete number of customers of different types.  To keep things as simple as possible, assume that there are $ m=1, \\ldots M $ types of consumers and that the firm may have $ n = 1, \\ldots N $ consumers of each type.\n",
        "\n",
        "To set notation, let $ n_m \\in \\{1, \\ldots N\\} $ be the number of consumers of type $ m $, so that the state of a firm is $ \\{n_1, \\ldots n_m \\ldots, n_M\\} $.  The cardinality of possible states is then $ \\mathbf{N}\\equiv N^M $ which can blow up quickly as the number of types increases.\n",
        "\n",
        "The stochastic process is a simple counting/forgetting process as follows.\n",
        "\n",
        "1. For every $ 1 \\leq n_m(t) < N $ there is a $ \\theta $ intensity of a new customer increasing $ n_m(t+\\Delta) = n_m(t) + 1 $  \n",
        "1. For every $ 1 < n_m(t) \\leq N $ there is a $ \\zeta $ intensity of losing a customer, so that $ n_m(t+\\Delta) = n_m(t) - 1 $  "
      ],
      "metadata": {}
    },
    {
      "cell_type": "markdown",
      "source": [
        "### Matrix-free Infinitesimal Generator\n",
        "\n",
        "In order to define an intensity matrix $ Q $ of size $ \\mathbf{N}\\times \\mathcal{N} $, we need to choose a consistent ordering of the states.  But,\n",
        "before we enumerate them linearly, take a $ v\\in R^{\\mathbf{N}} $ interpreted as a multidimensional array and look at the left product of the linear operator product $ Q v \\to R^{\\mathbf{N}} $.\n",
        "\n",
        "For example, if we were implementing the product at the row of $ Q $ corresponding to the $ (n_1, \\ldots, n_M) $ state, then\n",
        "\n",
        "$$\n",
        "\\begin{align}\n",
        "    Q_{(n_1, \\ldots n_M)} \\cdot v &=\n",
        "\\theta \\sum_{m=1}^M (n_m < N)  v(n_1, \\ldots, n_m + 1, \\ldots, n_M)\\\\\n",
        "                                        &+ \\zeta \\sum_{m=1}^M (1 < n_m)  v(n_1, \\ldots, n_m - 1, \\ldots, n_M)\\\\\n",
        "                                        &-\\left(\\theta\\, \\text{Count}(n_m < N) + \\zeta\\, \\text{Count}( n_m > 1)\\right)v(n_1, \\ldots, n_M)\n",
        "\\end{align}\n",
        "$$\n",
        "\n",
        "Here:\n",
        "\n",
        "- the first term includes all of the arrivals of new customers into the various $ m $  \n",
        "- the second term is the loss of a customer for the various $ m $  \n",
        "- the last term is the intensity of all exits from this state (i.e. counting the intensity of all other transitions to ensure the row would sum to $ 0 $)  \n",
        "\n",
        "\n",
        "In practice, rather than working with the $ f $ as a multidimensional type, we will need to enumerate the discrete states linearly so we can iterate $ f $ between $ 1 $ and mathbf{N}.  An especially convenient\n",
        "approach is to enumerate them in the same order as the $ K $ dimensional cartesian product of the $ N $ states as a multi-dimensional array above.\n",
        "\n",
        "This can be done with the `CartesianIndices` function, which is used internally in Julia for the `eachindex` function.  For example,"
      ],
      "metadata": {}
    },
    {
      "cell_type": "code",
      "source": [
        "N = 2\n",
        "M = 3\n",
        "shape = Tuple(fill(N, M))\n",
        "v = rand(shape...)\n",
        "@show typeof(v)\n",
        "for ind in CartesianIndices(v)\n",
        "    println(\"v$(ind.I) = $(v[ind])\")  # .I gets the tuple to display\n",
        "end"
      ],
      "outputs": [
        {
          "output_type": "stream",
          "name": "stdout",
          "text": [
            "typeof(v) = Array{Float64,3}\n",
            "v(1, 1, 1) = 0.362213855934969\n",
            "v(2, 1, 1) = 0.9824734472084393\n",
            "v(1, 2, 1) = 0.3536533913031674\n",
            "v(2, 2, 1) = 0.02186310593646379\n",
            "v(1, 1, 2) = 0.23328214751602383\n",
            "v(2, 1, 2) = 0.8402756302510626\n",
            "v(1, 2, 2) = 0.4374648161501049\n",
            "v(2, 2, 2) = 0.5491167535343919\n"
          ]
        }
      ],
      "execution_count": 51,
      "metadata": {
        "hide-output": false
      }
    },
    {
      "cell_type": "markdown",
      "source": [
        "The added benefit of this approach is that it will be the most efficient way to iterate through vectors in the implementation.\n",
        "\n",
        "For the counting process with the arbitrary dimensions, we will frequently be incrementing or decrementing the $ m $ unit vectors of the `CartesianIndex` type with"
      ],
      "metadata": {}
    },
    {
      "cell_type": "code",
      "source": [
        "e_m = [CartesianIndex((1:M .== i)*1...)  for i in 1:M]"
      ],
      "outputs": [
        {
          "output_type": "execute_result",
          "execution_count": 52,
          "data": {
            "text/plain": [
              "3-element Array{CartesianIndex{3},1}:\n",
              " CartesianIndex(1, 0, 0)\n",
              " CartesianIndex(0, 1, 0)\n",
              " CartesianIndex(0, 0, 1)"
            ]
          },
          "metadata": {}
        }
      ],
      "execution_count": 52,
      "metadata": {
        "hide-output": false
      }
    },
    {
      "cell_type": "markdown",
      "source": [
        "And then use the vector to increment.  For example, if the current count is `(1, 2, 2)` and we want to add a count of `1` to the 1st index or remove a count\n",
        "from the 3rd, then"
      ],
      "metadata": {}
    },
    {
      "cell_type": "code",
      "source": [
        "ind = CartesianIndex(1, 2, 2)  # example counts coming from CartesianIndices\n",
        "@show ind + e_m[1]  # increment 1st index\n",
        "@show ind - e_m[3];  # decrement the 3rd index"
      ],
      "outputs": [
        {
          "output_type": "stream",
          "name": "stdout",
          "text": [
            "ind + e_m[1] = CartesianIndex(2, 2, 2)\n",
            "ind - e_m[3] = CartesianIndex(1, 2, 1)\n"
          ]
        }
      ],
      "execution_count": 53,
      "metadata": {
        "hide-output": false
      }
    },
    {
      "cell_type": "markdown",
      "source": [
        "This works, of course, because the `CartesianIndex` type is written to support efficient addition and subtraction.  Finally, to implement the operator we need to count of indices in the states where increment and decrement occurs."
      ],
      "metadata": {}
    },
    {
      "cell_type": "code",
      "source": [
        "@show ind\n",
        "@show count(ind.I .> 1)\n",
        "@show count(ind.I .< N);"
      ],
      "outputs": [
        {
          "output_type": "stream",
          "name": "stdout",
          "text": [
            "ind = CartesianIndex(1, 2, 2)\n",
            "count(ind.I .> 1) = 2\n",
            "count(ind.I .< N) = 1\n"
          ]
        }
      ],
      "execution_count": 54,
      "metadata": {
        "hide-output": false
      }
    },
    {
      "cell_type": "markdown",
      "source": [
        "With this, we are now able to write the $ Q $ operator on the $ f $ vector, which is enumerated by the cartesian indices.  First, collect the\n",
        "parameters in a named tuple generator"
      ],
      "metadata": {}
    },
    {
      "cell_type": "code",
      "source": [
        "using Parameters, BenchmarkTools\n",
        "default_params = @with_kw (θ = 0.1, ζ = 0.05, ρ = 0.03, N = 10, M = 6,\n",
        "                           shape = Tuple(fill(N, M)),  # for reshaping vector to M-d array\n",
        "                           e_m = ([CartesianIndex((1:M .== i)*1...)  for i in 1:M]))"
      ],
      "outputs": [
        {
          "output_type": "execute_result",
          "execution_count": 55,
          "data": {
            "text/plain": [
              "#29 (generic function with 2 methods)"
            ]
          },
          "metadata": {}
        }
      ],
      "execution_count": 55,
      "metadata": {
        "hide-output": false
      }
    },
    {
      "cell_type": "markdown",
      "source": [
        "Next, implement the in-place matrix-free product"
      ],
      "metadata": {}
    },
    {
      "cell_type": "code",
      "source": [
        "function Q_mul!(dv, v, p)\n",
        "    @unpack θ, ζ, N, M, shape, e_m = p\n",
        "    v = reshape(v, shape)  # now can access v, dv as M-dim arrays\n",
        "    dv = reshape(dv, shape)\n",
        "\n",
        "    @inbounds for ind in CartesianIndices(v)\n",
        "        dv[ind] = 0.0\n",
        "        for m in 1:M\n",
        "            n_m = ind[m]\n",
        "            if(n_m < N)\n",
        "                dv[ind] += θ * v[ind + e_m[m]]\n",
        "            end\n",
        "            if(n_m > 1)\n",
        "                dv[ind] += ζ *v[ind - e_m[m]]\n",
        "            end\n",
        "        end\n",
        "        dv[ind] -= (θ * count(ind.I .< N) + ζ * count(ind.I .> 1)) * v[ind]\n",
        "    end\n",
        "end\n",
        "\n",
        "p = default_params()\n",
        "v = zeros(p.shape)\n",
        "dv = similar(v)\n",
        "@btime Q_mul!($dv, $v, $p)"
      ],
      "outputs": [
        {
          "output_type": "stream",
          "name": "stdout",
          "text": [
            "  50.620 ms (0 allocations: 0 bytes)\n"
          ]
        }
      ],
      "execution_count": 56,
      "metadata": {
        "hide-output": false
      }
    },
    {
      "cell_type": "markdown",
      "source": [
        "From the output of the benchmarking, note that the implementation of the left-multiplication takes less than a 100 milliseconds, and allocates little or no memory even though the Markov chain has one million possible states (i.e. $ N^M = 10^6 $)."
      ],
      "metadata": {}
    },
    {
      "cell_type": "markdown",
      "source": [
        "### Solving a Valuation Problem\n",
        "\n",
        "As before, we could use this Markov Chain to solve a Bellman equations.  Assume that the firm discounts at rate $ \\rho > 0 $ and gets a flow payoff of a different $ z_m $ per\n",
        "customer of type $ m $.  For example, if the state of the firm is $ (n_1, n_2, n_3) = (2,3,2) $ then it gets $ \\begin{bmatrix}2 & 3 & 2\\end{bmatrix} \\cdot \\begin{bmatrix}z_1& z_2 & z_3\\end{bmatrix} $ in flow profits.\n",
        "\n",
        "Given this profit function, we can write the simple Bellman equation in our standard form of $ \\rho v = r + Q v $ defining the appropriate payoff $ r $.  For example, if $ z_m = m^2 $ then"
      ],
      "metadata": {}
    },
    {
      "cell_type": "code",
      "source": [
        "function r_vec(p)\n",
        "    z = (1:p.M).^2  # payoffs per type m\n",
        "    r = [0.5 * dot(ind.I, z)  for ind in CartesianIndices(p.shape)]\n",
        "    return reshape(r, p.N^p.M)  # return as a vector\n",
        "end\n",
        "@show typeof(r_vec(p))\n",
        "r_vec(p) |> mean"
      ],
      "outputs": [
        {
          "output_type": "stream",
          "name": "stdout",
          "text": [
            "typeof(r_vec(p)) = Array{Float64,1}\n"
          ]
        },
        {
          "output_type": "execute_result",
          "execution_count": 57,
          "data": {
            "text/plain": [
              "250.25"
            ]
          },
          "metadata": {}
        }
      ],
      "execution_count": 57,
      "metadata": {
        "hide-output": false
      }
    },
    {
      "cell_type": "markdown",
      "source": [
        "Note that the returned $ r $ is a vector, enumerated in the same order as the $ n_m $ states.\n",
        "\n",
        "Since the ordering of $ r $ is consistent with that that of $ Q $, we can solve $ (\\rho - Q) v = r $ as a linear system.\n",
        "\n",
        "Below, we create a linear operator and compare the algorithm for a few different iterative methods [(GMRES, BiCGStab(l), IDR(s), etc.)](https://juliamath.github.io/IterativeSolvers.jl/dev/#What-method-should-I-use-for-linear-systems?-1) with a small problem\n",
        "of only ten-thousand possible states."
      ],
      "metadata": {}
    },
    {
      "cell_type": "code",
      "source": [
        "p = default_params(N=10, M=4)\n",
        "Q = LinearMap((df, f) -> Q_mul!(df, f, p), p.N^p.M, ismutating = true)\n",
        "A = p.ρ * I - Q\n",
        "A_sparse = sparse(A)  # expensive: only use in tests\n",
        "r = r_vec(p)\n",
        "v_direct = A_sparse \\ r\n",
        "iv = zero(r)\n",
        "\n",
        "@btime $A_sparse \\ $r  # direct\n",
        "@show norm(gmres(A, r) - v_direct)\n",
        "@btime gmres!(iv, $A, $r) setup = (iv = zero(r))\n",
        "\n",
        "@show norm(bicgstabl(A, r) - v_direct)\n",
        "@btime bicgstabl!(iv, $A, $r) setup = (iv = zero(r))\n",
        "\n",
        "@show norm(idrs(A, r) - v_direct)\n",
        "@btime idrs($A, $r);"
      ],
      "outputs": [
        {
          "output_type": "stream",
          "name": "stdout",
          "text": [
            "  940.676 ms (75 allocations: 181.85 MiB)\n",
            "norm(gmres(A, r) - v_direct) = 2.3579328080506243e-5\n",
            "  5.294 ms (226 allocations: 3.37 MiB)\n",
            "norm(bicgstabl(A, r) - v_direct) = 7.51966060959005e-6\n",
            "  14.951 ms (432 allocations: 9.86 MiB)\n",
            "norm(idrs(A, r) - v_direct) = 1.0540123253269602e-7\n",
            "  7.363 ms (297 allocations: 4.75 MiB)\n"
          ]
        }
      ],
      "execution_count": 58,
      "metadata": {
        "hide-output": false
      }
    },
    {
      "cell_type": "markdown",
      "source": [
        "Here, we see that even if the $ A $ matrix has been created, the direct sparse solvers (which uses a sparse LU or QR) is at least an order of magnitude slower and allocating over an order of magnitude more memory.  This is in addition to the allocation for the `A_sparse` matrix itself, which is not needed for iterative methods.\n",
        "\n",
        "The different iterative methods have tradeoffs when it comes to speed of accuracy, convergence speed, memory requirements, and usefulness of preconditioning.  Going much above this $ \\mathbf{N} = 10^4 $, the direct methods quickly become infeasible.\n",
        "\n",
        "Putting everything together to solving much larger systems with GMRES as our linear solvers"
      ],
      "metadata": {}
    },
    {
      "cell_type": "code",
      "source": [
        "function solve_bellman(p; iv = zeros(p.N^p.M))\n",
        "    @unpack ρ, N, M = p\n",
        "    Q = LinearMap((df, f) -> Q_mul!(df, f, p), N^M, ismutating = true)\n",
        "    A = ρ * I - Q\n",
        "    r = r_vec(p)\n",
        "\n",
        "    sol = gmres!(iv, A, r, log = false)  # iterative solver, matrix-free\n",
        "    return sol\n",
        "end\n",
        "p = default_params(N=10, M=6)\n",
        "@btime solve_bellman($p);"
      ],
      "outputs": [
        {
          "output_type": "stream",
          "name": "stdout",
          "text": [
            "  1.361 s (270 allocations: 366.23 MiB)\n"
          ]
        }
      ],
      "execution_count": 59,
      "metadata": {
        "hide-output": false
      }
    },
    {
      "cell_type": "markdown",
      "source": [
        "This solves a value function with a Markov chain of one-million states in a little over a second!  This general approach seems to scale roughly linearly.  For example, try $ N=10, M=8 $\n",
        "to solve an equation with a Markov chain with one-hundred million possible states, which can be solved in around 3-4 minutes.  Above that order of magnitude, you may need to tinker with the linear solver parameters to ensure that you are not memory-limited (e.g. change the `restart` parameter of GMRES)."
      ],
      "metadata": {}
    },
    {
      "cell_type": "markdown",
      "source": [
        "### Markov Chain Steady State and Dynamics\n",
        "\n",
        "Recall that given an $ N $ dimensional intensity matrix $ Q $ of a CTMC, the evolution of the PDF from an initial condition $ \\psi(0) $ is the system of linear differential equations\n",
        "\n",
        "$$\n",
        "\\dot{\\psi}(t) = Q^T \\psi(t)\n",
        "$$\n",
        "\n",
        "If $ Q $ was a matrix, we could just take its to find the adoint.  However, with matrix-free methods we need to implement the\n",
        "adjoint-vector product directly.\n",
        "\n",
        "The logic for the adjoint is that for a given $ n = (n_1,\\ldots, n_m, \\ldots n_M) $, the $ Q^T $ product for that row has terms enter when\n",
        "\n",
        "1. $ 1 < n_m \\leq N $, entering into identical $ n $ except with one less customer in the $ m $ th position  \n",
        "1. $ 1 \\leq n_m < N $ entering into identical $ n $ except with one more customer in the $ m $ th position  \n",
        "\n",
        "\n",
        "Implementing this logic first in math, and thne in code,\n",
        "\n",
        "$$\n",
        "\\begin{align}\n",
        "    Q^T_{(n_1, \\ldots n_M)} \\cdot \\psi &=\n",
        "\\theta \\sum_{m=1}^M (n_m > 1)  \\psi(n_1, \\ldots, n_m - 1, \\ldots, n_M)\\\\\n",
        "                                        &+ \\zeta \\sum_{m=1}^M (n_m < N)  \\psi(n_1, \\ldots, n_m + 1, \\ldots, n_M)\\\\\n",
        "                                        &-\\left(\\theta\\, \\text{Count}(n_m < N) + \\zeta\\, \\text{Count}( n_m > 1)\\right)\\psi(n_1, \\ldots, n_M)\n",
        "\\end{align}\n",
        "$$"
      ],
      "metadata": {}
    },
    {
      "cell_type": "code",
      "source": [
        "function Q_T_mul!(dψ, ψ, p)\n",
        "    @unpack θ, ζ, N, M, shape, e_m = p\n",
        "    ψ = reshape(ψ, shape)\n",
        "    dψ = reshape(dψ, shape)\n",
        "\n",
        "    @inbounds for ind in CartesianIndices(ψ)\n",
        "        dψ[ind] = 0.0\n",
        "        for m in 1:M\n",
        "            n_m = ind[m]\n",
        "            if(n_m > 1)\n",
        "                dψ[ind] += θ * ψ[ind - e_m[m]]\n",
        "            end\n",
        "            if(n_m < N)\n",
        "                dψ[ind] += ζ *ψ[ind + e_m[m]]\n",
        "            end\n",
        "        end\n",
        "        dψ[ind] -= (θ * count(ind.I .< N) + ζ * count(ind.I .> 1)) * ψ[ind]\n",
        "    end\n",
        "end"
      ],
      "outputs": [
        {
          "output_type": "execute_result",
          "execution_count": 60,
          "data": {
            "text/plain": [
              "Q_T_mul! (generic function with 1 method)"
            ]
          },
          "metadata": {}
        }
      ],
      "execution_count": 60,
      "metadata": {
        "hide-output": false
      }
    },
    {
      "cell_type": "markdown",
      "source": [
        "The `sparse` function for the operator is useful to test that the function is correct, and is the adjoint of\n",
        "our `Q` operator."
      ],
      "metadata": {}
    },
    {
      "cell_type": "code",
      "source": [
        "p = default_params(N=5, M=4)  # sparse is too slow for the full matrix\n",
        "Q = LinearMap((df, f) -> Q_mul!(df, f, p), p.N^p.M, ismutating = true)\n",
        "Q_T = LinearMap((dψ, ψ) -> Q_T_mul!(dψ, ψ, p), p.N^p.M, ismutating = true)\n",
        "@show norm(sparse(Q)' - sparse(Q_T));  # reminder: use sparse only for testing!"
      ],
      "outputs": [
        {
          "output_type": "stream",
          "name": "stdout",
          "text": [
            "norm((sparse(Q))' - sparse(Q_T)) = 0.0\n"
          ]
        }
      ],
      "execution_count": 61,
      "metadata": {
        "hide-output": false
      }
    },
    {
      "cell_type": "markdown",
      "source": [
        "As discussed previously, the steady-state can be found as the eigenvector associated with the zero-eigenvalue (i.e. solves $ Q^T \\psi = 0 \\psi $).  We could\n",
        "do this with a dense eigenvalue solution for relatively small matrices"
      ],
      "metadata": {}
    },
    {
      "cell_type": "code",
      "source": [
        "p = default_params(N=5, M=4)\n",
        "eig_Q_T = eigen(Matrix(Q_T))\n",
        "vec = real(eig_Q_T.vectors[:,end])\n",
        "direct_ψ = vec ./ sum(vec)\n",
        "@show eig_Q_T.values[end];"
      ],
      "outputs": [
        {
          "output_type": "stream",
          "name": "stdout",
          "text": [
            "eig_Q_T.values[end] = 1.1102230246251565e-16 + 0.0im\n"
          ]
        }
      ],
      "execution_count": 62,
      "metadata": {
        "hide-output": false
      }
    },
    {
      "cell_type": "markdown",
      "source": [
        "This approach relies on a full factorization of the underlying matrix, delivering the entire spectrum.  For our purposes, this is not necessary.\n",
        "\n",
        "Instead, we could use the `Arpack.jl` package to target the smallest absolute magnitude eigenvalue, which relies on an iterative method.\n",
        "\n",
        "A final approach in this case is to notice that the $ \\mathbf{N}\\times\\mathbf{N} $ matrix is of\n",
        "rank $ \\mathbf{N} - 1 $ when the Markov-chain is irreducible.  The stationary solutio is is a vector in the $ 1 $ dimensional nullspace\n",
        "of the matrix.\n",
        "\n",
        "Solving a linear system with the right-hand side all $ 0 $ s using Krylov methods will converge to a point in the nullspace.  That is, $ \\min_x ||A x||_2 $ solved\n",
        "iteratively from a non-zero $ x $ will converge to a point in the nullspace.\n",
        "\n",
        "We can use various Krylov methods for this trick (e.g. if the matrix is symmetric and positive definite, you could use Conjugate Gradient) but in our case we will\n",
        "use GMRES since we do not have any structure."
      ],
      "metadata": {}
    },
    {
      "cell_type": "code",
      "source": [
        "p = default_params(N=5, M=4)  # sparse is too slow for the full matrix\n",
        "Q_T = LinearMap((dψ, ψ) -> Q_T_mul!(dψ, ψ, p), p.N^p.M, ismutating = true)\n",
        "ψ = fill(1/(p.N^p.M), p.N^p.M) # can't use 0 as initial guess\n",
        "sol = gmres!(ψ, Q_T, zeros(p.N^p.M))  # i.e. solve Ax = 0 iteratively\n",
        "ψ = ψ / sum(ψ)\n",
        "@show norm(ψ - direct_ψ);"
      ],
      "outputs": [
        {
          "output_type": "stream",
          "name": "stdout",
          "text": [
            "norm(ψ - direct_ψ) = 6.0982247319932e-11\n"
          ]
        }
      ],
      "execution_count": 63,
      "metadata": {
        "hide-output": false
      }
    },
    {
      "cell_type": "markdown",
      "source": [
        "The speed and memory differences between this methods can be orders of magnitude."
      ],
      "metadata": {}
    },
    {
      "cell_type": "code",
      "source": [
        "p = default_params(N=4, M=4)  # Dense and sparse matrices are too slow for the full dataset.\n",
        "Q_T = LinearMap((dψ, ψ) -> Q_T_mul!(dψ, ψ, p), p.N^p.M, ismutating = true)\n",
        "Q_T_dense = Matrix(Q_T)\n",
        "Q_T_sparse = sparse(Q_T)\n",
        "b = zeros(p.N^p.M)\n",
        "@btime eigen($Q_T_dense)\n",
        "@btime eigs($Q_T_sparse, nev=1, which=:SM, v0 = iv) setup = (iv = fill(1/(p.N^p.M), p.N^p.M))\n",
        "@btime gmres!(iv, $Q_T, $b) setup = (iv = fill(1/(p.N^p.M), p.N^p.M));"
      ],
      "outputs": [
        {
          "output_type": "stream",
          "name": "stdout",
          "text": [
            "  104.549 ms (272 allocations: 2.28 MiB)\n",
            "  3.080 ms (339 allocations: 1.21 MiB)\n",
            "  210.600 μs (359 allocations: 66.03 KiB)\n"
          ]
        }
      ],
      "execution_count": 64,
      "metadata": {
        "hide-output": false
      }
    },
    {
      "cell_type": "markdown",
      "source": [
        "The differences become even more stark as the matrix grows.  With `default_params(N=5, M=5)` the `gmres` solution is at least 3 orders of magnitude faster, and uses close to 3 orders of magnitude less memory than the dense solver.  In addition, it is The `gmres` is about an order of magnitude faster than the iterative sparse solver approach.\n",
        "\n",
        "The algorithm can solve for the steady state of $ 10^5 $ states in a few seconds"
      ],
      "metadata": {}
    },
    {
      "cell_type": "code",
      "source": [
        "function stationary_ψ(p)\n",
        "    Q_T = LinearMap((dψ, ψ) -> Q_T_mul!(dψ, ψ, p), p.N^p.M, ismutating = true)\n",
        "    ψ = fill(1/(p.N^p.M), p.N^p.M) # can't use 0 as initial guess\n",
        "    sol = gmres!(ψ, Q_T, zeros(p.N^p.M))  # i.e. solve Ax = 0 iteratively\n",
        "    return ψ / sum(ψ)\n",
        "end\n",
        "p = default_params(N=10, M=5)\n",
        "@btime stationary_ψ($p);"
      ],
      "outputs": [
        {
          "output_type": "stream",
          "name": "stdout",
          "text": [
            "  2.627 s (4880 allocations: 19.32 MiB)\n"
          ]
        }
      ],
      "execution_count": 65,
      "metadata": {
        "hide-output": false
      }
    },
    {
      "cell_type": "markdown",
      "source": [
        "As a final demonstration, consider calculating the full evolution of the $ ψ(t) $ Markov chain.  For the constant\n",
        "$ Q' $ matrix, the solution to this system of equations is $ \\psi(t) = \\exp(Q') \\psi(0) $\n",
        "\n",
        "Matrix-free Krylov methods using a technique called [exponential integration](https://en.wikipedia.org/wiki/Exponential_integrator) can solve this for high dimensional problems.\n",
        "\n",
        "For this, we can setup a `MatrixFreeOperator` for our `Q_T_mul!` function (equivalent to the `LinearMap`, but with some additional requirements for the ODE solver) and use the [LinearExponential](http://docs.juliadiffeq.org/latest/solvers/ode_solve.html#Exponential-Methods-for-Linear-and-Affine-Problems-1) time-stepping method."
      ],
      "metadata": {}
    },
    {
      "cell_type": "code",
      "source": [
        "using OrdinaryDiffEq, DiffEqOperators\n",
        "\n",
        "function solve_transition_dynamics(p, t)\n",
        "    @unpack N, M = p\n",
        "\n",
        "    ψ_0 = [1.0; fill(0.0, N^M - 1)]\n",
        "    O! = MatrixFreeOperator((dψ, ψ, p, t) -> Q_T_mul!(dψ, ψ, p), (p, 0.0), size=(N^M,N^M), opnorm=(p)->1.25)\n",
        "\n",
        "    # define the corresponding ODE problem\n",
        "    prob = ODEProblem(O!,ψ_0,(0.0,t[end]), p)\n",
        "    return solve(prob, LinearExponential(krylov=:simple), tstops = t)\n",
        "end\n",
        "t = 0.0:5.0:100.0\n",
        "p = default_params(N=10, M=6)\n",
        "sol = solve_transition_dynamics(p, t)\n",
        "v = solve_bellman(p)\n",
        "plot(t, [dot(sol(tval), v) for tval in t], xlabel = \"t\", label = [\"E_t(v)\"])"
      ],
      "outputs": [
        {
          "output_type": "stream",
          "name": "stderr",
          "text": [
            "┌ Info: Recompiling stale cache file C:\\Users\\jlperla\\.julia\\compiled\\v1.2\\OrdinaryDiffEq\\DlSvy.ji for OrdinaryDiffEq [1dea7af3-3e70-54e6-95c3-0bf5283fa5ed]\n",
            "└ @ Base loading.jl:1240\n",
            "┌ Info: Recompiling stale cache file C:\\Users\\jlperla\\.julia\\compiled\\v1.2\\DiffEqOperators\\Vx3Cs.ji for DiffEqOperators [9fdde737-9c7f-55bf-ade8-46b3f136cc48]\n",
            "└ @ Base loading.jl:1240\n"
          ]
        },
        {
          "output_type": "execute_result",
          "execution_count": 66,
          "data": {
            "image/svg+xml": [
              "<?xml version=\"1.0\" encoding=\"utf-8\"?>\n",
              "<svg xmlns=\"http://www.w3.org/2000/svg\" xmlns:xlink=\"http://www.w3.org/1999/xlink\" width=\"600\" height=\"400\" viewBox=\"0 0 2400 1600\">\n",
              "<defs>\n",
              "  <clipPath id=\"clip4600\">\n",
              "    <rect x=\"0\" y=\"0\" width=\"2400\" height=\"1600\"/>\n",
              "  </clipPath>\n",
              "</defs>\n",
              "<polygon clip-path=\"url(#clip4600)\" points=\"\n",
              "0,1600 2400,1600 2400,0 0,0 \n",
              "  \" fill=\"#ffffff\" fill-rule=\"evenodd\" fill-opacity=\"1\"/>\n",
              "<defs>\n",
              "  <clipPath id=\"clip4601\">\n",
              "    <rect x=\"480\" y=\"0\" width=\"1681\" height=\"1600\"/>\n",
              "  </clipPath>\n",
              "</defs>\n",
              "<polygon clip-path=\"url(#clip4600)\" points=\"\n",
              "220.804,1425.62 2352.76,1425.62 2352.76,47.2441 220.804,47.2441 \n",
              "  \" fill=\"#ffffff\" fill-rule=\"evenodd\" fill-opacity=\"1\"/>\n",
              "<defs>\n",
              "  <clipPath id=\"clip4602\">\n",
              "    <rect x=\"220\" y=\"47\" width=\"2133\" height=\"1379\"/>\n",
              "  </clipPath>\n",
              "</defs>\n",
              "<polyline clip-path=\"url(#clip4602)\" style=\"stroke:#000000; stroke-width:2; stroke-opacity:0.1; fill:none\" points=\"\n",
              "  281.142,1425.62 281.142,47.2441 \n",
              "  \"/>\n",
              "<polyline clip-path=\"url(#clip4602)\" style=\"stroke:#000000; stroke-width:2; stroke-opacity:0.1; fill:none\" points=\"\n",
              "  783.961,1425.62 783.961,47.2441 \n",
              "  \"/>\n",
              "<polyline clip-path=\"url(#clip4602)\" style=\"stroke:#000000; stroke-width:2; stroke-opacity:0.1; fill:none\" points=\"\n",
              "  1286.78,1425.62 1286.78,47.2441 \n",
              "  \"/>\n",
              "<polyline clip-path=\"url(#clip4602)\" style=\"stroke:#000000; stroke-width:2; stroke-opacity:0.1; fill:none\" points=\"\n",
              "  1789.6,1425.62 1789.6,47.2441 \n",
              "  \"/>\n",
              "<polyline clip-path=\"url(#clip4602)\" style=\"stroke:#000000; stroke-width:2; stroke-opacity:0.1; fill:none\" points=\"\n",
              "  2292.42,1425.62 2292.42,47.2441 \n",
              "  \"/>\n",
              "<polyline clip-path=\"url(#clip4602)\" style=\"stroke:#000000; stroke-width:2; stroke-opacity:0.1; fill:none\" points=\"\n",
              "  220.804,1326.25 2352.76,1326.25 \n",
              "  \"/>\n",
              "<polyline clip-path=\"url(#clip4602)\" style=\"stroke:#000000; stroke-width:2; stroke-opacity:0.1; fill:none\" points=\"\n",
              "  220.804,1120.76 2352.76,1120.76 \n",
              "  \"/>\n",
              "<polyline clip-path=\"url(#clip4602)\" style=\"stroke:#000000; stroke-width:2; stroke-opacity:0.1; fill:none\" points=\"\n",
              "  220.804,915.272 2352.76,915.272 \n",
              "  \"/>\n",
              "<polyline clip-path=\"url(#clip4602)\" style=\"stroke:#000000; stroke-width:2; stroke-opacity:0.1; fill:none\" points=\"\n",
              "  220.804,709.785 2352.76,709.785 \n",
              "  \"/>\n",
              "<polyline clip-path=\"url(#clip4602)\" style=\"stroke:#000000; stroke-width:2; stroke-opacity:0.1; fill:none\" points=\"\n",
              "  220.804,504.297 2352.76,504.297 \n",
              "  \"/>\n",
              "<polyline clip-path=\"url(#clip4602)\" style=\"stroke:#000000; stroke-width:2; stroke-opacity:0.1; fill:none\" points=\"\n",
              "  220.804,298.81 2352.76,298.81 \n",
              "  \"/>\n",
              "<polyline clip-path=\"url(#clip4602)\" style=\"stroke:#000000; stroke-width:2; stroke-opacity:0.1; fill:none\" points=\"\n",
              "  220.804,93.3223 2352.76,93.3223 \n",
              "  \"/>\n",
              "<polyline clip-path=\"url(#clip4600)\" style=\"stroke:#000000; stroke-width:4; stroke-opacity:1; fill:none\" points=\"\n",
              "  220.804,1425.62 2352.76,1425.62 \n",
              "  \"/>\n",
              "<polyline clip-path=\"url(#clip4600)\" style=\"stroke:#000000; stroke-width:4; stroke-opacity:1; fill:none\" points=\"\n",
              "  220.804,1425.62 220.804,47.2441 \n",
              "  \"/>\n",
              "<polyline clip-path=\"url(#clip4600)\" style=\"stroke:#000000; stroke-width:4; stroke-opacity:1; fill:none\" points=\"\n",
              "  281.142,1425.62 281.142,1404.94 \n",
              "  \"/>\n",
              "<polyline clip-path=\"url(#clip4600)\" style=\"stroke:#000000; stroke-width:4; stroke-opacity:1; fill:none\" points=\"\n",
              "  783.961,1425.62 783.961,1404.94 \n",
              "  \"/>\n",
              "<polyline clip-path=\"url(#clip4600)\" style=\"stroke:#000000; stroke-width:4; stroke-opacity:1; fill:none\" points=\"\n",
              "  1286.78,1425.62 1286.78,1404.94 \n",
              "  \"/>\n",
              "<polyline clip-path=\"url(#clip4600)\" style=\"stroke:#000000; stroke-width:4; stroke-opacity:1; fill:none\" points=\"\n",
              "  1789.6,1425.62 1789.6,1404.94 \n",
              "  \"/>\n",
              "<polyline clip-path=\"url(#clip4600)\" style=\"stroke:#000000; stroke-width:4; stroke-opacity:1; fill:none\" points=\"\n",
              "  2292.42,1425.62 2292.42,1404.94 \n",
              "  \"/>\n",
              "<polyline clip-path=\"url(#clip4600)\" style=\"stroke:#000000; stroke-width:4; stroke-opacity:1; fill:none\" points=\"\n",
              "  220.804,1326.25 252.783,1326.25 \n",
              "  \"/>\n",
              "<polyline clip-path=\"url(#clip4600)\" style=\"stroke:#000000; stroke-width:4; stroke-opacity:1; fill:none\" points=\"\n",
              "  220.804,1120.76 252.783,1120.76 \n",
              "  \"/>\n",
              "<polyline clip-path=\"url(#clip4600)\" style=\"stroke:#000000; stroke-width:4; stroke-opacity:1; fill:none\" points=\"\n",
              "  220.804,915.272 252.783,915.272 \n",
              "  \"/>\n",
              "<polyline clip-path=\"url(#clip4600)\" style=\"stroke:#000000; stroke-width:4; stroke-opacity:1; fill:none\" points=\"\n",
              "  220.804,709.785 252.783,709.785 \n",
              "  \"/>\n",
              "<polyline clip-path=\"url(#clip4600)\" style=\"stroke:#000000; stroke-width:4; stroke-opacity:1; fill:none\" points=\"\n",
              "  220.804,504.297 252.783,504.297 \n",
              "  \"/>\n",
              "<polyline clip-path=\"url(#clip4600)\" style=\"stroke:#000000; stroke-width:4; stroke-opacity:1; fill:none\" points=\"\n",
              "  220.804,298.81 252.783,298.81 \n",
              "  \"/>\n",
              "<polyline clip-path=\"url(#clip4600)\" style=\"stroke:#000000; stroke-width:4; stroke-opacity:1; fill:none\" points=\"\n",
              "  220.804,93.3223 252.783,93.3223 \n",
              "  \"/>\n",
              "<g clip-path=\"url(#clip4600)\">\n",
              "<text style=\"fill:#000000; fill-opacity:1; font-family:Arial,Helvetica Neue,Helvetica,sans-serif; font-size:48px; text-anchor:middle;\" transform=\"rotate(0, 281.142, 1479.62)\" x=\"281.142\" y=\"1479.62\">0</text>\n",
              "</g>\n",
              "<g clip-path=\"url(#clip4600)\">\n",
              "<text style=\"fill:#000000; fill-opacity:1; font-family:Arial,Helvetica Neue,Helvetica,sans-serif; font-size:48px; text-anchor:middle;\" transform=\"rotate(0, 783.961, 1479.62)\" x=\"783.961\" y=\"1479.62\">25</text>\n",
              "</g>\n",
              "<g clip-path=\"url(#clip4600)\">\n",
              "<text style=\"fill:#000000; fill-opacity:1; font-family:Arial,Helvetica Neue,Helvetica,sans-serif; font-size:48px; text-anchor:middle;\" transform=\"rotate(0, 1286.78, 1479.62)\" x=\"1286.78\" y=\"1479.62\">50</text>\n",
              "</g>\n",
              "<g clip-path=\"url(#clip4600)\">\n",
              "<text style=\"fill:#000000; fill-opacity:1; font-family:Arial,Helvetica Neue,Helvetica,sans-serif; font-size:48px; text-anchor:middle;\" transform=\"rotate(0, 1789.6, 1479.62)\" x=\"1789.6\" y=\"1479.62\">75</text>\n",
              "</g>\n",
              "<g clip-path=\"url(#clip4600)\">\n",
              "<text style=\"fill:#000000; fill-opacity:1; font-family:Arial,Helvetica Neue,Helvetica,sans-serif; font-size:48px; text-anchor:middle;\" transform=\"rotate(0, 2292.42, 1479.62)\" x=\"2292.42\" y=\"1479.62\">100</text>\n",
              "</g>\n",
              "<g clip-path=\"url(#clip4600)\">\n",
              "<text style=\"fill:#000000; fill-opacity:1; font-family:Arial,Helvetica Neue,Helvetica,sans-serif; font-size:48px; text-anchor:end;\" transform=\"rotate(0, 196.804, 1343.75)\" x=\"196.804\" y=\"1343.75\">5000</text>\n",
              "</g>\n",
              "<g clip-path=\"url(#clip4600)\">\n",
              "<text style=\"fill:#000000; fill-opacity:1; font-family:Arial,Helvetica Neue,Helvetica,sans-serif; font-size:48px; text-anchor:end;\" transform=\"rotate(0, 196.804, 1138.26)\" x=\"196.804\" y=\"1138.26\">6000</text>\n",
              "</g>\n",
              "<g clip-path=\"url(#clip4600)\">\n",
              "<text style=\"fill:#000000; fill-opacity:1; font-family:Arial,Helvetica Neue,Helvetica,sans-serif; font-size:48px; text-anchor:end;\" transform=\"rotate(0, 196.804, 932.772)\" x=\"196.804\" y=\"932.772\">7000</text>\n",
              "</g>\n",
              "<g clip-path=\"url(#clip4600)\">\n",
              "<text style=\"fill:#000000; fill-opacity:1; font-family:Arial,Helvetica Neue,Helvetica,sans-serif; font-size:48px; text-anchor:end;\" transform=\"rotate(0, 196.804, 727.285)\" x=\"196.804\" y=\"727.285\">8000</text>\n",
              "</g>\n",
              "<g clip-path=\"url(#clip4600)\">\n",
              "<text style=\"fill:#000000; fill-opacity:1; font-family:Arial,Helvetica Neue,Helvetica,sans-serif; font-size:48px; text-anchor:end;\" transform=\"rotate(0, 196.804, 521.797)\" x=\"196.804\" y=\"521.797\">9000</text>\n",
              "</g>\n",
              "<g clip-path=\"url(#clip4600)\">\n",
              "<text style=\"fill:#000000; fill-opacity:1; font-family:Arial,Helvetica Neue,Helvetica,sans-serif; font-size:48px; text-anchor:end;\" transform=\"rotate(0, 196.804, 316.31)\" x=\"196.804\" y=\"316.31\">10000</text>\n",
              "</g>\n",
              "<g clip-path=\"url(#clip4600)\">\n",
              "<text style=\"fill:#000000; fill-opacity:1; font-family:Arial,Helvetica Neue,Helvetica,sans-serif; font-size:48px; text-anchor:end;\" transform=\"rotate(0, 196.804, 110.822)\" x=\"196.804\" y=\"110.822\">11000</text>\n",
              "</g>\n",
              "<g clip-path=\"url(#clip4600)\">\n",
              "<text style=\"fill:#000000; fill-opacity:1; font-family:Arial,Helvetica Neue,Helvetica,sans-serif; font-size:66px; text-anchor:middle;\" transform=\"rotate(0, 1286.78, 1559.48)\" x=\"1286.78\" y=\"1559.48\">t</text>\n",
              "</g>\n",
              "<polyline clip-path=\"url(#clip4602)\" style=\"stroke:#009af9; stroke-width:4; stroke-opacity:1; fill:none\" points=\"\n",
              "  281.142,1386.61 381.706,1293.11 482.27,1204.28 582.833,1119.36 683.397,1037.61 783.961,958.632 884.525,882.209 985.089,808.266 1085.65,736.798 1186.22,667.845 \n",
              "  1286.78,601.468 1387.34,537.729 1487.91,476.687 1588.47,418.381 1689.03,362.834 1789.6,310.048 1890.16,260.003 1990.73,212.663 2091.29,167.973 2191.85,125.864 \n",
              "  2292.42,86.2547 \n",
              "  \"/>\n",
              "<polygon clip-path=\"url(#clip4600)\" points=\"\n",
              "1912.38,251.724 2280.76,251.724 2280.76,130.764 1912.38,130.764 \n",
              "  \" fill=\"#ffffff\" fill-rule=\"evenodd\" fill-opacity=\"1\"/>\n",
              "<polyline clip-path=\"url(#clip4600)\" style=\"stroke:#000000; stroke-width:4; stroke-opacity:1; fill:none\" points=\"\n",
              "  1912.38,251.724 2280.76,251.724 2280.76,130.764 1912.38,130.764 1912.38,251.724 \n",
              "  \"/>\n",
              "<polyline clip-path=\"url(#clip4600)\" style=\"stroke:#009af9; stroke-width:4; stroke-opacity:1; fill:none\" points=\"\n",
              "  1936.38,191.244 2080.38,191.244 \n",
              "  \"/>\n",
              "<g clip-path=\"url(#clip4600)\">\n",
              "<text style=\"fill:#000000; fill-opacity:1; font-family:Arial,Helvetica Neue,Helvetica,sans-serif; font-size:48px; text-anchor:start;\" transform=\"rotate(0, 2104.38, 208.744)\" x=\"2104.38\" y=\"208.744\">E_t(v)</text>\n",
              "</g>\n",
              "</svg>\n"
            ]
          },
          "metadata": {}
        }
      ],
      "execution_count": 66,
      "metadata": {
        "hide-output": false
      }
    },
    {
      "cell_type": "markdown",
      "source": [
        "The above plot (1) calculates the full dynamics of the Markov chain from the $ n_m = 1 $ for all $ m $ initial condition; (2) solves the dynamics of a system of one-million ODEs; and; (3) uses the calculation of the Bellman equation to find the expected valuation during that transition.  The entire process takes less than 30 seconds."
      ],
      "metadata": {}
    },
    {
      "cell_type": "code",
      "source": [],
      "outputs": [],
      "execution_count": null,
      "metadata": {}
    }
  ],
  "metadata": {
    "date": 1573254066.559103,
    "filename": "iterative_methods_sparsity.rst",
    "kernelspec": {
      "name": "julia-1.2",
      "language": "julia",
      "display_name": "Julia 1.2.0"
    },
    "language_info": {
      "file_extension": ".jl",
      "name": "julia",
      "mimetype": "application/julia",
      "version": "1.2.0"
    },
    "title": "Krylov Methods and Matrix Conditioning",
    "kernel_info": {
      "name": "julia-1.2"
    },
    "nteract": {
      "version": "0.15.0"
    }
  },
  "nbformat": 4,
  "nbformat_minor": 4
}